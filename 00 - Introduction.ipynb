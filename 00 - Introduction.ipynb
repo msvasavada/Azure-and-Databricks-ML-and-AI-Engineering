{
 "cells": [
  {
   "cell_type": "markdown",
   "metadata": {
    "application/vnd.databricks.v1+cell": {
     "cellMetadata": {},
     "inputWidgets": {},
     "nuid": "85f229f8-363e-458d-aea3-99e0c6dede0a",
     "showTitle": false,
     "tableResultSettingsMap": {},
     "title": ""
    }
   },
   "source": [
    "## Let's start with a business problem:\n",
    "\n",
    "## *Building a Customer 360 database and reducing customer churn with the Databricks Lakehouse*\n",
    "\n",
    "In this demo, we'll step in the shoes of a retail company selling goods with a recurring business.\n",
    "\n",
    "The business has determined that the focus must be placed on churn. We're asked to:\n",
    "\n",
    "* Analyse and explain current customer churn: quantify churn, trends and the impact for the business\n",
    "* Build a proactive system to forecast and reduce churn by taking automated action: targeted email, phoning etc.\n",
    "\n",
    "\n",
    "### What we'll build\n",
    "\n",
    "To do so, we'll build an end-to-end solution with the Lakehouse. To be able to properly analyse and predict our customer churn, we need information coming from different external systems: Customer profiles coming from our website, order details from our ERP system and mobile application clickstream to analyse our customers activity.\n",
    "\n",
    "At a very high level, this is the flow we'll implement:\n",
    "\n",
    "<img width=\"1000px\" src=\"https://github.com/databricks-demos/dbdemos-resources/raw/main/images/retail/lakehouse-churn/lakehouse-retail-c360-churn-0.png\" />\n",
    "\n",
    "1. Ingest and create our Customer 360 database, with tables easy to query in SQL\n",
    "2. Secure data and grant read access to the Data Analyst and Data Science teams.\n",
    "3. Run BI queries to analyse existing churn\n",
    "4. Build ML model to predict which customer is going to churn and why\n",
    "\n",
    "As a result, we will have all the information required to trigger custom actions to increase retention (email personalized, special offers, phone call...)\n",
    "\n",
    "### Our dataset\n",
    "\n",
    "For simplicity, we will assume that an external system is periodically sending data into our blob cloud storage:\n",
    "\n",
    "- Customer profile data *(name, age, address etc)*\n",
    "- Orders history *(what ours customers have bought over time)*\n",
    "- Events from our application *(when was the last time a customer used the application, what clics were recorded, typically collected through a stream)*\n",
    "\n",
    "*Note that at our data could be arriving from any source. Databricks can ingest data from any system (SalesForce, Fivetran, queuing message like kafka, blob storage, SQL & NoSQL databases...).*"
   ]
  },
  {
   "cell_type": "markdown",
   "metadata": {
    "application/vnd.databricks.v1+cell": {
     "cellMetadata": {},
     "inputWidgets": {},
     "nuid": "7287f03e-780c-4caf-aee5-eaa1f0a4500d",
     "showTitle": false,
     "tableResultSettingsMap": {},
     "title": ""
    }
   },
   "source": [
    "### Raw data generation\n",
    "\n",
    "For this demonstration we will not be using real data or an existing dataset, but will rather generate them.\n",
    "\n",
    "The cell below will execute a notebook that will generate the data and store it in a S3 bucket and governed by a unity catalog volume.\n"
   ]
  },
  {
   "cell_type": "code",
   "execution_count": 0,
   "metadata": {
    "application/vnd.databricks.v1+cell": {
     "cellMetadata": {
      "byteLimit": 2048000,
      "rowLimit": 10000
     },
     "inputWidgets": {},
     "nuid": "51f4fd03-e1f7-4214-a66c-09cfb5700aaf",
     "showTitle": false,
     "tableResultSettingsMap": {},
     "title": ""
    }
   },
   "outputs": [
    {
     "output_type": "stream",
     "name": "stdout",
     "output_type": "stream",
     "text": [
      "Collecting Faker\n  Obtaining dependency information for Faker from https://files.pythonhosted.org/packages/c0/c3/0451555e7a9a233bc17f128cff7654ec60036d4ccbb8397dd949f28df176/Faker-33.0.0-py3-none-any.whl.metadata\n  Downloading Faker-33.0.0-py3-none-any.whl.metadata (15 kB)\nRequirement already satisfied: python-dateutil>=2.4 in /databricks/python3/lib/python3.11/site-packages (from Faker) (2.8.2)\nRequirement already satisfied: typing-extensions in /databricks/python3/lib/python3.11/site-packages (from Faker) (4.10.0)\nRequirement already satisfied: six>=1.5 in /usr/lib/python3/dist-packages (from python-dateutil>=2.4->Faker) (1.16.0)\nDownloading Faker-33.0.0-py3-none-any.whl (1.9 MB)\n\u001B[?25l   \u001B[90m━━━━━━━━━━━━━━━━━━━━━━━━━━━━━━━━━━━━━━━━\u001B[0m \u001B[32m0.0/1.9 MB\u001B[0m \u001B[31m?\u001B[0m eta \u001B[36m-:--:--\u001B[0m\n\u001B[2K   \u001B[91m━━━\u001B[0m\u001B[90m╺\u001B[0m\u001B[90m━━━━━━━━━━━━━━━━━━━━━━━━━━━━━━━━━━━━\u001B[0m \u001B[32m0.2/1.9 MB\u001B[0m \u001B[31m4.4 MB/s\u001B[0m eta \u001B[36m0:00:01\u001B[0m\n\u001B[2K   \u001B[90m━━━━━━━━━━━━━━━━━━━━━━━━━━━━━━━━━━━━━━━━\u001B[0m \u001B[32m1.9/1.9 MB\u001B[0m \u001B[31m28.5 MB/s\u001B[0m eta \u001B[36m0:00:00\u001B[0m\n\u001B[?25hInstalling collected packages: Faker\nSuccessfully installed Faker-33.0.0\n\u001B[43mNote: you may need to restart the kernel using %restart_python or dbutils.library.restartPython() to use updated packages.\u001B[0m\n"
     ]
    },
    {
     "output_type": "stream",
     "name": "stdout",
     "output_type": "stream",
     "text": [
      "Generating the raw data\n"
     ]
    },
    {
     "output_type": "display_data",
     "data": {
      "image/png": "[encoded data removed]",
      "text/plain": [
       "<Figure size 640x480 with 1 Axes>"
      ]
     },
     "metadata": {},
     "output_type": "display_data"
    },
    {
     "output_type": "stream",
     "name": "stdout",
     "output_type": "stream",
     "text": [
      "Generated 178061 orders and  712244 actions for 101333 users\n"
     ]
    }
   ],
   "source": [
    "%run ./includes/CreateRawData"
   ]
  },
  {
   "cell_type": "code",
   "execution_count": 0,
   "metadata": {
    "application/vnd.databricks.v1+cell": {
     "cellMetadata": {
      "byteLimit": 2048000,
      "rowLimit": 10000
     },
     "inputWidgets": {},
     "nuid": "48bcce3d-985c-414c-ab3e-21a91fc5608d",
     "showTitle": true,
     "tableResultSettingsMap": {},
     "title": "The raw data on the volume"
    }
   },
   "outputs": [
    {
     "output_type": "stream",
     "name": "stdout",
     "output_type": "stream",
     "text": [
      "Order raw data stored under the folder \"/Volumes/main/odl_user_1513183_databrickslabs_com_retail/retail/orders\"\nUser raw data stored under the folder \"/Volumes/main/odl_user_1513183_databrickslabs_com_retail/retail/users\"\nWebsite event raw data stored under the folder \"/Volumes/main/odl_user_1513183_databrickslabs_com_retail/retail/events\"\n"
     ]
    }
   ],
   "source": [
    "ordersFolder = rawDataVolume + '/orders'\n",
    "usersFolder = rawDataVolume + '/users'\n",
    "eventsFolder = rawDataVolume + '/events'\n",
    "print('Order raw data stored under the folder \"' + ordersFolder + '\"')\n",
    "print('User raw data stored under the folder \"' + usersFolder + '\"')\n",
    "print('Website event raw data stored under the folder \"' + eventsFolder + '\"')"
   ]
  },
  {
   "cell_type": "markdown",
   "metadata": {
    "application/vnd.databricks.v1+cell": {
     "cellMetadata": {},
     "inputWidgets": {},
     "nuid": "43fe4d6c-c1ba-44ed-8c58-5f5717921430",
     "showTitle": false,
     "tableResultSettingsMap": {},
     "title": ""
    }
   },
   "source": [
    "## What we are going to implement\n",
    "\n",
    "We will initially load the raw data with the autoloader,\n",
    "perform some cleaning and enrichment operations,\n",
    "develop and load a model from MLFlow to predict our customer churn,\n",
    "and finally use this information to build our DBSQL dashboard to track customer behavior and churn.\n",
    " \n",
    "<div><img width=\"1100px\" src=\"https://raw.githubusercontent.com/QuentinAmbard/databricks-demo/main/retail/resources/images/lakehouse-retail/lakehouse-retail-churn-de-delta.png\"/></div>"
   ]
  },
  {
   "cell_type": "markdown",
   "metadata": {
    "application/vnd.databricks.v1+cell": {
     "cellMetadata": {},
     "inputWidgets": {},
     "nuid": "18b7cb70-1013-4387-bf87-db3b8660be6a",
     "showTitle": false,
     "tableResultSettingsMap": {},
     "title": ""
    }
   },
   "source": [
    "### Let's start with\n",
    "[Data Engineering with Delta]($./01 - Data Engineering with Delta)"
   ]
  }
 ],
 "metadata": {
  "application/vnd.databricks.v1+notebook": {
   "dashboards": [],
   "environmentMetadata": null,
   "language": "python",
   "notebookMetadata": {
    "pythonIndentUnit": 2
   },
   "notebookName": "00 - Introduction",
   "widgets": {}
  },
  "language_info": {
   "name": "python"
  }
 },
 "nbformat": 4,
 "nbformat_minor": 0
}
