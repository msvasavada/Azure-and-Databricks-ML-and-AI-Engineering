{
 "cells": [
  {
   "cell_type": "code",
   "execution_count": 0,
   "metadata": {
    "application/vnd.databricks.v1+cell": {
     "cellMetadata": {},
     "inputWidgets": {},
     "nuid": "51c4e21c-452b-4f30-add3-0b249b444c19",
     "showTitle": false,
     "tableResultSettingsMap": {},
     "title": ""
    }
   },
   "outputs": [],
   "source": [
    "# INSTALL_LIBRARIES\n",
    "version = \"v3.0.69\"\n",
    "if not version.startswith(\"v\"): library_url = f\"git+https://github.com/databricks-academy/dbacademy@{version}\"\n",
    "else: library_url = f\"https://github.com/databricks-academy/dbacademy/releases/download/{version}/dbacademy-{version[1:]}-py3-none-any.whl\"\n",
    "pip_command = f\"install --quiet --disable-pip-version-check {library_url}\""
   ]
  },
  {
   "cell_type": "code",
   "execution_count": 0,
   "metadata": {
    "application/vnd.databricks.v1+cell": {
     "cellMetadata": {},
     "inputWidgets": {},
     "nuid": "917afe65-0854-4f74-8940-a30b5330685f",
     "showTitle": false,
     "tableResultSettingsMap": {},
     "title": ""
    }
   },
   "outputs": [],
   "source": [
    "%pip $pip_command"
   ]
  },
  {
   "cell_type": "code",
   "execution_count": 0,
   "metadata": {
    "application/vnd.databricks.v1+cell": {
     "cellMetadata": {},
     "inputWidgets": {},
     "nuid": "0050ac3e-98d7-40ad-9730-2952ee3008e8",
     "showTitle": false,
     "tableResultSettingsMap": {},
     "title": ""
    }
   },
   "outputs": [],
   "source": [
    "%run ./_dataset_index"
   ]
  },
  {
   "cell_type": "code",
   "execution_count": 0,
   "metadata": {
    "application/vnd.databricks.v1+cell": {
     "cellMetadata": {},
     "inputWidgets": {},
     "nuid": "b0c1d9a0-6829-4135-b6ea-deee072d9408",
     "showTitle": false,
     "tableResultSettingsMap": {},
     "title": ""
    }
   },
   "outputs": [],
   "source": [
    "from dbacademy import dbgems\n",
    "from dbacademy.dbhelper import DBAcademyHelper, Paths, CourseConfig, LessonConfig\n",
    "\n",
    "course_config = CourseConfig(course_code = \"gsml\",\n",
    "                             course_name = \"get-started-with-databricks-for-machine-learning\",\n",
    "                             data_source_name = \"get-started-with-databricks-for-machine-learning\",\n",
    "                             data_source_version = \"v01\",\n",
    "                             install_min_time = \"1 min\",\n",
    "                             install_max_time = \"5 min\",\n",
    "                             remote_files = remote_files,\n",
    "                             supported_dbrs = [\"15.4.x-cpu-ml-scala2.12\"],\n",
    "                             expected_dbrs = \"{{supported_dbrs}}\")\n",
    "\n",
    "\n",
    "lesson_config = LessonConfig(name = None,\n",
    "                             create_schema = False,\n",
    "                             create_catalog = True,\n",
    "                             requires_uc = True,\n",
    "                             installing_datasets = True,\n",
    "                             enable_streaming_support = False,\n",
    "                             enable_ml_support = False)"
   ]
  }
 ],
 "metadata": {
  "application/vnd.databricks.v1+notebook": {
   "dashboards": [],
   "environmentMetadata": null,
   "language": "python",
   "notebookMetadata": {
    "pythonIndentUnit": 2
   },
   "notebookName": "_common",
   "widgets": {}
  },
  "language_info": {
   "name": "python"
  }
 },
 "nbformat": 4,
 "nbformat_minor": 0
}