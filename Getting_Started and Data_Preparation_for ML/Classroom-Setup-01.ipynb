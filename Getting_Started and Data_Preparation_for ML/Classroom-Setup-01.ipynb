{
 "cells": [
  {
   "cell_type": "code",
   "execution_count": 0,
   "metadata": {
    "application/vnd.databricks.v1+cell": {
     "cellMetadata": {},
     "inputWidgets": {},
     "nuid": "bc853da9-af0f-4f71-9f8d-3bfc4bf2241d",
     "showTitle": false,
     "tableResultSettingsMap": {},
     "title": ""
    }
   },
   "outputs": [],
   "source": [
    "%run ./_common"
   ]
  },
  {
   "cell_type": "code",
   "execution_count": 0,
   "metadata": {
    "application/vnd.databricks.v1+cell": {
     "cellMetadata": {},
     "inputWidgets": {},
     "nuid": "8cb7b9a7-779d-455b-8d2c-e5376d2b15ba",
     "showTitle": false,
     "tableResultSettingsMap": {},
     "title": ""
    }
   },
   "outputs": [],
   "source": [
    "# create a sample table to be used for the lesson\n",
    "def create_customers_table(self):\n",
    "    spark.sql(f\"USE CATALOG {DA.catalog_name};\")\n",
    "\n",
    "    spark.sql(f\"\"\"\n",
    "        CREATE OR REPLACE TEMPORARY VIEW `temp-retail-customers`\n",
    "        USING csv\n",
    "        OPTIONS (\n",
    "        path \"{DA.paths.datasets}/retail/customers.csv\",\n",
    "        header \"true\",\n",
    "        inferSchema \"true\"\n",
    "        )\n",
    "    \"\"\")\n",
    "\n",
    "    spark.sql(f\"\"\"\n",
    "        CREATE OR REPLACE TABLE `retail-customers` AS\n",
    "        SELECT * FROM `temp-retail-customers`;\n",
    "    \"\"\")\n",
    "\n",
    "    print(\"Customers table created successfully!\")\n",
    "DBAcademyHelper.monkey_patch(create_customers_table)"
   ]
  },
  {
   "cell_type": "code",
   "execution_count": 0,
   "metadata": {
    "application/vnd.databricks.v1+cell": {
     "cellMetadata": {},
     "inputWidgets": {},
     "nuid": "c5db6edc-6519-4641-8d09-b3ba2c3f2562",
     "showTitle": false,
     "tableResultSettingsMap": {},
     "title": ""
    }
   },
   "outputs": [],
   "source": [
    "DA = DBAcademyHelper(course_config, lesson_config)  # Create the DA object\n",
    "DA.reset_lesson()                                   # Reset the lesson to a clean state\n",
    "DA.init()                                           # Performs basic intialization including creating schemas and catalogs\n",
    "DA.conclude_setup()                                 # Finalizes the state and prints the config for the student"
   ]
  }
 ],
 "metadata": {
  "application/vnd.databricks.v1+notebook": {
   "dashboards": [],
   "environmentMetadata": null,
   "language": "python",
   "notebookMetadata": {
    "pythonIndentUnit": 2
   },
   "notebookName": "Classroom-Setup-01",
   "widgets": {}
  },
  "language_info": {
   "name": "python"
  }
 },
 "nbformat": 4,
 "nbformat_minor": 0
}