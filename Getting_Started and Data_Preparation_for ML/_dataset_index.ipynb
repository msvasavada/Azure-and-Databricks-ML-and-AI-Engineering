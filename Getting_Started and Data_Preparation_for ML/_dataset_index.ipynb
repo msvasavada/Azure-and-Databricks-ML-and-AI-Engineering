{
 "cells": [
  {
   "cell_type": "code",
   "execution_count": 0,
   "metadata": {
    "application/vnd.databricks.v1+cell": {
     "cellMetadata": {},
     "inputWidgets": {},
     "nuid": "fcf90a18-af9d-4f79-b525-e4df337e0d26",
     "showTitle": false,
     "tableResultSettingsMap": {},
     "title": ""
    }
   },
   "outputs": [],
   "source": [
    "# This is an index of all files in this course's datsets and is used to\n",
    "# validate the local copy of datsets after an install and thus precluding\n",
    "# the need to reach out to remote repos which may be blocked in some\n",
    "# workspaces as is common in the Fed and Financial sector's workspaces\n",
    "\n",
    "remote_files = [\"/retail/\", \"/retail/README.md\", \"/retail/customers.csv\", \n",
    "                \"/telco/\", \"/telco/README.md\", \"/telco/customer-details.csv\", \"/telco/customer-demographics.csv\"]"
   ]
  }
 ],
 "metadata": {
  "application/vnd.databricks.v1+notebook": {
   "dashboards": [],
   "environmentMetadata": null,
   "language": "python",
   "notebookMetadata": {
    "pythonIndentUnit": 2
   },
   "notebookName": "_dataset_index",
   "widgets": {}
  },
  "language_info": {
   "name": "python"
  }
 },
 "nbformat": 4,
 "nbformat_minor": 0
}