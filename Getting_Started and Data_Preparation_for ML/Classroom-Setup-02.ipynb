{
 "cells": [
  {
   "cell_type": "code",
   "execution_count": 0,
   "metadata": {
    "application/vnd.databricks.v1+cell": {
     "cellMetadata": {},
     "inputWidgets": {},
     "nuid": "09e8d8ec-e1a0-49c4-b097-0bda3647c1a3",
     "showTitle": false,
     "tableResultSettingsMap": {},
     "title": ""
    }
   },
   "outputs": [],
   "source": [
    "%run ./_common"
   ]
  },
  {
   "cell_type": "code",
   "execution_count": 0,
   "metadata": {
    "application/vnd.databricks.v1+cell": {
     "cellMetadata": {},
     "inputWidgets": {},
     "nuid": "8490edd7-40fb-4ebd-9408-2b0bee8fb3dc",
     "showTitle": false,
     "tableResultSettingsMap": {},
     "title": ""
    }
   },
   "outputs": [],
   "source": [
    "# create a sample table to be used for the lesson\n",
    "def create_customers_table(self):\n",
    "    from pyspark.sql.functions import col\n",
    "\n",
    "    df_customer_demographics = (spark.read.csv(f\"{DA.paths.datasets}/telco/customer-demographics.csv\", header=True, inferSchema=True)\n",
    "                                .withColumnRenamed('gender',\"Gender\")\n",
    "                                .withColumnRenamed('customerID','CustomerID'))\n",
    "\n",
    "    df_customer_details = (spark.read.csv(f\"{DA.paths.datasets}/telco/customer-details.csv\", header=True, inferSchema=True)\n",
    "                           .withColumnRenamed('CustomerID', 'id'))\n",
    "\n",
    "    df_customers = (df_customer_demographics.join(df_customer_details, col('customerID') == col('id'))\n",
    "                    .select('CustomerID', 'Gender','SeniorCitizen','PhoneService', 'MultipleLines','PaymentMethod','MonthlyCharges', 'Churn'))\n",
    "\n",
    "    experiment_data, predict_data = df_customers.randomSplit([0.99, 0.01], seed=42)\n",
    "    \n",
    "    #save to catalog\n",
    "    spark.sql(f\"USE CATALOG {DA.catalog_name}\")\n",
    "    experiment_data.write.mode('overwrite').saveAsTable('customers')\n",
    "    \n",
    "DBAcademyHelper.monkey_patch(create_customers_table)"
   ]
  },
  {
   "cell_type": "code",
   "execution_count": 0,
   "metadata": {
    "application/vnd.databricks.v1+cell": {
     "cellMetadata": {},
     "inputWidgets": {},
     "nuid": "a31b2fe5-a142-43e7-9d8c-f301f1a232cf",
     "showTitle": false,
     "tableResultSettingsMap": {},
     "title": ""
    }
   },
   "outputs": [],
   "source": [
    "DA = DBAcademyHelper(course_config, lesson_config)  # Create the DA object\n",
    "DA.reset_lesson()                                   # Reset the lesson to a clean state\n",
    "DA.init()                                           # Performs basic intialization including creating schemas and catalogs\n",
    "DA.conclude_setup()                                 # Finalizes the state and prints the config for the student"
   ]
  }
 ],
 "metadata": {
  "application/vnd.databricks.v1+notebook": {
   "dashboards": [],
   "environmentMetadata": null,
   "language": "python",
   "notebookMetadata": {
    "pythonIndentUnit": 2
   },
   "notebookName": "Classroom-Setup-02",
   "widgets": {}
  },
  "language_info": {
   "name": "python"
  }
 },
 "nbformat": 4,
 "nbformat_minor": 0
}