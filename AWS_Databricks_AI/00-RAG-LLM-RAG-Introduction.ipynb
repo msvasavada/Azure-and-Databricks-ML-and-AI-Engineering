{
 "cells": [
  {
   "cell_type": "markdown",
   "metadata": {
    "application/vnd.databricks.v1+cell": {
     "cellMetadata": {},
     "inputWidgets": {},
     "nuid": "1397e481-9214-4f8d-8145-1607908f9b0d",
     "showTitle": false,
     "tableResultSettingsMap": {},
     "title": ""
    }
   },
   "source": [
    "# Deploy Your LLM Chatbots with Mosaic AI Agent Evaluation and Lakehouse Applications\n",
    "\n",
    "In this tutorial, you will learn how to build your own Chatbot Assisstant to help your customers answer questions about Databricks, using Retrieval Augmented Generation (RAG), Databricks State of The Art LLM DBRX Instruct Foundation Model Vector Search.\n",
    "\n",
    "<!-- Collect usage data (view). Remove it to disable collection or disable tracker during installation. View README for more details.  -->\n",
    "<img width=\"1px\" src=\"https://ppxrzfxige.execute-api.us-west-2.amazonaws.com/v1/analytics?category=data-science&org_id=627755894646828&notebook=%2F00-RAG-LLM-RAG-Introduction&demo_name=llm-rag-chatbot&event=VIEW&path=%2F_dbdemos%2Fdata-science%2Fllm-rag-chatbot%2F00-RAG-LLM-RAG-Introduction&version=1\">"
   ]
  },
  {
   "cell_type": "markdown",
   "metadata": {
    "application/vnd.databricks.v1+cell": {
     "cellMetadata": {},
     "inputWidgets": {},
     "nuid": "dd8fc435-b139-43ac-9667-f7372e8fc3c5",
     "showTitle": false,
     "tableResultSettingsMap": {},
     "title": ""
    }
   },
   "source": [
    "\n",
    "# Scaling your business with a GenAI-Powered Assistant and DBRX Instruct\n",
    "\n",
    "LLMs are disrupting the way we interact with information, from internal knowledge bases to external, customer-facing documentation or support.\n",
    " \n",
    "<img src=\"https://github.com/databricks-demos/dbdemos-resources/blob/main/images/product/chatbot-rag/moisaic-logo.png?raw=true\" width=\"100px\" style=\"float: right\" />\n",
    "\n",
    "While ChatGPT democratized LLM-based chatbots for consumer use, companies need to deploy personalized models that answer their needs:\n",
    "\n",
    "- Privacy requirements on sensitive information\n",
    "- Preventing hallucination\n",
    "- Specialized content, not available on the Internet\n",
    "- Specific behavior for customer tasks\n",
    "- Control over speed and cost\n",
    "- Deploy models on private infrastructure for security reasons\n",
    "\n",
    "## Introducing Mosaic AI Agent Evaluation\n",
    "\n",
    "To solve these challenges, custom knowledge bases and models need to be deployed. However, doing so at scale isn't simple and requires:\n",
    "\n",
    "- Ingesting and transforming massive amounts of data \n",
    "- Ensuring privacy and security across your data pipeline\n",
    "- Deploying systems such as Vector Search Index \n",
    "- Having access to GPUs and deploying efficient LLMs for inference serving\n",
    "- Training and deploying custom models\n",
    "- Evaluating your RAG application\n",
    "\n",
    "This is where the Databricks AI comes in. Databricks simplifies all these steps so that you can focus on building your final model, with the best prompts and performance.\n",
    "\n",
    "\n",
    "## GenAI & Maturity curve\n",
    "\n",
    "<img src=\"https://github.com/databricks-demos/dbdemos-resources/blob/main/images/product/chatbot-rag/llm-rag-maturity.png?raw=true\" width=\"600px\" style=\"float:right\"/>\n",
    "\n",
    "Deploying GenAI can be done in multiple ways:\n",
    "\n",
    "- **Prompt engineering on public APIs (e.g. Databricks DBRX Instruct, LLama 2, openAI)**: answer from public information, retail (think ChatGPT)\n",
    "- **Retrieval Augmented Generation (RAG)**: specialize your model with additional content. *This is what we'll focus on in this demo*\n",
    "- **OSS model Fine tuning**: when you have a large corpus of custom data and need specific model behavior (execute a task)\n",
    "- **Train your own LLM**: for full control on the underlying data sources of the model (biomedical, Code, Finance...)\n",
    "\n",
    "\n",
    "<!-- Collect usage data (view). Remove it to disable collection or disable tracker during installation. View README for more details.  -->\n",
    "<img width=\"1px\" src=\"https://ppxrzfxige.execute-api.us-west-2.amazonaws.com/v1/analytics?category=data-science&org_id=627755894646828&notebook=%2F00-RAG-LLM-RAG-Introduction&demo_name=llm-rag-chatbot&event=VIEW&path=%2F_dbdemos%2Fdata-science%2Fllm-rag-chatbot%2F00-RAG-LLM-RAG-Introduction&version=1\">"
   ]
  },
  {
   "cell_type": "markdown",
   "metadata": {
    "application/vnd.databricks.v1+cell": {
     "cellMetadata": {},
     "inputWidgets": {},
     "nuid": "407f2f0d-c0e7-48e7-b1bb-8d163249b68a",
     "showTitle": false,
     "tableResultSettingsMap": {},
     "title": ""
    }
   },
   "source": [
    "## What is Retrieval Augmented Generation (RAG) for LLMs?\n",
    "\n",
    "<img src=\"https://github.com/databricks-demos/dbdemos-resources/blob/main/images/product/chatbot-rag/rag-marchitecture.png?raw=true\" width=\"700px\" style=\"float: right\" />\n",
    "\n",
    "RAG is a powerful and efficient GenAI technique that allows you to improve model performance by leveraging your own data (e.g., documentation specific to your business), without the need to fine-tune the model.\n",
    "\n",
    "This is done by providing your custom information as context to the LLM. This reduces hallucination and allows the LLM to produce results that provide company-specific data, without making any changes to the original LLM.\n",
    "\n",
    "RAG has shown success in chatbots and Q&A systems that need to maintain up-to-date information or access domain-specific knowledge.\n",
    "\n",
    "### RAG and Vector Search\n",
    "\n",
    "To be able to provide additional context to our LLM, we need to search for documents/articles where the answer to our user question might be.\n",
    "To do so,  a common solution is to deploy a vector database. This involves the creation of document embeddings, vectors of fixed size representing your document.<br/>\n",
    "The vectors will then be used to perform real-time similarity search during inference.\n"
   ]
  },
  {
   "cell_type": "markdown",
   "metadata": {
    "application/vnd.databricks.v1+cell": {
     "cellMetadata": {},
     "inputWidgets": {},
     "nuid": "c507a85a-1507-4a63-be43-862d5e736d15",
     "showTitle": false,
     "tableResultSettingsMap": {},
     "title": ""
    }
   },
   "source": [
    "## 01-First Step: Deploy and test your first RAG application in 10minutes\n",
    "\n",
    "<img src=\"https://github.com/databricks-demos/dbdemos-resources/blob/main/images/product/chatbot-rag/rag-basic.png?raw=true\" style=\"float: right\"  width=\"700px;\">\n",
    "New to RAG and Mosaic AI Quality Labs? Start here if this is your first time implementing a GenAI application leveraging Databricks DBRX.\n",
    "\n",
    "You will learn:\n",
    "\n",
    "- Create your Vector Search index and send queries to find similar documents\n",
    "- Build your langchain model leveraging Databricks Foundation Model (DBRX Instruct)\n",
    "- Deploy and test your Chatbot with Databricks review app"
   ]
  },
  {
   "cell_type": "markdown",
   "metadata": {
    "application/vnd.databricks.v1+cell": {
     "cellMetadata": {},
     "inputWidgets": {},
     "nuid": "dde6f611-23b6-4eb9-9f5e-00100c7ba578",
     "showTitle": false,
     "tableResultSettingsMap": {},
     "title": ""
    }
   },
   "source": [
    "\n",
    "Get started: open the [01-first-step/01-First-Step-RAG-On-Databricks]($./01-first-step/01-First-Step-RAG-On-Databricks)."
   ]
  },
  {
   "cell_type": "markdown",
   "metadata": {
    "application/vnd.databricks.v1+cell": {
     "cellMetadata": {},
     "inputWidgets": {},
     "nuid": "2b5c23a2-fe57-46f0-8d11-6438042ca2c0",
     "showTitle": false,
     "tableResultSettingsMap": {},
     "title": ""
    }
   },
   "source": [
    "## 02-Simple Rag App: Build a production-grade RAG application\n",
    "\n",
    "Start here if this is your first time implementing a GenAI application leveraging Databricks DBRX, our State Of the Art LLM, open and Available as a model serving endpoint.\n",
    "\n",
    "<img src=\"https://github.com/databricks-demos/dbdemos-resources/blob/main/images/product/chatbot-rag/rag-frontend-app-0.png?raw=true\" style=\"float: right\"  width=\"850px;\">\n",
    "\n",
    "You will learn:\n",
    "\n",
    "- How to prepare your document dataset, creating text chunk from documentation pages\n",
    "- Create your Vector Search index and send queries to find similar documents\n",
    "- Build a complete langchain model leveraging Databricks Foundation Model (DBRX Instruct)\n",
    "- Deploy and test your Chatbot with Mosaic AI Agent Evaluation review app \n",
    "- Ask external expert to test and review your chatbot\n",
    "- Deploy a front end application using Databricks Lakehouse app"
   ]
  },
  {
   "cell_type": "markdown",
   "metadata": {
    "application/vnd.databricks.v1+cell": {
     "cellMetadata": {},
     "inputWidgets": {},
     "nuid": "2ae99e4d-ae74-488f-b966-ab679d99bda3",
     "showTitle": false,
     "tableResultSettingsMap": {},
     "title": ""
    }
   },
   "source": [
    "Get started: open the [02-simple-app/01-Data-Preparation-and-Index notebook]($./02-simple-app/01-Data-Preparation-and-Index)."
   ]
  },
  {
   "cell_type": "markdown",
   "metadata": {
    "application/vnd.databricks.v1+cell": {
     "cellMetadata": {},
     "inputWidgets": {},
     "nuid": "8c72f68e-6307-4022-bc4d-661e90e6305b",
     "showTitle": false,
     "tableResultSettingsMap": {},
     "title": ""
    }
   },
   "source": [
    "## 03-Advanced: Going further, build and manage your Evaluation Dataset with Mosaic AI Agent Evaluation\n",
    "\n",
    "<img src=\"https://github.com/databricks-demos/dbdemos-resources/blob/main/images/product/chatbot-rag/quality-lab-flow-eval.png?raw=true\" style=\"float: right\"  width=\"800px;\">\n",
    "Explore this content to discover how to leverage all the Databricks Data Intelligence Platform capabilities for your GenAI Apps.\n",
    "\n",
    "You will learn:\n",
    "\n",
    "- How to extract information from unstructured documents (pdfs) and create custom chunks\n",
    "- Leverage Databricks Embedding Foundation Model to compute the chunks embeddings\n",
    "- Create a Self Managed Vector Search index and send queries to find similar documents\n",
    "- Build an advanced langchain model with chat history, leveraging Databricks Foundation Model (DBRX Instruct)\n",
    "- Ask external expert to test and review your chatbot with Mosaic AI Agent Evaluation review app\n",
    "- Run online llm evaluation and track your metrics with Databricks Monitoring\n",
    "- Deploy a front end application using Databricks Lakehouse app"
   ]
  },
  {
   "cell_type": "markdown",
   "metadata": {
    "application/vnd.databricks.v1+cell": {
     "cellMetadata": {},
     "inputWidgets": {},
     "nuid": "04a321bf-7f1c-42f1-9ee8-5d5237a9ae8b",
     "showTitle": false,
     "tableResultSettingsMap": {},
     "title": ""
    }
   },
   "source": [
    "Learn more adavanced GenAI concepts: [open the 03-advanced-app/01-PDF-Advanced-Data-Preparation]($./03-advanced-app/01-PDF-Advanced-Data-Preparation)."
   ]
  },
  {
   "cell_type": "markdown",
   "metadata": {
    "application/vnd.databricks.v1+cell": {
     "cellMetadata": {},
     "inputWidgets": {},
     "nuid": "4eda84a2-c3bb-4a03-9fb9-d87c85bdc27f",
     "showTitle": false,
     "tableResultSettingsMap": {},
     "title": ""
    }
   },
   "source": [
    "\n",
    "## What's next: LLM Fine Tuning\n",
    "\n",
    "Discover how to fine-tune your LLMs for your RAG applications: `dbdemos.install('llm-fine-tuning)`"
   ]
  }
 ],
 "metadata": {
  "application/vnd.databricks.v1+notebook": {
   "computePreferences": null,
   "dashboards": [],
   "environmentMetadata": {
    "environment_version": "2"
   },
   "inputWidgetPreferences": null,
   "language": "python",
   "notebookMetadata": {
    "pythonIndentUnit": 4
   },
   "notebookName": "00-RAG-LLM-RAG-Introduction",
   "widgets": {}
  },
  "language_info": {
   "name": "python"
  }
 },
 "nbformat": 4,
 "nbformat_minor": 0
}