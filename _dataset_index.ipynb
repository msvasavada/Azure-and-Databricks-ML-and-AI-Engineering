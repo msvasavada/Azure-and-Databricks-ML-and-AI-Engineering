{
 "cells": [
  {
   "cell_type": "code",
   "execution_count": 0,
   "metadata": {
    "application/vnd.databricks.v1+cell": {
     "cellMetadata": {},
     "inputWidgets": {},
     "nuid": "5b8863b9-5e0f-43c9-891d-89298ad3a3e3",
     "showTitle": false,
     "tableResultSettingsMap": {},
     "title": ""
    }
   },
   "outputs": [],
   "source": [
    "# This is an index of all files in this course's datsets and is used to\n",
    "# validate the local copy of datsets after an install and thus precluding\n",
    "# the need to reach out to remote repos which may be blocked in some\n",
    "# workspaces as is common in the Fed and Financial sector's workspaces\n",
    "\n",
    "remote_files = [\"/cdc-diabetes/\", \"/cdc-diabetes/README.md\", \"/cdc-diabetes/diabetes_binary_5050split_BRFSS2015.csv\", \"/cdc-diabetes/diabetes_binary_5050_raw.csv\", \"/cdc-diabetes/diabetes_binary_imbalanced_BRFSS2015.csv\", \"/cdc-diabetes/diabetes_multiclass_imbalanded_BRFSS2015.csv\", \"/telco/\", \"/telco/README.md\", \"/telco/telco-customer-churn-missing.csv\", \"/telco/telco-customer-churn-noisy.csv\", \"/telco/telco-customer-churn.csv\"]"
   ]
  }
 ],
 "metadata": {
  "application/vnd.databricks.v1+notebook": {
   "computePreferences": null,
   "dashboards": [],
   "environmentMetadata": null,
   "language": "python",
   "notebookMetadata": {
    "pythonIndentUnit": 2
   },
   "notebookName": "_dataset_index",
   "widgets": {}
  },
  "language_info": {
   "name": "python"
  }
 },
 "nbformat": 4,
 "nbformat_minor": 0
}