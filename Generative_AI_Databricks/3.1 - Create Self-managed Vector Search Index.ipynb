{
 "cells": [
  {
   "cell_type": "markdown",
   "metadata": {
    "application/vnd.databricks.v1+cell": {
     "cellMetadata": {},
     "inputWidgets": {},
     "nuid": "27504e4d-3f35-404c-a041-3d0feaa48b32",
     "showTitle": false,
     "tableResultSettingsMap": {},
     "title": ""
    }
   },
   "source": [
    "\n",
    "<div style=\"text-align: center; line-height: 0; padding-top: 9px;\">\n",
    "  <img src=\"https://databricks.com/wp-content/uploads/2018/03/db-academy-rgb-1200px.png\" alt=\"Databricks Learning\">\n",
    "</div>\n"
   ]
  },
  {
   "cell_type": "markdown",
   "metadata": {
    "application/vnd.databricks.v1+cell": {
     "cellMetadata": {},
     "inputWidgets": {},
     "nuid": "d067c0fb-7afd-4ff1-8f19-e36a8958ccfd",
     "showTitle": false,
     "tableResultSettingsMap": {},
     "title": ""
    }
   },
   "source": [
    "\n",
    "# Create Self-managed Vector Search Index\n",
    "\n",
    "In the previous demo, we chunked the raw PDF document pages into small sections, computed the embeddings, and saved it as a Delta Lake table. Our dataset is now ready. \n",
    "\n",
    "Next, we'll configure Databricks Vector Search to ingest data from this table.\n",
    "\n",
    "Vector search index uses a Vector search endpoint to serve the embeddings (you can think about it as your Vector Search API endpoint). <br/>\n",
    "Multiple Indexes can use the same endpoint. Let's start by creating one.\n",
    "\n",
    "\n",
    "**Learning Objectives:**\n",
    "\n",
    "*By the end of this demo, you will be able to;*\n",
    "\n",
    "* Set up an endpoint for Vector Search.\n",
    "\n",
    "* Store the embeddings and their metadata using the Vector Search.\n",
    "\n",
    "* Inspect the Vector Search endpoint and index using the UI. \n",
    "\n",
    "* Retrieve documents from the vector store using similarity search.\n"
   ]
  },
  {
   "cell_type": "markdown",
   "metadata": {
    "application/vnd.databricks.v1+cell": {
     "cellMetadata": {},
     "inputWidgets": {},
     "nuid": "f45541c6-54b3-484e-84db-aedf05ad2e47",
     "showTitle": false,
     "tableResultSettingsMap": {},
     "title": ""
    }
   },
   "source": [
    "## REQUIRED - SELECT CLASSIC COMPUTE\n",
    "Before executing cells in this notebook, please select your classic compute cluster in the lab. Be aware that **Serverless** is enabled by default.\n",
    "\n",
    "Follow these steps to select the classic compute cluster:\n",
    "1. Navigate to the top-right of this notebook and click the drop-down menu to select your cluster. By default, the notebook will use **Serverless**.\n",
    "\n",
    "2. If your cluster is available, select it and continue to the next cell. If the cluster is not shown:\n",
    "\n",
    "   - Click **More** in the drop-down.\n",
    "   \n",
    "   - In the **Attach to an existing compute resource** window, use the first drop-down to select your unique cluster.\n",
    "\n",
    "**NOTE:** If your cluster has terminated, you might need to restart it in order to select it. To do this:\n",
    "\n",
    "1. Right-click on **Compute** in the left navigation pane and select *Open in new tab*.\n",
    "\n",
    "2. Find the triangle icon to the right of your compute cluster name and click it.\n",
    "\n",
    "3. Wait a few minutes for the cluster to start.\n",
    "\n",
    "4. Once the cluster is running, complete the steps above to select your cluster."
   ]
  },
  {
   "cell_type": "markdown",
   "metadata": {
    "application/vnd.databricks.v1+cell": {
     "cellMetadata": {},
     "inputWidgets": {},
     "nuid": "5667fc6d-a27a-48fa-8c09-cea919358943",
     "showTitle": false,
     "tableResultSettingsMap": {},
     "title": ""
    }
   },
   "source": [
    "## Requirements\n",
    "\n",
    "Please review the following requirements before starting the lesson:\n",
    "\n",
    "* To run this notebook, you need to use one of the following Databricks runtime(s): **15.4.x-cpu-ml-scala2.12**\n",
    "\n",
    "\n",
    "**\uD83D\uDEA8 Important:** This demonstration relies on the resources established in the previous one. Please ensure you have completed the prior demonstration before starting this one."
   ]
  },
  {
   "cell_type": "markdown",
   "metadata": {
    "application/vnd.databricks.v1+cell": {
     "cellMetadata": {},
     "inputWidgets": {},
     "nuid": "249671ea-ddfd-4133-8a59-1e6cf2dcb118",
     "showTitle": false,
     "tableResultSettingsMap": {},
     "title": ""
    }
   },
   "source": [
    "\n",
    "## Classroom Setup\n",
    "\n",
    "Install required libraries."
   ]
  },
  {
   "cell_type": "code",
   "execution_count": 0,
   "metadata": {
    "application/vnd.databricks.v1+cell": {
     "cellMetadata": {
      "byteLimit": 2048000,
      "rowLimit": 10000
     },
     "inputWidgets": {},
     "nuid": "3b109d67-cf11-4f22-8c56-7f9b0a3c1e1d",
     "showTitle": false,
     "tableResultSettingsMap": {},
     "title": ""
    }
   },
   "outputs": [
    {
     "output_type": "stream",
     "name": "stdout",
     "output_type": "stream",
     "text": [
      "\u001B[43mNote: you may need to restart the kernel using %restart_python or dbutils.library.restartPython() to use updated packages.\u001B[0m\n"
     ]
    }
   ],
   "source": [
    "%pip install -U -qq databricks-vectorsearch databricks-sdk flashrank PyPDF2\n",
    "dbutils.library.restartPython()"
   ]
  },
  {
   "cell_type": "markdown",
   "metadata": {
    "application/vnd.databricks.v1+cell": {
     "cellMetadata": {},
     "inputWidgets": {},
     "nuid": "03b0c618-d8c4-4d2c-8e55-eac9561a1f8a",
     "showTitle": false,
     "tableResultSettingsMap": {},
     "title": ""
    }
   },
   "source": [
    "Before starting the demo, run the provided classroom setup script. This script will define configuration variables necessary for the demo. Execute the following cell:"
   ]
  },
  {
   "cell_type": "code",
   "execution_count": 0,
   "metadata": {
    "application/vnd.databricks.v1+cell": {
     "cellMetadata": {
      "byteLimit": 2048000,
      "rowLimit": 10000
     },
     "inputWidgets": {},
     "nuid": "5f873e5d-9375-43ed-9030-e6fb5c942459",
     "showTitle": false,
     "tableResultSettingsMap": {},
     "title": ""
    }
   },
   "outputs": [
    {
     "output_type": "stream",
     "name": "stdout",
     "output_type": "stream",
     "text": [
      "\u001B[43mNote: you may need to restart the kernel using %restart_python or dbutils.library.restartPython() to use updated packages.\u001B[0m\n"
     ]
    },
    {
     "output_type": "stream",
     "name": "stdout",
     "output_type": "stream",
     "text": [
      "\nThe examples and models presented in this course are intended solely for demonstration and educational purposes.\n Please note that the models and prompt examples may sometimes contain offensive, inaccurate, biased, or harmful content.\n"
     ]
    }
   ],
   "source": [
    "%run ../Includes/Classroom-Setup-03"
   ]
  },
  {
   "cell_type": "markdown",
   "metadata": {
    "application/vnd.databricks.v1+cell": {
     "cellMetadata": {},
     "inputWidgets": {},
     "nuid": "c96aeeb1-35e0-4785-87d2-330a21fdb8b6",
     "showTitle": false,
     "tableResultSettingsMap": {},
     "title": ""
    }
   },
   "source": [
    "**Other Conventions:**\n",
    "\n",
    "Throughout this demo, we'll refer to the object `DA`. This object, provided by Databricks Academy, contains variables such as your username, catalog name, schema name, working directory, and dataset locations. Run the code block below to view these details:"
   ]
  },
  {
   "cell_type": "code",
   "execution_count": 0,
   "metadata": {
    "application/vnd.databricks.v1+cell": {
     "cellMetadata": {
      "byteLimit": 2048000,
      "rowLimit": 10000
     },
     "inputWidgets": {},
     "nuid": "e727e093-b9c9-41f4-80d7-eb1156de7462",
     "showTitle": false,
     "tableResultSettingsMap": {},
     "title": ""
    }
   },
   "outputs": [
    {
     "output_type": "stream",
     "name": "stdout",
     "output_type": "stream",
     "text": [
      "Username:          labuser10822842_1751561815@vocareum.com\nCatalog Name:      dbacademy\nSchema Name:       labuser10822842_1751561815\nWorking Directory: /Volumes/dbacademy/ops/labuser10822842_1751561815@vocareum_com\nDataset Location:  NestedNamespace (arxiv='/Volumes/dbacademy_arxiv/v01', dais='/Volumes/dbacademy_dais/v01', news='/Volumes/dbacademy_news/v01', docs='/Volumes/dbacademy_docs/v01')\n"
     ]
    }
   ],
   "source": [
    "print(f\"Username:          {DA.username}\")\n",
    "print(f\"Catalog Name:      {DA.catalog_name}\")\n",
    "print(f\"Schema Name:       {DA.schema_name}\")\n",
    "print(f\"Working Directory: {DA.paths.working_dir}\")\n",
    "print(f\"Dataset Location:  {DA.paths.datasets}\")"
   ]
  },
  {
   "cell_type": "markdown",
   "metadata": {
    "application/vnd.databricks.v1+cell": {
     "cellMetadata": {},
     "inputWidgets": {},
     "nuid": "a0237d85-3079-4103-addf-6d7eba6a7b10",
     "showTitle": false,
     "tableResultSettingsMap": {},
     "title": ""
    }
   },
   "source": [
    "## Demo Overview\n",
    "\n",
    "As seen in the diagram below, in this demo we will focus on the Vector Search indexing section (highlighted in orange).  \n",
    "\n",
    "\n",
    "<!-- <img src=\"https://files.training.databricks.com/images/genai/genai-as-01-rag-pdf-self-managed-3.png\" width=\"100%\"> -->\n",
    "\n",
    "\n",
    "<!--  -->\n",
    "\n",
    "![genai-as-01-rag-pdf-self-managed-3](../Includes/images/genai-as-01-rag-pdf-self-managed-3.png)"
   ]
  },
  {
   "cell_type": "markdown",
   "metadata": {
    "application/vnd.databricks.v1+cell": {
     "cellMetadata": {},
     "inputWidgets": {},
     "nuid": "78c30527-58a2-4ee5-a2d8-fd49e91c1661",
     "showTitle": false,
     "tableResultSettingsMap": {},
     "title": ""
    }
   },
   "source": [
    "## Create a \"Self-Managed\" Vector Search Index\n",
    "\n",
    "Setting up a Databricks Vector Search index involves a few key steps. First, you need to decide on the method of providing vector embeddings. Databricks supports three options: \n",
    "\n",
    "* providing a source Delta table containing text data\n",
    "* **providing a source Delta table that contains pre-calculated embeddings**\n",
    "* using the Direct Vector API to create an index on embeddings stored in a Delta table\n",
    "\n",
    "In this demo, we will go with the second method. \n",
    "\n",
    "Next, we will **create a vector search endpoint**. And in the final step, we will **create a vector search index** from a Delta table. \n",
    "\n",
    "\n"
   ]
  },
  {
   "cell_type": "markdown",
   "metadata": {
    "application/vnd.databricks.v1+cell": {
     "cellMetadata": {},
     "inputWidgets": {},
     "nuid": "961988e2-4794-4a32-9071-f76f1ee71337",
     "showTitle": false,
     "tableResultSettingsMap": {},
     "title": ""
    }
   },
   "source": [
    "### Setup a Vector Search Endpoint\n",
    "\n",
    "The first step for creating a Vector Search index is to create a compute endpoint. This endpoint serves the vector search index. You can query and update the endpoint using the REST API or the SDK. \n",
    "\n",
    "**\uD83D\uDEA8IMPORTANT: Vector Search endpoints must be created before running the rest of the demo. These are already created for you in Databricks Lab environment.**"
   ]
  },
  {
   "cell_type": "code",
   "execution_count": 0,
   "metadata": {
    "application/vnd.databricks.v1+cell": {
     "cellMetadata": {
      "byteLimit": 2048000,
      "rowLimit": 10000
     },
     "inputWidgets": {},
     "nuid": "fa5dfa3b-710d-47a1-8a83-9976b38917e9",
     "showTitle": false,
     "tableResultSettingsMap": {},
     "title": ""
    }
   },
   "outputs": [
    {
     "output_type": "stream",
     "name": "stdout",
     "output_type": "stream",
     "text": [
      "Assigned Vector Search endpoint name: vs_endpoint_2.\n"
     ]
    }
   ],
   "source": [
    "# assign vs search endpoint by username\n",
    "vs_endpoint_prefix = \"vs_endpoint_\"\n",
    "vs_endpoint_name = vs_endpoint_prefix+str(get_fixed_integer(DA.unique_name(\"_\")))\n",
    "\n",
    "print(f\"Assigned Vector Search endpoint name: {vs_endpoint_name}.\")"
   ]
  },
  {
   "cell_type": "code",
   "execution_count": 0,
   "metadata": {
    "application/vnd.databricks.v1+cell": {
     "cellMetadata": {
      "byteLimit": 2048000,
      "rowLimit": 10000
     },
     "inputWidgets": {},
     "nuid": "b4df63f3-3996-4f2f-beb2-c2af7b36c53a",
     "showTitle": false,
     "tableResultSettingsMap": {},
     "title": ""
    }
   },
   "outputs": [
    {
     "output_type": "stream",
     "name": "stdout",
     "output_type": "stream",
     "text": [
      "Endpoint named vs_endpoint_2 is ready.\n"
     ]
    }
   ],
   "source": [
    "from databricks.vector_search.client import VectorSearchClient\n",
    "from databricks.sdk import WorkspaceClient\n",
    "import databricks.sdk.service.catalog as c\n",
    "\n",
    "vsc = VectorSearchClient(disable_notice=True)\n",
    "\n",
    "# check the status of the endpoint\n",
    "wait_for_vs_endpoint_to_be_ready(vsc, vs_endpoint_name)\n",
    "print(f\"Endpoint named {vs_endpoint_name} is ready.\")"
   ]
  },
  {
   "cell_type": "markdown",
   "metadata": {
    "application/vnd.databricks.v1+cell": {
     "cellMetadata": {},
     "inputWidgets": {},
     "nuid": "9a05d68b-c94f-40c6-a737-0fa151fd45c0",
     "showTitle": false,
     "tableResultSettingsMap": {},
     "title": ""
    }
   },
   "source": [
    "### View the Endpoint\n",
    "\n",
    "After the endpoint is created, you can view your endpoint on the [Vector Search Endpoints UI](#/setting/clusters/vector-search). Click on the endpoint name to see all indexes that are served by the endpoint."
   ]
  },
  {
   "cell_type": "markdown",
   "metadata": {
    "application/vnd.databricks.v1+cell": {
     "cellMetadata": {},
     "inputWidgets": {},
     "nuid": "deee5e92-4474-420e-b448-a0cf2271fbfc",
     "showTitle": false,
     "tableResultSettingsMap": {},
     "title": ""
    }
   },
   "source": [
    "### Connect Delta Table with Vector Search Endpoint\n",
    "\n",
    "After creating the endpoint, we can create the **vector search index**. The vector search index is created from a Delta table and is optimized to provide real-time approximate nearest neighbor searches. The goal of the search is to identify documents that are similar to the query. \n",
    "\n",
    "**Vector search indexes appear in and are governed by Unity Catalog.**"
   ]
  },
  {
   "cell_type": "code",
   "execution_count": 0,
   "metadata": {
    "application/vnd.databricks.v1+cell": {
     "cellMetadata": {
      "byteLimit": 2048000,
      "rowLimit": 10000
     },
     "inputWidgets": {},
     "nuid": "1311f7af-4885-4178-a0e5-263e1d12fffd",
     "showTitle": false,
     "tableResultSettingsMap": {},
     "title": ""
    }
   },
   "outputs": [
    {
     "output_type": "stream",
     "name": "stdout",
     "output_type": "stream",
     "text": [
      "Creating index dbacademy.labuser10822842_1751561815.pdf_text_self_managed_vs_index on endpoint vs_endpoint_2...\nWaiting for index to be ready, this can take a few min... {'detailed_state': 'PROVISIONING_INDEX', 'message': 'Delta sync Index creation is pending. Check latest status: https://dbc-d705030c-f88b.cloud.databricks.com/explore/data/dbacademy/labuser10822842_1751561815/pdf_text_self_managed_vs_index', 'indexed_row_count': 0, 'ready': False, 'index_url': 'dbc-d705030c-f88b.cloud.databricks.com/api/2.0/vector-search/indexes/dbacademy.labuser10822842_1751561815.pdf_text_self_managed_vs_index'} - pipeline url:dbc-d705030c-f88b.cloud.databricks.com/api/2.0/vector-search/indexes/dbacademy.labuser10822842_1751561815.pdf_text_self_managed_vs_index\nWaiting for index to be ready, this can take a few min... {'detailed_state': 'PROVISIONING_INITIAL_SNAPSHOT', 'message': 'Index is currently is in the process of syncing initial data. Check latest status: https://dbc-d705030c-f88b.cloud.databricks.com/explore/data/dbacademy/labuser10822842_1751561815/pdf_text_self_managed_vs_index', 'indexed_row_count': 0, 'provisioning_status': {'initial_pipeline_sync_progress': {'latest_version_currently_processing': 0, 'num_synced_rows': 0, 'total_rows_to_sync': 0, 'sync_progress_completion': 1.0, 'estimated_completion_time_seconds': 0.0, 'pipeline_metrics': {'total_sync_time_per_row_ms': 0.0, 'ingestion_metrics': {'ingestion_time_per_row_ms': 0.0, 'ingestion_batch_size': 0}, 'embedding_metrics': {'embedding_generation_time_per_row_ms': 0.0, 'embedding_generation_batch_size': 0}}}}, 'ready': False, 'index_url': 'dbc-d705030c-f88b.cloud.databricks.com/api/2.0/vector-search/indexes/dbacademy.labuser10822842_1751561815.pdf_text_self_managed_vs_index'} - pipeline url:dbc-d705030c-f88b.cloud.databricks.com/api/2.0/vector-search/indexes/dbacademy.labuser10822842_1751561815.pdf_text_self_managed_vs_index\n"
     ]
    }
   ],
   "source": [
    "# the table we'd like to index\n",
    "source_table_fullname = f\"{DA.catalog_name}.{DA.schema_name}.pdf_text_embeddings\"\n",
    "\n",
    "# where we want to store our index\n",
    "vs_index_fullname = f\"{DA.catalog_name}.{DA.schema_name}.pdf_text_self_managed_vs_index\"\n",
    "\n",
    "# create or sync the index\n",
    "if not index_exists(vsc, vs_endpoint_name, vs_index_fullname):\n",
    "  print(f\"Creating index {vs_index_fullname} on endpoint {vs_endpoint_name}...\")\n",
    "  vsc.create_delta_sync_index(\n",
    "    endpoint_name=vs_endpoint_name,\n",
    "    index_name=vs_index_fullname,\n",
    "    source_table_name=source_table_fullname,\n",
    "    pipeline_type=\"TRIGGERED\", #Sync needs to be manually triggered\n",
    "    primary_key=\"id\",\n",
    "    embedding_dimension=1024, #Match your model embedding size (gte)\n",
    "    embedding_vector_column=\"embedding\"\n",
    "  )\n",
    "else:\n",
    "  # trigger a sync to update our vs content with the new data saved in the table\n",
    "  vsc.get_index(vs_endpoint_name, vs_index_fullname).sync()\n",
    "\n",
    "# let's wait for the index to be ready and all our embeddings to be created and indexed\n",
    "wait_for_index_to_be_ready(vsc, vs_endpoint_name, vs_index_fullname)"
   ]
  },
  {
   "cell_type": "markdown",
   "metadata": {
    "application/vnd.databricks.v1+cell": {
     "cellMetadata": {},
     "inputWidgets": {},
     "nuid": "faceeffa-f2b4-4073-b790-071834ef3807",
     "showTitle": false,
     "tableResultSettingsMap": {},
     "title": ""
    }
   },
   "source": [
    "## Search for Similar Content\n",
    "\n",
    "That's all we have to do. Databricks will automatically capture and synchronize new entries in your Delta Lake Table.\n",
    "\n",
    "Note that depending on your dataset size and model size, index creation can take a few seconds to start and index your embeddings.\n",
    "\n",
    "Let's give it a try and search for similar content.\n",
    "\n",
    "**\uD83D\uDCCC Note:** `similarity_search` also supports a filter parameter. This is useful to add a security layer to your RAG system: you can filter out some sensitive content based on who is doing the call (for example filter on a specific department based on the user preference).\n"
   ]
  },
  {
   "cell_type": "code",
   "execution_count": 0,
   "metadata": {
    "application/vnd.databricks.v1+cell": {
     "cellMetadata": {
      "byteLimit": 2048000,
      "rowLimit": 10000
     },
     "inputWidgets": {},
     "nuid": "b7a72af5-fe33-43f5-8bef-7dcf70038292",
     "showTitle": false,
     "tableResultSettingsMap": {},
     "title": ""
    }
   },
   "outputs": [
    {
     "output_type": "stream",
     "name": "stdout",
     "output_type": "stream",
     "text": [
      "[[1.201171875, -0.02044677734375, -0.4375, 0.156494140625, -0.250732421875, -0.50927734375, 0.96044921875, -1.4052734375, -1.638671875, 0.1719970703125, -0.2384033203125, -0.1661376953125, 0.69921875, -0.2437744140625, -0.6474609375, -0.35986328125, 0.88134765625, -0.69189453125, 0.485107421875, -0.9775390625, -0.12396240234375, -1.1875, 0.4208984375, -0.701171875, 1.2626953125, -0.371826171875, -0.2374267578125, -0.59619140625, 0.496337890625, -0.1798095703125, 1.1171875, 0.423095703125, -0.72509765625, 0.51953125, 0.281982421875, 0.19091796875, 0.7890625, -0.235107421875, -0.41259765625, 0.78857421875, 0.5380859375, 0.058746337890625, -0.2169189453125, -0.49853515625, -0.487548828125, -0.254150390625, 0.51123046875, -1.076171875, -0.57666015625, 0.3505859375, -0.2412109375, -0.6044921875, 0.48046875, -0.2122802734375, -0.41455078125, -0.428466796875, 0.6171875, -0.499267578125, -0.5263671875, 0.3330078125, -0.164794921875, -0.157958984375, 0.370361328125, -0.1568603515625, 0.93310546875, -0.142578125, -0.587890625, -0.21240234375, -0.66796875, 0.261474609375, 0.0721435546875, 0.1942138671875, 0.62939453125, 0.045501708984375, 1.2294921875, 0.26220703125, -0.0057220458984375, -0.57080078125, -0.35595703125, 0.01123046875, 0.485595703125, 0.290771484375, -0.020965576171875, 0.55322265625, 0.65869140625, 1.5537109375, 0.283203125, -0.227783203125, -0.225830078125, 1.5478515625, 0.33203125, -0.59130859375, 0.0972900390625, -0.97607421875, -0.8916015625, -0.794921875, 0.34130859375, 0.35888671875, 0.2113037109375, 0.148193359375, -0.47412109375, -1.6083984375, 0.275390625, -0.01358795166015625, 1.11328125, -0.2275390625, 0.0330810546875, 1.0107421875, 1.029296875, -0.619140625, 1.015625, -0.5244140625, 0.167236328125, -0.365966796875, -0.050537109375, 0.272705078125, 0.2049560546875, -0.5263671875, -0.07196044921875, 0.402099609375, -1.09375, 1.88671875, -0.1527099609375, -0.410888671875, -0.2469482421875, 0.32861328125, -0.303466796875, -0.0093536376953125, -1.701171875, 1.1025390625, 0.477294921875, -0.00887298583984375, -0.052001953125, -0.21337890625, 0.5673828125, -0.260986328125, 1.0673828125, -0.371826171875, -0.1513671875, -0.4091796875, 0.5615234375, -0.578125, -0.59765625, 0.3701171875, -0.0135040283203125, -0.2078857421875, 0.0750732421875, 0.94140625, -0.35498046875, 0.75634765625, -0.26806640625, -0.251953125, 0.07696533203125, -0.4306640625, -1.005859375, 0.0667724609375, -0.436279296875, -0.58447265625, -1.0986328125, 0.69873046875, 0.5859375, -0.09320068359375, -1.1875, 0.9189453125, -0.14111328125, 0.9423828125, -0.58642578125, -0.1690673828125, -0.60302734375, -0.1204833984375, 0.0246124267578125, -0.313232421875, -0.406494140625, -0.0423583984375, 0.0206146240234375, -1.201171875, 0.1533203125, 0.0280609130859375, 0.29345703125, -0.90380859375, 0.828125, -1.443359375, 0.0173187255859375, -1.177734375, 0.88427734375, 0.7412109375, 0.26904296875, -0.56982421875, -0.37841796875, -0.72412109375, 0.76025390625, -1.1123046875, 0.485107421875, 0.1988525390625, 0.87548828125, 0.51220703125, -1.0771484375, 0.0291748046875, 0.375244140625, 0.57177734375, 1.1748046875, -1.6826171875, 0.31591796875, -0.28515625, -0.35595703125, 0.1119384765625, 0.01044464111328125, -1.5791015625, 0.2244873046875, -0.01421356201171875, -0.1676025390625, 0.388671875, -0.414794921875, -0.67626953125, -0.82177734375, 0.1572265625, -0.623046875, -0.346435546875, -0.5693359375, 0.386474609375, 0.02777099609375, 0.82958984375, 0.0188140869140625, 0.184814453125, -0.38427734375, 0.004608154296875, 0.467041015625, 0.72314453125, -0.080322265625, 0.09320068359375, 1.2822265625, 0.20556640625, 0.52734375, 0.95166015625, -0.303466796875, -0.78662109375, 0.5751953125, 0.396484375, -0.1385498046875, 0.461181640625, 0.08905029296875, -0.9501953125, 0.56884765625, -0.59130859375, -0.99072265625, 0.32080078125, -0.31103515625, 0.626953125, 0.468505859375, 0.06866455078125, -0.9228515625, 0.37646484375, 0.7421875, 0.61376953125, -0.6083984375, 0.265380859375, -0.061248779296875, -0.391845703125, -0.88720703125, -0.2841796875, -0.42578125, 0.081787109375, 0.791015625, -0.701171875, -1.060546875, 0.0256195068359375, 0.05401611328125, 0.7060546875, 0.7197265625, -0.021759033203125, -0.12396240234375, -1.2763671875, 0.60498046875, -0.143310546875, -1.0673828125, 0.1290283203125, 0.98974609375, -0.63623046875, 1.763671875, -0.336181640625, 0.2200927734375, -0.07928466796875, -0.5068359375, 0.035186767578125, 0.1920166015625, 1.068359375, -0.97705078125, 0.84716796875, 0.5234375, 1.6494140625, 0.60498046875, -1.638671875, -0.88037109375, -0.7900390625, 0.53955078125, -0.248291015625, 1.181640625, 0.449462890625, -0.0255584716796875, 0.75927734375, 1.5556640625, -0.368896484375, -0.24072265625, -0.400146484375, 0.7001953125, 0.433837890625, -1.6240234375, 0.1549072265625, 0.27197265625, -0.1915283203125, 0.744140625, -0.14013671875, -0.1778564453125, -1.4755859375, -0.92138671875, 0.3349609375, -0.487548828125, 0.251708984375, -0.423583984375, 0.2020263671875, 0.78662109375, -1.4169921875, 0.485107421875, 1.1240234375, -0.239013671875, 0.0106658935546875, -0.05169677734375, 0.0830078125, -0.09783935546875, 0.7333984375, 1.0224609375, -0.09674072265625, -0.03662109375, -0.34228515625, 0.67041015625, 0.07110595703125, -0.286376953125, -0.87548828125, 1.0556640625, 0.37548828125, -0.64111328125, -0.779296875, -0.53369140625, -1.7978515625, -0.1143798828125, -0.70556640625, -1.23046875, -0.252197265625, -0.5185546875, -0.66162109375, 0.1640625, 0.9951171875, 0.12548828125, 0.79443359375, 0.08251953125, -1.35546875, 0.399658203125, 0.46728515625, -0.309326171875, 0.56103515625, 0.7529296875, 0.66455078125, -1.75390625, 0.1932373046875, -0.81298828125, -0.0865478515625, 0.2000732421875, 0.6240234375, -1.3544921875, -0.5498046875, 0.26904296875, -0.6669921875, -0.78466796875, -0.4658203125, 0.787109375, 0.002033233642578125, -0.8349609375, -0.2001953125, -0.329345703125, 0.2301025390625, -1.642578125, 0.02984619140625, -0.37841796875, 0.94677734375, -0.669921875, 0.35546875, -1.23828125, 0.6318359375, -0.1107177734375, 0.83984375, 0.073486328125, 0.0174102783203125, 0.06683349609375, -0.268798828125, 0.23291015625, -0.25244140625, 1.20703125, 1.1826171875, 0.47607421875, 0.59814453125, -0.58447265625, -0.68798828125, -0.7666015625, -0.57080078125, -0.345703125, -0.5107421875, 0.037109375, 0.51318359375, -0.97119140625, 0.53369140625, -0.049835205078125, -0.61767578125, 0.509765625, -0.7177734375, 0.0882568359375, -0.59130859375, -0.10272216796875, -0.7529296875, -0.335205078125, -0.0894775390625, -1.6396484375, -1.3916015625, 0.1890869140625, 0.1260986328125, -0.39306640625, 0.5107421875, -0.061920166015625, -0.640625, -0.361328125, -0.4453125, -0.74365234375, 0.9140625, 1.0830078125, 1.828125, -0.309326171875, -0.376953125, -0.1278076171875, -0.08660888671875, 0.193115234375, -0.92431640625, 1.2861328125, -0.728515625, -0.40283203125, -0.275390625, 0.58837890625, 0.39111328125, 0.5400390625, 0.090087890625, -0.433837890625, 0.487060546875, 0.42724609375, -0.73974609375, 0.75048828125, 0.6845703125, 0.022369384765625, -0.52587890625, 0.09747314453125, -1.05859375, -0.94140625, 0.2337646484375, 0.08026123046875, 0.896484375, 0.371337890625, 0.07513427734375, 0.435791015625, -2.3984375, 0.34716796875, -0.60791015625, 0.00934600830078125, 0.3125, 0.04461669921875, -0.08184814453125, -0.7890625, 0.85302734375, -0.67041015625, -0.255615234375, -0.767578125, -0.0295867919921875, 0.62109375, 0.0172576904296875, -0.64306640625, 0.339599609375, 0.4375, 0.454345703125, -0.451904296875, -0.2423095703125, 0.4560546875, -0.1922607421875, -0.429443359375, -0.82470703125, 0.2391357421875, -0.63134765625, -1.5009765625, -1.263671875, 0.2005615234375, -0.66357421875, -0.556640625, -0.66552734375, -0.53857421875, -1.1904296875, -0.51513671875, -0.4091796875, 0.194580078125, -0.1800537109375, -0.69384765625, 0.0877685546875, 0.5283203125, -0.10650634765625, 0.1934814453125, 0.2252197265625, -1.1708984375, 0.27294921875, 1.3466796875, -0.0318603515625, 0.032196044921875, -0.76123046875, 0.9736328125, -0.0653076171875, 0.55712890625, 0.60302734375, -0.2646484375, -0.83544921875, -0.275634765625, 0.09613037109375, 0.453369140625, 0.06707763671875, 0.384521484375, 0.57177734375, -0.5400390625, -0.210693359375, 0.435791015625, -0.410400390625, -0.294921875, -1.1357421875, 0.1839599609375, -1.3212890625, -1.005859375, -0.312255859375, -0.1455078125, 1.0205078125, 1.01171875, -0.56689453125, -0.1888427734375, -0.1124267578125, 1.544921875, -0.28857421875, -0.46484375, 0.5869140625, 1.0810546875, -0.25390625, -0.11566162109375, -0.149658203125, 0.564453125, 0.0706787109375, -0.71875, -0.69091796875, -0.0682373046875, -1.046875, -0.1270751953125, 0.92578125, 1.01953125, 0.142333984375, 0.313720703125, -0.0189361572265625, 0.00815582275390625, 0.8818359375, -0.2095947265625, 0.6259765625, -0.04327392578125, 0.0526123046875, -0.89892578125, -0.98583984375, -0.57080078125, 0.138671875, 0.006923675537109375, 0.420654296875, 1.283203125, 0.2012939453125, 1.146484375, 0.9072265625, -0.529296875, 0.412353515625, -0.61328125, 0.31689453125, 0.30517578125, 0.72265625, 0.5810546875, -0.399658203125, 0.54638671875, -0.55029296875, 0.90673828125, -0.6787109375, -0.1688232421875, 1.1669921875, -0.7333984375, 0.475830078125, -0.798828125, 0.76806640625, 0.0626220703125, 0.351318359375, -0.1434326171875, -1.2314453125, -0.2313232421875, 0.050811767578125, -0.486328125, -1.0595703125, -0.196044921875, 0.42333984375, 0.340576171875, -0.26806640625, 0.1710205078125, -0.0706787109375, -0.32177734375, 0.16943359375, -0.54150390625, 0.5556640625, -0.84814453125, 0.257568359375, -0.61279296875, 0.461181640625, -0.430908203125, 0.6787109375, -0.9189453125, 0.68896484375, -0.382568359375, -0.10626220703125, -0.050262451171875, 0.67578125, -0.087158203125, -0.08856201171875, -0.3818359375, -0.66650390625, 0.4130859375, 0.2073974609375, -0.76904296875, 1.43359375, 0.435546875, 0.27880859375, 0.28564453125, 0.2587890625, 0.65576171875, -0.26220703125, -1.2939453125, 0.44580078125, -0.31640625, -0.057525634765625, 0.625, 0.08868408203125, -0.397216796875, 0.293212890625, 1.2451171875, -0.6416015625, 0.482666015625, 0.03924560546875, 1.5556640625, -0.473876953125, -0.293212890625, -0.55517578125, 0.59912109375, 0.3876953125, -0.75146484375, 0.468505859375, 0.6572265625, 0.82275390625, -0.269775390625, 0.5595703125, -0.387939453125, -1.2529296875, -0.84521484375, 0.388427734375, 0.53369140625, 0.10296630859375, -0.4033203125, 0.045257568359375, -1.4072265625, 0.403076171875, -0.26416015625, 0.76806640625, -1.42578125, 0.30419921875, -0.3779296875, -0.335205078125, -0.0489501953125, 0.489501953125, -0.8896484375, 1.1416015625, -0.90966796875, 0.037933349609375, -0.5078125, -0.61865234375, -0.93359375, 0.0711669921875, 0.311767578125, -0.57080078125, -1.017578125, 0.09344482421875, -0.5556640625, 0.15625, 0.57958984375, 1.5126953125, 0.67041015625, -0.09844970703125, -0.8720703125, -0.135986328125, -0.253662109375, 0.98486328125, 0.1221923828125, -0.07818603515625, -0.00881195068359375, 0.268310546875, 1.029296875, -0.405029296875, 0.6435546875, -1.626953125, -0.152587890625, -0.279541015625, 0.462890625, -0.685546875, -0.302490234375, -0.29736328125, -0.3037109375, -0.5224609375, -0.26318359375, 0.15234375, -0.623046875, -0.87255859375, 0.1368408203125, 0.56689453125, 0.5966796875, -0.0309295654296875, -1.1220703125, 0.408447265625, 0.5888671875, -0.595703125, -0.5859375, 1.0673828125, 1.216796875, -0.149169921875, 0.4462890625, 0.126708984375, -0.176025390625, 0.433837890625, 0.1002197265625, 0.34912109375, 0.2086181640625, 1.5126953125, 0.73095703125, 0.218994140625, 0.01255035400390625, -0.38916015625, 0.4970703125, 0.12939453125, -0.27197265625, -0.7109375, 0.0784912109375, -0.5615234375, -0.7685546875, 0.436767578125, -0.97998046875, -0.259033203125, 0.0031566619873046875, -0.0177459716796875, -0.6328125, -0.382568359375, 0.8876953125, 0.1680908203125, 0.27197265625, 0.52392578125, -0.54443359375, 0.44189453125, -0.263671875, 0.94091796875, -1.2333984375, -0.9326171875, 0.051513671875, 0.269775390625, -0.76025390625, 1.00390625, -1.0966796875, -1.0048828125, 0.708984375, -0.640625, -0.53466796875, 0.498779296875, 0.276611328125, -0.72509765625, 0.066650390625, -0.128662109375, -0.320068359375, 0.1656494140625, -0.6064453125, 0.304443359375, 0.0732421875, 0.2098388671875, 0.317138671875, 0.1923828125, 0.9052734375, -0.5888671875, -1.4111328125, -0.436279296875, -0.026580810546875, 0.921875, 0.86083984375, -0.296875, 1.1689453125, -1.125, -0.5595703125, 0.317138671875, 0.06817626953125, 0.53759765625, -0.83837890625, 1.76953125, -0.1666259765625, 0.11944580078125, -0.56298828125, -0.57666015625, 0.56640625, 0.267578125, -0.72802734375, 0.2421875, 0.8125, -0.06134033203125, -0.30908203125, -0.01275634765625, 0.95751953125, 0.67578125, 0.1478271484375, -0.662109375, -0.35546875, -0.390869140625, 0.970703125, 0.32275390625, 0.0266265869140625, 0.98779296875, 1.24609375, -0.90087890625, 0.27294921875, 0.264892578125, -1.12109375, 0.10546875, -0.10919189453125, -0.75048828125, -0.291259765625, -0.440185546875, -0.054718017578125, 0.45068359375, 1.14453125, 0.21630859375, -0.43798828125, 0.50146484375, 0.36962890625, -0.10430908203125, -0.8779296875, -0.257568359375, 0.8955078125, 0.363525390625, -0.57470703125, -0.130126953125, -0.322509765625, 0.73486328125, 0.2498779296875, 0.73486328125, -0.6689453125, 0.1717529296875, -0.54833984375, -0.78271484375, -0.414794921875, -0.255615234375, 1.1171875, 0.1671142578125, -0.0760498046875, -0.1636962890625, -0.1646728515625, 0.0052642822265625, -0.278076171875, 0.375732421875, 0.3740234375, -0.79833984375, 0.1436767578125, 1.2421875, 0.8046875, 1.482421875, 1.16796875, -1.1259765625, -0.1474609375, 0.270263671875, 0.50146484375, -0.07366943359375, -0.307373046875, 0.235107421875, 0.53564453125, -0.51611328125, 0.62255859375, 0.650390625, -0.03662109375, 0.828125, -0.03387451171875, 0.2646484375, -0.37255859375, -0.1806640625, -0.4013671875, 0.08050537109375, -0.326904296875, -0.365234375, 0.397216796875, -1.3349609375, -0.404541015625, -0.35009765625, -0.0859375, 0.11480712890625, -0.8642578125, -0.157958984375, 0.609375, 0.06182861328125, -0.377197265625, -0.46630859375, -0.190673828125, 0.07891845703125, -0.0008764266967773438, -1.2041015625, -0.6337890625, 0.20654296875, 0.302001953125, -0.6728515625, -0.055328369140625, 0.5849609375, -0.206298828125, 0.1710205078125, -0.4951171875, 1.4921875, 0.53564453125, 0.12744140625, 0.37255859375, 0.462890625, -0.0316162109375, -0.10882568359375, -0.0202789306640625, 1.1396484375, 0.5087890625, 0.115966796875, -1.6943359375, -0.57861328125, -11.96875, -1.5, -0.09417724609375, 0.289306640625, -0.08880615234375, -0.2298583984375, 0.775390625, 0.310546875, -0.2388916015625, 0.2183837890625, -0.171875, 0.404541015625, -0.374267578125, 0.78125, -0.203369140625, -0.9326171875, -0.98486328125, 0.209716796875, 0.671875, -0.1109619140625, 0.1800537109375, -0.4638671875, 0.1502685546875, 0.1414794921875, -0.438720703125, 0.1923828125, -0.1654052734375, -0.63232421875, 0.058929443359375, -1.701171875, -0.5390625, 0.94140625, -0.82421875, -0.8671875, 0.177734375, -0.71337890625, -0.095947265625, -0.87451171875, 0.446044921875, 0.3037109375, -0.5166015625, 1.6240234375, -0.57666015625, -1.2197265625, 0.334716796875, -0.3564453125, 0.383544921875, 0.8212890625, 0.318359375, 0.62451171875, -0.6982421875, 1.466796875, 0.0031108856201171875, 0.9814453125, -0.03955078125, 0.287841796875, -0.4111328125, 0.525390625, 0.81494140625, 0.2196044921875, -0.77734375, 0.64990234375, -0.712890625, 0.65380859375, 0.02923583984375, -0.220458984375, -0.82763671875, -1.0634765625, 0.496337890625, -0.673828125, -1.078125, 1.27734375, -0.462646484375, 0.1005859375, -0.22216796875, 1.279296875, 0.11376953125, -0.4375, -0.8134765625, 0.212158203125, -0.8046875, 0.273681640625]]\n"
     ]
    }
   ],
   "source": [
    "import mlflow.deployments\n",
    "\n",
    "deploy_client = mlflow.deployments.get_deploy_client(\"databricks\")\n",
    "question = \"How Generative AI impacts humans?\"\n",
    "response = deploy_client.predict(endpoint=\"databricks-gte-large-en\", inputs={\"input\": [question]})\n",
    "embeddings = [e[\"embedding\"] for e in response.data]\n",
    "print(embeddings)"
   ]
  },
  {
   "cell_type": "code",
   "execution_count": 0,
   "metadata": {
    "application/vnd.databricks.v1+cell": {
     "cellMetadata": {
      "byteLimit": 2048000,
      "rowLimit": 10000
     },
     "inputWidgets": {},
     "nuid": "87121ec3-a2a3-44a6-8502-c77d4486a374",
     "showTitle": false,
     "tableResultSettingsMap": {},
     "title": ""
    }
   },
   "outputs": [
    {
     "output_type": "stream",
     "name": "stdout",
     "output_type": "stream",
     "text": [
      "[NOTICE] Using a notebook authentication token. Recommended for development only. For improved performance, please use Service Principal based authentication. To disable this message, pass disable_notice=True.\n[{'file': 'dbfs:/Volumes/dbacademy_arxiv/v01/arxiv-articles/2303.10130.pdf',\n  'text': 'arXivpreprint\\n'\n          'arXiv:2302.07842.\\n'\n          'Moll,B.,Rachel,L.,andRestrepo,P.(2021). Unevengrowth: '\n          'Automation’simpactonincomeandwealth\\n'\n          'inequality. SSRNElectronic Journal.\\n'\n          'Mollick,E.R.andMollick,L.(2022). Newmodesoflearningenabledbyaichatbots: '\n          'Threemethodsand\\n'\n          'assignments. Available atSSRN.\\n'\n          'Noy, S. and Zhang, W. (2023). Experimental evidence on the productivity effects of '\n          'generative artificial\\n'\n          'intelligence. Available atSSRN4375283.\\n'\n          'O*NET (2023). O*net 27.2 database.\\n'\n          'OpenAI (2022). Introducing chatgpt.\\n'\n          'OpenAI (2023a). Gpt-4 system card. Technical report, OpenAI.\\n'\n          'OpenAI (2023b). Gpt-4 technical report. Technical report, OpenAI.\\n'\n          'Ouyang,L.,Wu,J.,Jiang,X.,Almeida,D.,Wainwright,C.L.,Mishkin,P.,Zhang,C.,Agarwal,S.,Slama,\\n'\n          'K.,Ray,A.,etal.(2022). Traininglanguagemodelstofollowinstructionswithhumanfeedback. '\n          'arXiv\\n'\n          'preprintarXiv:2203.02155.\\n'\n          'Peng,S.,Kalliamvakou,E.,Cihon,P.,andDemirer,M.(2023). '\n          'Theimpactofaiondeveloperproductivity:\\n'\n          'Evidence from github copilot. arXivpreprintarXiv:2302.06590.'},\n {'file': 'dbfs:/Volumes/dbacademy_arxiv/v01/arxiv-articles/2303.10130.pdf',\n  'text': 'One way this might take shape is through an augmentation phase where\\n'\n          'jobs first become more precarious (e.g., writers becoming freelancers) before '\n          'transitioning to full automation.\\n'\n          'WORKING PAPER\\n'\n          '6.2 Implications for US Public Policy\\n'\n          'The introduction of automation technologies, including LLMs, has previously been linked '\n          'to heightened\\n'\n          'economic disparity and labor disruption, which may give rise to adverse downstream '\n          'effects (Acemoglu and\\n'\n          'Restrepo, 2022a; Acemoglu, 2002; Moll et al., 2021; Klinova and Korinek, 2021; '\n          'Weidinger et al., 2021,\\n'\n          '2022). '\n          'OurresultsexaminingworkerexposureintheUnitedStatesunderscoretheneedforsocietalandpolicy\\n'\n          'preparedness to the potential economic disruption posed by LLMs and the complementary '\n          'technologies\\n'\n          'that they spawn. While it is outside the scope of this paper to recommend specific '\n          'policy prescriptions to\\n'\n          'smooth the transition to an economy with increasingly widespread LLM adoption, prior '\n          'work such as (Autor\\n'\n          'et al., 2022b) has articulated several important directions for US policy related to '\n          'education, worker training,\\n'\n          'reforms to safety net programs, and more.\\n'\n          '6.3 Limitations and Future Work\\n'\n          'Inadditiontothosediscussedabove,wehighlightsomeparticularlimitationsofthisworkthatwarrantfurther\\n'\n          'investigation. Primarily, ourfocus onthe UnitedStatesrestricts thegeneralizability '\n          'ofour findingsto other\\n'\n          'nations where the adoption and impact of generative models may differ due to factors '\n          'such as industrial\\n'\n          'organization, technological infrastructure, regulatory frameworks, linguistic '\n          'diversity, and cultural contexts.\\n'\n          'We hope to address this limitation by extending the study’s scope and by sharing our '\n          'methods so other\\n'\n          'researchers can build on them.'},\n {'file': 'dbfs:/Volumes/dbacademy_arxiv/v01/arxiv-articles/2303.10130.pdf',\n  'text': 'Previousliterature demonstratestheimpressiveimprovements ofLLMsto date(see2.1). Our\\n'\n          'findingsconfirmthehypothesisthatthesetechnologiescanhavepervasiveimpactsacrossawideswathof\\n'\n          'occupations in the US, and that additional advancements supported by LLMs, mainly '\n          'through software and\\n'\n          'digital tools, can have significant effects on a range of economic activities. However, '\n          'while the technical\\n'\n          'capacityforLLMstomakehumanlabormoreefficientappearsevident,itisimportanttorecognizethatsocial,\\n'\n          'economic, regulatory, andotherfactorswillinfluenceactuallaborproductivityoutcomes. '\n          'Ascapabilities\\n'\n          'continue to evolve, the impact of LLMs on the economy will likely persist and increase, '\n          'posing challenges for\\n'\n          'policymakers in predicting and regulating their trajectory.\\n'\n          'Further research is necessary to explore the broader implications of LLM advancements, '\n          'including\\n'\n          'theirpotentialtoaugmentordisplacehumanlabor,theirimpactonjobquality,impactsoninequality,skill\\n'\n          'development, and numerous other outcomes. By seeking to understand the capabilities and '\n          'potential effects\\n'\n          'WORKING PAPER\\n'\n          'of LLMs on the workforce, policymakers and stakeholders can make more informed '\n          'decisions to navigate the\\n'\n          'complex landscape of AI and its role in shaping the future of work.\\n'\n          '7.1 LLM Conclusion (GPT-4’s Version)\\n'\n          'GenerativePre-trainedTransformers(GPTs)generateprofoundtransformations,garneringpotentialtechnolog-\\n'\n          'ical growth, permeating tasks, greatly impacting professions. This study probes GPTs’ '\n          'potential trajectories,\\n'\n          'presenting a groundbreaking rubric to gauge tasks’ GPT exposure, particularly in the '\n          'U.S. labor market.\\n'\n          '7.2 LLM Conclusion (Author-Augmented Version)\\n'\n          'Generative Pre-trained Transformers (GPTs) generate profound transformations, garnering '\n          'potential techno-\\n'\n          'logical growth, permeating tasks, gutting professional management.'},\n {'file': 'dbfs:/Volumes/dbacademy_arxiv/v01/arxiv-articles/2303.10130.pdf',\n  'text': 'Mostothertechnology exposuremeasureswe\\n'\n          'examine are statistically significantly correlated with our preferred exposure measure, '\n          'while measures of\\n'\n          'manualroutinenessandroboticsexposureshownegativecorrelations. '\n          'Thevarianceexplainedbytheseearlier\\n'\n          'efforts (Acemogluand Autor, 2011a;Frey and Osborne,2017; Brynjolfsson et al.,2018; '\n          'Felten etal., 2018;\\n'\n          'Webb, 2020; Brynjolfsson et al., 2023), along with wage controls, ranges from 60 to '\n          '72%, indicating that 28\\n'\n          'to40%ofthevariationinourAIexposuremeasureremainsunaccountedforbyprevioustechnologyexposure\\n'\n          'measurements.\\n'\n          'Weanalyzeexposurebyindustryanddiscoverthatinformationprocessingindustries(4-digitNAICS)\\n'\n          'exhibit high exposure, while manufacturing, agriculture, and mining demonstrate lower '\n          'exposure. The\\n'\n          'connectionbetweenproductivitygrowthinthepastdecadeandoverallLLMexposureappearsweak,suggesting\\n'\n          'a potential optimistic case that future productivity gains from LLMs may not exacerbate '\n          'possible cost disease\\n'\n          'effects (Baumol, 2012; Aghion et al., 2018). 3\\n'\n          'Our analysis indicates that the impacts of LLMs like GPT-4, are likely to be pervasive. '\n          'While LLMs\\n'\n          'have consistently improved in capabilities over time, their growing economic effect is '\n          'expected to persist and\\n'\n          'increase even if we halt the development of new capabilities today. We also find that '\n          'the potential impact of\\n'\n          'LLMs expands significantly when we take into account the development of complementary '\n          'technologies.\\n'\n          'Collectively, these characteristics imply that Generative Pre-trained Transformers '\n          '(GPTs) are general-purpose\\n'\n          'technologies (GPTs).'},\n {'file': 'dbfs:/Volumes/dbacademy_arxiv/v01/arxiv-articles/2303.10130.pdf',\n  'text': 'This finding implies that LLM-powered software will have a substantial effect on '\n          'scaling\\n'\n          'theeconomicimpactsoftheunderlyingmodels. WeconcludethatLLMssuchasGPTsexhibittraitsof\\n'\n          'general-purposetechnologies,indicatingthattheycouldhaveconsiderableeconomic,social,andpolicy\\n'\n          'implications.\\n'\n          '1 Introduction\\n'\n          'AsshowninFigure1,recentyears,months,andweekshaveseenremarkableprogressinthefieldofgenerative\\n'\n          'AI and large language models (LLMs). While the public often associates LLMs with '\n          'various iterations of the\\n'\n          'Generative Pre-trained Transformer (GPT), LLMs can be trained using a range of '\n          'architectures, and are not\\n'\n          'limitedto transformer-based models(Devlin etal., 2019). LLMscan processand '\n          'producevarious formsof\\n'\n          'sequential data, including assembly language, protein sequences and chess games, '\n          'extending beyond natural\\n'\n          'language applications alone. In this paper, we use LLMs and GPTs somewhat '\n          'interchangeably, and specify in\\n'\n          'our rubric that these should be considered similar to the GPT-family of models '\n          'available via ChatGPT or\\n'\n          'theOpenAI Playground(whichatthe timeoflabeling includedmodelsinthe GPT-3.5familybut '\n          'notinthe\\n'\n          'GPT-4family). '\n          'WeexamineLLMswithtext-andcode-generatingabilities,usetheterm\"generativeAI\"to\\n'\n          'additionallyincludemodalitiessuchasimagesoraudio,anduse\"LLM-poweredsoftware\"tocovertoolsbuilt\\n'\n          'on top of LLMs or that combine LLMs with other generative AI models.\\n'\n          '∗Corresponding author (pamela@openai.com). Authors contributed equally and are listed '\n          'alphabetically.arXiv:2303.10130v5  [econ.GN]  21 Aug 2023\\n'\n          'WORKING PAPER\\n'\n          'Figure 1: Taken directly from GPT-4 Technical Report (OpenAI, 2023b).'}]\n"
     ]
    }
   ],
   "source": [
    "# get similar 5 documents.\n",
    "results = vsc.get_index(vs_endpoint_name, vs_index_fullname).similarity_search(\n",
    "  query_vector=embeddings[0],\n",
    "  columns=[\"pdf_name\", \"content\"],\n",
    "  num_results=5)\n",
    "\n",
    "# format result to align with reranker lib format. \n",
    "passages = []\n",
    "for doc in results.get(\"result\", {}).get(\"data_array\", []):\n",
    "    new_doc = {\"file\": doc[0], \"text\": doc[1]}\n",
    "    passages.append(new_doc)\n",
    "\n",
    "pprint(passages)"
   ]
  },
  {
   "cell_type": "markdown",
   "metadata": {
    "application/vnd.databricks.v1+cell": {
     "cellMetadata": {},
     "inputWidgets": {},
     "nuid": "de9b3d00-adb6-4f0e-812d-0fab111d60b5",
     "showTitle": false,
     "tableResultSettingsMap": {},
     "title": ""
    }
   },
   "source": [
    "## Re-ranking Search Results\n",
    "\n",
    "For re-ranking the results, we will use a very light library. [**`flashrank`**](https://github.com/PrithivirajDamodaran/FlashRank) is an open-source reranking library based on SoTA cross-encoders. The library supports multiple models, and in this example we will use `rank-T5` model. \n",
    "\n",
    "After re-ranking you can review the results to check if the order of the results has changed. \n",
    "\n",
    "**\uD83D\uDCA1Note:** Re-ranking order varies based on the model used!"
   ]
  },
  {
   "cell_type": "code",
   "execution_count": 0,
   "metadata": {
    "application/vnd.databricks.v1+cell": {
     "cellMetadata": {
      "byteLimit": 2048000,
      "rowLimit": 10000
     },
     "inputWidgets": {},
     "nuid": "d957a634-0832-4ff1-a1ff-061d614dcba8",
     "showTitle": false,
     "tableResultSettingsMap": {},
     "title": ""
    }
   },
   "outputs": [
    {
     "output_type": "stream",
     "name": "stderr",
     "output_type": "stream",
     "text": [
      "\rrank-T5-flan.zip:   0%|          | 0.00/73.7M [00:00<?, ?iB/s]\rrank-T5-flan.zip:   3%|▎         | 2.32M/73.7M [00:00<00:03, 24.2MiB/s]\rrank-T5-flan.zip:   7%|▋         | 5.00M/73.7M [00:00<00:03, 23.3MiB/s]\rrank-T5-flan.zip:  11%|█▏        | 8.37M/73.7M [00:00<00:02, 28.3MiB/s]\rrank-T5-flan.zip:  16%|█▌        | 11.6M/73.7M [00:00<00:02, 30.2MiB/s]\rrank-T5-flan.zip:  20%|██        | 15.0M/73.7M [00:00<00:01, 32.2MiB/s]\rrank-T5-flan.zip:  25%|██▌       | 18.5M/73.7M [00:00<00:01, 33.8MiB/s]\rrank-T5-flan.zip:  30%|██▉       | 21.8M/73.7M [00:00<00:01, 33.1MiB/s]\rrank-T5-flan.zip:  34%|███▍      | 25.0M/73.7M [00:00<00:01, 33.2MiB/s]\rrank-T5-flan.zip:  38%|███▊      | 28.3M/73.7M [00:00<00:01, 33.7MiB/s]\rrank-T5-flan.zip:  43%|████▎     | 31.9M/73.7M [00:01<00:01, 34.7MiB/s]\rrank-T5-flan.zip:  48%|████▊     | 35.5M/73.7M [00:01<00:01, 35.8MiB/s]\rrank-T5-flan.zip:  53%|█████▎    | 39.0M/73.7M [00:01<00:01, 35.0MiB/s]\rrank-T5-flan.zip:  57%|█████▋    | 42.3M/73.7M [00:01<00:00, 34.2MiB/s]\rrank-T5-flan.zip:  62%|██████▏   | 45.7M/73.7M [00:01<00:00, 34.7MiB/s]\rrank-T5-flan.zip:  67%|██████▋   | 49.2M/73.7M [00:01<00:00, 35.3MiB/s]\rrank-T5-flan.zip:  71%|███████▏  | 52.6M/73.7M [00:01<00:00, 34.4MiB/s]\rrank-T5-flan.zip:  76%|███████▌  | 56.2M/73.7M [00:01<00:00, 35.2MiB/s]\rrank-T5-flan.zip:  83%|████████▎ | 61.0M/73.7M [00:01<00:00, 39.8MiB/s]\rrank-T5-flan.zip:  88%|████████▊ | 64.8M/73.7M [00:01<00:00, 39.3MiB/s]\rrank-T5-flan.zip:  93%|█████████▎| 68.6M/73.7M [00:02<00:00, 38.4MiB/s]\rrank-T5-flan.zip:  98%|█████████▊| 72.5M/73.7M [00:02<00:00, 39.2MiB/s]\rrank-T5-flan.zip: 100%|██████████| 73.7M/73.7M [00:02<00:00, 35.1MiB/s]\n"
     ]
    },
    {
     "output_type": "stream",
     "name": "stdout",
     "output_type": "stream",
     "text": [
      "{'file': 'dbfs:/Volumes/dbacademy_arxiv/v01/arxiv-articles/2303.10130.pdf', 'text': 'arXivpreprint\\narXiv:2302.07842.\\nMoll,B.,Rachel,L.,andRestrepo,P.(2021). Unevengrowth: Automation’simpactonincomeandwealth\\ninequality. SSRNElectronic Journal.\\nMollick,E.R.andMollick,L.(2022). Newmodesoflearningenabledbyaichatbots: Threemethodsand\\nassignments. Available atSSRN.\\nNoy, S. and Zhang, W. (2023). Experimental evidence on the productivity effects of generative artificial\\nintelligence. Available atSSRN4375283.\\nO*NET (2023). O*net 27.2 database.\\nOpenAI (2022). Introducing chatgpt.\\nOpenAI (2023a). Gpt-4 system card. Technical report, OpenAI.\\nOpenAI (2023b). Gpt-4 technical report. Technical report, OpenAI.\\nOuyang,L.,Wu,J.,Jiang,X.,Almeida,D.,Wainwright,C.L.,Mishkin,P.,Zhang,C.,Agarwal,S.,Slama,\\nK.,Ray,A.,etal.(2022). Traininglanguagemodelstofollowinstructionswithhumanfeedback. arXiv\\npreprintarXiv:2203.02155.\\nPeng,S.,Kalliamvakou,E.,Cihon,P.,andDemirer,M.(2023). Theimpactofaiondeveloperproductivity:\\nEvidence from github copilot. arXivpreprintarXiv:2302.06590.', 'score': 0.55023503}\n\n{'file': 'dbfs:/Volumes/dbacademy_arxiv/v01/arxiv-articles/2303.10130.pdf', 'text': 'Mostothertechnology exposuremeasureswe\\nexamine are statistically significantly correlated with our preferred exposure measure, while measures of\\nmanualroutinenessandroboticsexposureshownegativecorrelations. Thevarianceexplainedbytheseearlier\\nefforts (Acemogluand Autor, 2011a;Frey and Osborne,2017; Brynjolfsson et al.,2018; Felten etal., 2018;\\nWebb, 2020; Brynjolfsson et al., 2023), along with wage controls, ranges from 60 to 72%, indicating that 28\\nto40%ofthevariationinourAIexposuremeasureremainsunaccountedforbyprevioustechnologyexposure\\nmeasurements.\\nWeanalyzeexposurebyindustryanddiscoverthatinformationprocessingindustries(4-digitNAICS)\\nexhibit high exposure, while manufacturing, agriculture, and mining demonstrate lower exposure. The\\nconnectionbetweenproductivitygrowthinthepastdecadeandoverallLLMexposureappearsweak,suggesting\\na potential optimistic case that future productivity gains from LLMs may not exacerbate possible cost disease\\neffects (Baumol, 2012; Aghion et al., 2018). 3\\nOur analysis indicates that the impacts of LLMs like GPT-4, are likely to be pervasive. While LLMs\\nhave consistently improved in capabilities over time, their growing economic effect is expected to persist and\\nincrease even if we halt the development of new capabilities today. We also find that the potential impact of\\nLLMs expands significantly when we take into account the development of complementary technologies.\\nCollectively, these characteristics imply that Generative Pre-trained Transformers (GPTs) are general-purpose\\ntechnologies (GPTs).', 'score': 0.5447783}\n\n{'file': 'dbfs:/Volumes/dbacademy_arxiv/v01/arxiv-articles/2303.10130.pdf', 'text': 'One way this might take shape is through an augmentation phase where\\njobs first become more precarious (e.g., writers becoming freelancers) before transitioning to full automation.\\nWORKING PAPER\\n6.2 Implications for US Public Policy\\nThe introduction of automation technologies, including LLMs, has previously been linked to heightened\\neconomic disparity and labor disruption, which may give rise to adverse downstream effects (Acemoglu and\\nRestrepo, 2022a; Acemoglu, 2002; Moll et al., 2021; Klinova and Korinek, 2021; Weidinger et al., 2021,\\n2022). OurresultsexaminingworkerexposureintheUnitedStatesunderscoretheneedforsocietalandpolicy\\npreparedness to the potential economic disruption posed by LLMs and the complementary technologies\\nthat they spawn. While it is outside the scope of this paper to recommend specific policy prescriptions to\\nsmooth the transition to an economy with increasingly widespread LLM adoption, prior work such as (Autor\\net al., 2022b) has articulated several important directions for US policy related to education, worker training,\\nreforms to safety net programs, and more.\\n6.3 Limitations and Future Work\\nInadditiontothosediscussedabove,wehighlightsomeparticularlimitationsofthisworkthatwarrantfurther\\ninvestigation. Primarily, ourfocus onthe UnitedStatesrestricts thegeneralizability ofour findingsto other\\nnations where the adoption and impact of generative models may differ due to factors such as industrial\\norganization, technological infrastructure, regulatory frameworks, linguistic diversity, and cultural contexts.\\nWe hope to address this limitation by extending the study’s scope and by sharing our methods so other\\nresearchers can build on them.', 'score': 0.5107019}\n"
     ]
    }
   ],
   "source": [
    "from flashrank import Ranker, RerankRequest\n",
    "\n",
    "# Ensure the model file exists at this path or update the path accordingly\n",
    "cache_dir = f\"{DA.paths.working_dir}/opt\"\n",
    "\n",
    "ranker = Ranker(model_name=\"rank-T5-flan\", cache_dir=cache_dir)\n",
    "\n",
    "rerankrequest = RerankRequest(query=question, passages=passages)\n",
    "results = ranker.rerank(rerankrequest)\n",
    "print(*results[:3], sep=\"\\n\\n\")"
   ]
  },
  {
   "cell_type": "markdown",
   "metadata": {
    "application/vnd.databricks.v1+cell": {
     "cellMetadata": {},
     "inputWidgets": {},
     "nuid": "7f6a9812-06d4-4d3a-a9e0-f350cd1ae49b",
     "showTitle": false,
     "tableResultSettingsMap": {},
     "title": ""
    }
   },
   "source": [
    "\n",
    "## Clean up Classroom\n",
    "\n",
    "**\uD83D\uDEA8 Warning:** Please refrain from deleting tables created in this demo, as they are required for upcoming demonstrations. To clean up the classroom assets, execute the classroom clean-up script provided in the final demo."
   ]
  },
  {
   "cell_type": "markdown",
   "metadata": {
    "application/vnd.databricks.v1+cell": {
     "cellMetadata": {},
     "inputWidgets": {},
     "nuid": "e862abe8-24a0-486b-9907-95ad6582015c",
     "showTitle": false,
     "tableResultSettingsMap": {},
     "title": ""
    }
   },
   "source": [
    "\n",
    "## Conclusion\n",
    "\n",
    "In this demo, the objective was to generate embeddings from documents and store them in Vector Search. The initial step involved creating a Vector Search index, which required the establishment of a compute endpoint and the creation of an index that is synchronized with a source Delta table. Following this, we conducted a search for the stored indexes using a sample input query."
   ]
  },
  {
   "cell_type": "markdown",
   "metadata": {
    "application/vnd.databricks.v1+cell": {
     "cellMetadata": {},
     "inputWidgets": {},
     "nuid": "23aeb319-ddea-48cc-afa0-1f8eaeb6458a",
     "showTitle": false,
     "tableResultSettingsMap": {},
     "title": ""
    }
   },
   "source": [
    "\n",
    "&copy; 2025 Databricks, Inc. All rights reserved. Apache, Apache Spark, Spark, the Spark Logo, Apache Iceberg, Iceberg, and the Apache Iceberg logo are trademarks of the <a href=\"https://www.apache.org/\" target=\"blank\">Apache Software Foundation</a>.<br/>\n",
    "<br/><a href=\"https://databricks.com/privacy-policy\" target=\"blank\">Privacy Policy</a> | \n",
    "<a href=\"https://databricks.com/terms-of-use\" target=\"blank\">Terms of Use</a> | \n",
    "<a href=\"https://help.databricks.com/\" target=\"blank\">Support</a>"
   ]
  }
 ],
 "metadata": {
  "application/vnd.databricks.v1+notebook": {
   "computePreferences": null,
   "dashboards": [],
   "environmentMetadata": null,
   "inputWidgetPreferences": null,
   "language": "python",
   "notebookMetadata": {
    "pythonIndentUnit": 4
   },
   "notebookName": "3.1 - Create Self-managed Vector Search Index",
   "widgets": {}
  },
  "language_info": {
   "name": "python"
  }
 },
 "nbformat": 4,
 "nbformat_minor": 0
}