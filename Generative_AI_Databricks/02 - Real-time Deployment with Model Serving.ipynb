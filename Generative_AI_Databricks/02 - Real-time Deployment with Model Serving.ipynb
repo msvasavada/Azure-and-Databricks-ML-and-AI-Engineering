{
 "cells": [
  {
   "cell_type": "markdown",
   "metadata": {
    "application/vnd.databricks.v1+cell": {
     "cellMetadata": {},
     "inputWidgets": {},
     "nuid": "f337625f-e100-4641-8623-5f079d2f81fc",
     "showTitle": false,
     "tableResultSettingsMap": {},
     "title": ""
    }
   },
   "source": [
    "\n",
    "<div style=\"text-align: center; line-height: 0; padding-top: 9px;\">\n",
    "  <img src=\"https://databricks.com/wp-content/uploads/2018/03/db-academy-rgb-1200px.png\" alt=\"Databricks Learning\">\n",
    "</div>\n"
   ]
  },
  {
   "cell_type": "markdown",
   "metadata": {
    "application/vnd.databricks.v1+cell": {
     "cellMetadata": {},
     "inputWidgets": {},
     "nuid": "de95412e-2054-4330-a2e6-b1c00db8b261",
     "showTitle": false,
     "tableResultSettingsMap": {},
     "title": ""
    }
   },
   "source": [
    "# DEMO - Real-time Deployment with Model Serving\n",
    "\n",
    "In this demo, we will serve the model stored in the model registry using Mosaic Model Serving. We will utilize the Agent Framework to serve the models. When models are served with the Agent Framework, an app called Review App is automatically deployed alongside the model, allowing you to interact with the model and gather human feedback on its responses.\n",
    "\n",
    "**Learning Objectives:**\n",
    "\n",
    "*By the end of this demo, you will be able to:*\n",
    "\n",
    "- Deploy a model using the Agent Framework.\n",
    "- Use the Review App to interact with the model and collect human feedback."
   ]
  },
  {
   "cell_type": "markdown",
   "metadata": {
    "application/vnd.databricks.v1+cell": {
     "cellMetadata": {},
     "inputWidgets": {},
     "nuid": "16d44ae4-2eae-4740-ab19-a1fbd3310327",
     "showTitle": false,
     "tableResultSettingsMap": {},
     "title": ""
    }
   },
   "source": [
    "## REQUIRED - SELECT CLASSIC COMPUTE\n",
    "Before executing cells in this notebook, please select your classic compute cluster in the lab. Be aware that **Serverless** is enabled by default.\n",
    "\n",
    "Follow these steps to select the classic compute cluster:\n",
    "1. Navigate to the top-right of this notebook and click the drop-down menu to select your cluster. By default, the notebook will use **Serverless**.\n",
    "\n",
    "2. If your cluster is available, select it and continue to the next cell. If the cluster is not shown:\n",
    "\n",
    "   - Click **More** in the drop-down.\n",
    "   \n",
    "   - In the **Attach to an existing compute resource** window, use the first drop-down to select your unique cluster.\n",
    "\n",
    "**NOTE:** If your cluster has terminated, you might need to restart it in order to select it. To do this:\n",
    "\n",
    "1. Right-click on **Compute** in the left navigation pane and select *Open in new tab*.\n",
    "\n",
    "2. Find the triangle icon to the right of your compute cluster name and click it.\n",
    "\n",
    "3. Wait a few minutes for the cluster to start.\n",
    "\n",
    "4. Once the cluster is running, complete the steps above to select your cluster."
   ]
  },
  {
   "cell_type": "markdown",
   "metadata": {
    "application/vnd.databricks.v1+cell": {
     "cellMetadata": {},
     "inputWidgets": {},
     "nuid": "eedb7d1e-cf81-4413-9965-98507a0c5841",
     "showTitle": false,
     "tableResultSettingsMap": {},
     "title": ""
    }
   },
   "source": [
    "## Requirements\n",
    "\n",
    "Please review the following requirements before starting the lesson:\n",
    "\n",
    "* To run this notebook, you need to use one of the following Databricks runtime(s): **16.2.x-cpu-ml-scala2.12**\n"
   ]
  },
  {
   "cell_type": "markdown",
   "metadata": {
    "application/vnd.databricks.v1+cell": {
     "cellMetadata": {},
     "inputWidgets": {},
     "nuid": "753f3922-1663-452b-a0f8-d07d27e3b9b6",
     "showTitle": false,
     "tableResultSettingsMap": {},
     "title": ""
    }
   },
   "source": [
    "\n",
    "## Classroom Setup\n",
    "\n",
    "Install required libraries."
   ]
  },
  {
   "cell_type": "code",
   "execution_count": 0,
   "metadata": {
    "application/vnd.databricks.v1+cell": {
     "cellMetadata": {
      "byteLimit": 2048000,
      "rowLimit": 10000
     },
     "inputWidgets": {},
     "nuid": "19555754-9d8e-40dd-a578-776d62add3d6",
     "showTitle": false,
     "tableResultSettingsMap": {},
     "title": ""
    }
   },
   "outputs": [
    {
     "output_type": "stream",
     "name": "stdout",
     "output_type": "stream",
     "text": [
      "\u001B[43mNote: you may need to restart the kernel using %restart_python or dbutils.library.restartPython() to use updated packages.\u001B[0m\n"
     ]
    }
   ],
   "source": [
    "%pip install -qq -U databricks-sdk langchain-databricks databricks-vectorsearch databricks-agents\n",
    "dbutils.library.restartPython()"
   ]
  },
  {
   "cell_type": "markdown",
   "metadata": {
    "application/vnd.databricks.v1+cell": {
     "cellMetadata": {},
     "inputWidgets": {},
     "nuid": "2f5de80b-0872-4f55-8428-79a24ddda8da",
     "showTitle": false,
     "tableResultSettingsMap": {},
     "title": ""
    }
   },
   "source": [
    "**Other Conventions:**\n",
    "\n",
    "Throughout this demo, we'll refer to the object `DA`. This object, provided by Databricks Academy, contains variables such as your username, catalog name, schema name, working directory, and dataset locations. Run the code block below to view these details:"
   ]
  },
  {
   "cell_type": "code",
   "execution_count": 0,
   "metadata": {
    "application/vnd.databricks.v1+cell": {
     "cellMetadata": {
      "byteLimit": 2048000,
      "rowLimit": 10000
     },
     "inputWidgets": {},
     "nuid": "e1bea840-a949-4319-ae48-644fb838c633",
     "showTitle": false,
     "tableResultSettingsMap": {},
     "title": ""
    }
   },
   "outputs": [
    {
     "output_type": "stream",
     "name": "stdout",
     "output_type": "stream",
     "text": [
      "\nThe examples and models presented in this course are intended solely for demonstration and educational purposes.\n Please note that the models and prompt examples may sometimes contain offensive, inaccurate, biased, or harmful content.\n"
     ]
    }
   ],
   "source": [
    "%run ../Includes/Classroom-Setup-03"
   ]
  },
  {
   "cell_type": "code",
   "execution_count": 0,
   "metadata": {
    "application/vnd.databricks.v1+cell": {
     "cellMetadata": {
      "byteLimit": 2048000,
      "rowLimit": 10000
     },
     "inputWidgets": {},
     "nuid": "6a44e8e7-0077-4577-94a7-f0fdd4c6b035",
     "showTitle": false,
     "tableResultSettingsMap": {},
     "title": ""
    }
   },
   "outputs": [
    {
     "output_type": "stream",
     "name": "stdout",
     "output_type": "stream",
     "text": [
      "= Variables that you will need for this demo = \n\nCatalog Name                : dbacademy\n\nSchema Name                 : labuser10813094_1751496013\n\nRAG Registered Model        : dbacademy.labuser10813094_1751496013.getstarted_genai_rag_demo \n\n"
     ]
    }
   ],
   "source": [
    "model_name = f\"{DA.catalog_name}.{DA.schema_name}.getstarted_genai_rag_demo\"\n",
    "\n",
    "print(f\"= Variables that you will need for this demo = \\n\")\n",
    "print(f\"Catalog Name                : {DA.catalog_name}\\n\")\n",
    "print(f\"Schema Name                 : {DA.schema_name}\\n\")\n",
    "print(f\"RAG Registered Model        : {model_name} \\n\")"
   ]
  },
  {
   "cell_type": "markdown",
   "metadata": {
    "application/vnd.databricks.v1+cell": {
     "cellMetadata": {},
     "inputWidgets": {},
     "nuid": "9e30bdef-dfab-4159-80a1-b45ecc6fbe22",
     "showTitle": false,
     "tableResultSettingsMap": {},
     "title": ""
    }
   },
   "source": [
    "## Serve the Model with Agent Framework\n",
    "\n",
    "**\uD83D\uDEA8 Note:** This step is intended for the course instructor only. If you are using your own environment, feel free to comment out the cells and run them to deploy the model and access the Review App.\n"
   ]
  },
  {
   "cell_type": "code",
   "execution_count": 0,
   "metadata": {
    "application/vnd.databricks.v1+cell": {
     "cellMetadata": {
      "byteLimit": 2048000,
      "rowLimit": 10000
     },
     "inputWidgets": {},
     "nuid": "2cb43790-f16e-4551-81f0-e080ef00b808",
     "showTitle": false,
     "tableResultSettingsMap": {},
     "title": ""
    }
   },
   "outputs": [
    {
     "output_type": "display_data",
     "data": {
      "application/vnd.jupyter.widget-view+json": {
       "model_id": "0ed62e6fe6504b699410da430126e3d0",
       "version_major": 2,
       "version_minor": 0
      },
      "text/plain": [
       "Downloading artifacts:   0%|          | 0/1 [00:00<?, ?it/s]"
      ]
     },
     "metadata": {},
     "output_type": "display_data"
    },
    {
     "output_type": "stream",
     "name": "stderr",
     "output_type": "stream",
     "text": [
      "WARNING:databricks.agents.utils.mlflow_utils:Agent model version did not have any of the recommended agent signatures. Falling back to checking agent model version compatibility with legacy signatures. Databricks recommends updating and re-logging agents to use the latest signatures; legacy signatures will be removed in the next major MLflow release. See https://docs.databricks.com/en/generative-ai/agent-framework/agent-schema.html for additional details\n/local_disk0/.ephemeral_nfs/envs/pythonEnv-f3767cc7-dd42-4422-9b44-969566286459/lib/python3.12/site-packages/databricks/agents/utils/mlflow_utils.py:149: FutureWarning: ``mlflow.models.rag_signatures.ChatCompletionRequest`` is deprecated. This method will be removed in a future release. Use ``mlflow.types.llm.ChatCompletionRequest`` instead.\n  ChatCompletionRequest()\n/local_disk0/.ephemeral_nfs/envs/pythonEnv-f3767cc7-dd42-4422-9b44-969566286459/lib/python3.12/site-packages/mlflow/models/rag_signatures.py:26: FutureWarning: ``mlflow.models.rag_signatures.Message`` is deprecated. This method will be removed in a future release. Use ``mlflow.types.llm.ChatMessage`` instead.\n  messages: list[Message] = field(default_factory=lambda: [Message()])\n/local_disk0/.ephemeral_nfs/envs/pythonEnv-f3767cc7-dd42-4422-9b44-969566286459/lib/python3.12/site-packages/databricks/agents/utils/mlflow_utils.py:152: FutureWarning: ``mlflow.models.rag_signatures.SplitChatMessagesRequest`` is deprecated. This method will be removed in a future release. Use ``mlflow.types.llm.ChatCompletionRequest`` instead.\n  split_chat_messages_schema = convert_dataclass_to_schema(SplitChatMessagesRequest())\n/local_disk0/.ephemeral_nfs/envs/pythonEnv-f3767cc7-dd42-4422-9b44-969566286459/lib/python3.12/site-packages/databricks/agents/utils/mlflow_utils.py:203: FutureWarning: ``mlflow.models.rag_signatures.ChatCompletionResponse`` is deprecated. This method will be removed in a future release. Use ``mlflow.types.llm.ChatCompletionResponse`` instead.\n  ChatCompletionResponse()\n/local_disk0/.ephemeral_nfs/envs/pythonEnv-f3767cc7-dd42-4422-9b44-969566286459/lib/python3.12/site-packages/mlflow/models/rag_signatures.py:72: FutureWarning: ``mlflow.models.rag_signatures.ChainCompletionChoice`` is deprecated. This method will be removed in a future release. Use ``mlflow.types.llm.ChatChoice`` instead.\n  choices: list[ChainCompletionChoice] = field(default_factory=lambda: [ChainCompletionChoice()])\n/local_disk0/.ephemeral_nfs/envs/pythonEnv-f3767cc7-dd42-4422-9b44-969566286459/lib/python3.12/site-packages/mlflow/models/rag_signatures.py:48: FutureWarning: ``mlflow.models.rag_signatures.Message`` is deprecated. This method will be removed in a future release. Use ``mlflow.types.llm.ChatMessage`` instead.\n  default_factory=lambda: Message(\n/local_disk0/.ephemeral_nfs/envs/pythonEnv-f3767cc7-dd42-4422-9b44-969566286459/lib/python3.12/site-packages/databricks/agents/utils/mlflow_utils.py:206: FutureWarning: ``mlflow.models.rag_signatures.StringResponse`` is deprecated. This method will be removed in a future release. Use ``mlflow.types.llm.ChatCompletionResponse`` instead.\n  string_response_schema = convert_dataclass_to_schema(StringResponse())\n"
     ]
    },
    {
     "output_type": "display_data",
     "data": {
      "application/vnd.jupyter.widget-view+json": {
       "model_id": "722b12472c9142c6adc7bc44e8902265",
       "version_major": 2,
       "version_minor": 0
      },
      "text/plain": [
       "Downloading artifacts:   0%|          | 0/1 [00:00<?, ?it/s]"
      ]
     },
     "metadata": {},
     "output_type": "display_data"
    },
    {
     "output_type": "stream",
     "name": "stderr",
     "output_type": "stream",
     "text": [
      "2025/07/02 23:40:00 INFO mlflow.pyfunc: Validating input example against model signature\n"
     ]
    },
    {
     "output_type": "display_data",
     "data": {
      "application/vnd.jupyter.widget-view+json": {
       "model_id": "7204de25cae44f48b6e3a30e9eb6b1cf",
       "version_major": 2,
       "version_minor": 0
      },
      "text/plain": [
       "Uploading artifacts:   0%|          | 0/12 [00:00<?, ?it/s]"
      ]
     },
     "metadata": {},
     "output_type": "display_data"
    },
    {
     "output_type": "stream",
     "name": "stderr",
     "output_type": "stream",
     "text": [
      "Successfully registered model 'dbacademy.labuser10813094_1751496013.feedback'.\n"
     ]
    },
    {
     "output_type": "display_data",
     "data": {
      "application/vnd.jupyter.widget-view+json": {
       "model_id": "7abff7f6080a47888fd2d9842852b978",
       "version_major": 2,
       "version_minor": 0
      },
      "text/plain": [
       "Uploading artifacts:   0%|          | 0/12 [00:00<?, ?it/s]"
      ]
     },
     "metadata": {},
     "output_type": "display_data"
    },
    {
     "output_type": "stream",
     "name": "stderr",
     "output_type": "stream",
     "text": [
      "Created version '1' of model 'dbacademy.labuser10813094_1751496013.feedback'.\n"
     ]
    },
    {
     "output_type": "stream",
     "name": "stdout",
     "output_type": "stream",
     "text": [
      "\n    Deployment of dbacademy.labuser10813094_1751496013.getstarted_genai_rag_demo version 1 initiated.  This can take up to 15 minutes and the Review App & Query Endpoint will not work until this deployment finishes.\n\n    View status: https://dbc-be792efb-7a0c.cloud.databricks.com/ml/endpoints/agents_dbacademy-labuser10813094_1751496013-getstarted_genai_ra\n    Review App: https://dbc-be792efb-7a0c.cloud.databricks.com/ml/review-v2/5c959b816cac426ea64c6d87a6b0af84/chat\n\nWaiting for endpoint to deploy.  This can take 15 - 20 minutes.................\nThe endpoint is ready!"
     ]
    }
   ],
   "source": [
    "import time\n",
    "import mlflow\n",
    "from databricks.sdk import WorkspaceClient\n",
    "from databricks.sdk.service.serving import EndpointStateReady, EndpointStateConfigUpdate\n",
    "from databricks import agents\n",
    "\n",
    "model_name = f\"{DA.catalog_name}.{DA.schema_name}.getstarted_genai_rag_demo\"\n",
    "# Deploy the model with the agent framework\n",
    "deployment_info = agents.deploy(\n",
    "    model_name, \n",
    "    model_version=1,\n",
    "    scale_to_zero=True)\n",
    "\n",
    "# Wait for the Review App and deployed model to be ready\n",
    "w = WorkspaceClient()\n",
    "print(\"\\nWaiting for endpoint to deploy.  This can take 15 - 20 minutes.\", end=\"\")\n",
    "\n",
    "while ((w.serving_endpoints.get(deployment_info.endpoint_name).state.ready == EndpointStateReady.NOT_READY) or (w.serving_endpoints.get(deployment_info.endpoint_name).state.config_update == EndpointStateConfigUpdate.IN_PROGRESS)):\n",
    "    print(\".\", end=\"\")\n",
    "    time.sleep(30)\n",
    "\n",
    "print(\"\\nThe endpoint is ready!\", end=\"\")"
   ]
  },
  {
   "cell_type": "markdown",
   "metadata": {
    "application/vnd.databricks.v1+cell": {
     "cellMetadata": {},
     "inputWidgets": {},
     "nuid": "6a079373-860c-4467-8fc5-5639ce5de845",
     "showTitle": false,
     "tableResultSettingsMap": {},
     "title": ""
    }
   },
   "source": [
    "## Collect Human Feedback via Databricks Review App\n",
    "\n",
    "The Databricks Review App stages the LLM in an environment where expert stakeholders can engage with it—allowing for conversations, questions, and more. This setup enables the collection of valuable feedback on your application, ensuring the quality and safety of its responses.\n",
    "\n",
    "**Stakeholders can interact with the application bot and provide feedback on these interactions. They can also offer feedback on historical logs, curated traces, or agent outputs.**\n"
   ]
  },
  {
   "cell_type": "code",
   "execution_count": 0,
   "metadata": {
    "application/vnd.databricks.v1+cell": {
     "cellMetadata": {
      "byteLimit": 2048000,
      "rowLimit": 10000
     },
     "inputWidgets": {},
     "nuid": "6363e8ad-be87-4257-a4ac-f31329506a78",
     "showTitle": false,
     "tableResultSettingsMap": {},
     "title": ""
    }
   },
   "outputs": [
    {
     "output_type": "stream",
     "name": "stdout",
     "output_type": "stream",
     "text": [
      "Endpoint URL    : https://dbc-be792efb-7a0c.cloud.databricks.com/ml/endpoints/agents_dbacademy-labuser10813094_1751496013-getstarted_genai_ra\nReview App URL  : https://dbc-be792efb-7a0c.cloud.databricks.com/ml/review-v2/5c959b816cac426ea64c6d87a6b0af84/chat\n"
     ]
    }
   ],
   "source": [
    "print(f\"Endpoint URL    : {deployment_info.endpoint_url}\")\n",
    "print(f\"Review App URL  : {deployment_info.review_app_url}\")"
   ]
  },
  {
   "cell_type": "markdown",
   "metadata": {
    "application/vnd.databricks.v1+cell": {
     "cellMetadata": {},
     "inputWidgets": {},
     "nuid": "f26c82d1-c62b-4740-a6fa-9a65a33e5b4d",
     "showTitle": false,
     "tableResultSettingsMap": {},
     "title": ""
    }
   },
   "source": [
    "## Summary\n",
    "\n",
    "In this demo, we first deployed the registered model using the Agent Framework. Then, we interacted with the deployed model through the Review App. Additionally, we demonstrated how the Review App can be used to collect human feedback, which can later be analyzed or used to improve the model."
   ]
  },
  {
   "cell_type": "markdown",
   "metadata": {
    "application/vnd.databricks.v1+cell": {
     "cellMetadata": {},
     "inputWidgets": {},
     "nuid": "c8f88f05-aaec-41a2-a23a-3499624a23ac",
     "showTitle": false,
     "tableResultSettingsMap": {},
     "title": ""
    }
   },
   "source": [
    "\n",
    "&copy; 2025 Databricks, Inc. All rights reserved. Apache, Apache Spark, Spark, the Spark Logo, Apache Iceberg, Iceberg, and the Apache Iceberg logo are trademarks of the <a href=\"https://www.apache.org/\" target=\"blank\">Apache Software Foundation</a>.<br/>\n",
    "<br/><a href=\"https://databricks.com/privacy-policy\" target=\"blank\">Privacy Policy</a> | \n",
    "<a href=\"https://databricks.com/terms-of-use\" target=\"blank\">Terms of Use</a> | \n",
    "<a href=\"https://help.databricks.com/\" target=\"blank\">Support</a>"
   ]
  }
 ],
 "metadata": {
  "application/vnd.databricks.v1+notebook": {
   "computePreferences": null,
   "dashboards": [],
   "environmentMetadata": null,
   "inputWidgetPreferences": null,
   "language": "python",
   "notebookMetadata": {
    "pythonIndentUnit": 4
   },
   "notebookName": "02 - Real-time Deployment with Model Serving",
   "widgets": {}
  },
  "language_info": {
   "name": "python"
  }
 },
 "nbformat": 4,
 "nbformat_minor": 0
}