{
 "cells": [
  {
   "cell_type": "markdown",
   "metadata": {
    "application/vnd.databricks.v1+cell": {
     "cellMetadata": {},
     "inputWidgets": {},
     "nuid": "7c88e017-df00-4c28-9d59-39d7a27f1adf",
     "showTitle": false,
     "tableResultSettingsMap": {},
     "title": ""
    }
   },
   "source": [
    "# Logistic Regression Classifier training\n",
    "- This is an auto-generated notebook.\n",
    "- To reproduce these results, attach this notebook to a cluster with runtime version **13.3.x-cpu-ml-scala2.12**, and rerun it.\n",
    "- Compare trials in the [MLflow experiment](#mlflow/experiments/3255553230519625).\n",
    "- Clone this notebook into your project folder by selecting **File > Clone** in the notebook toolbar."
   ]
  },
  {
   "cell_type": "code",
   "execution_count": 0,
   "metadata": {
    "application/vnd.databricks.v1+cell": {
     "cellMetadata": {},
     "inputWidgets": {},
     "nuid": "55c2c68e-0508-4612-a44f-011a7b57ede7",
     "showTitle": false,
     "tableResultSettingsMap": {},
     "title": ""
    },
    "execution": {
     "iopub.execute_input": "2024-12-22T23:14:41.274774Z",
     "iopub.status.busy": "2024-12-22T23:14:41.274091Z",
     "iopub.status.idle": "2024-12-22T23:14:41.282936Z",
     "shell.execute_reply": "2024-12-22T23:14:41.281690Z"
    }
   },
   "outputs": [],
   "source": [
    "import mlflow\n",
    "import databricks.automl_runtime\n",
    "\n",
    "target_col = \"Churn\""
   ]
  },
  {
   "cell_type": "markdown",
   "metadata": {
    "application/vnd.databricks.v1+cell": {
     "cellMetadata": {},
     "inputWidgets": {},
     "nuid": "aa5db272-42f5-4cc4-9d39-53e37624a072",
     "showTitle": false,
     "tableResultSettingsMap": {},
     "title": ""
    }
   },
   "source": [
    "## Load Data"
   ]
  },
  {
   "cell_type": "code",
   "execution_count": 0,
   "metadata": {
    "application/vnd.databricks.v1+cell": {
     "cellMetadata": {},
     "inputWidgets": {},
     "nuid": "e06569e0-4812-423d-9273-8f178eb19595",
     "showTitle": false,
     "tableResultSettingsMap": {},
     "title": ""
    },
    "execution": {
     "iopub.execute_input": "2024-12-22T23:14:41.290321Z",
     "iopub.status.busy": "2024-12-22T23:14:41.288307Z",
     "iopub.status.idle": "2024-12-22T23:14:42.498587Z",
     "shell.execute_reply": "2024-12-22T23:14:42.497259Z"
    }
   },
   "outputs": [
    {
     "output_type": "execute_result",
     "data": {
      "text/html": [
       "<div>\n",
       "<style scoped>\n",
       "    .dataframe tbody tr th:only-of-type {\n",
       "        vertical-align: middle;\n",
       "    }\n",
       "\n",
       "    .dataframe tbody tr th {\n",
       "        vertical-align: top;\n",
       "    }\n",
       "\n",
       "    .dataframe thead th {\n",
       "        text-align: right;\n",
       "    }\n",
       "</style>\n",
       "<table border=\"1\" class=\"dataframe\">\n",
       "  <thead>\n",
       "    <tr style=\"text-align: right;\">\n",
       "      <th></th>\n",
       "      <th>Gender</th>\n",
       "      <th>SeniorCitizen</th>\n",
       "      <th>Partner</th>\n",
       "      <th>Tenure</th>\n",
       "      <th>InternetService</th>\n",
       "      <th>Contract</th>\n",
       "      <th>PaperlessBilling</th>\n",
       "      <th>PaymentMethod</th>\n",
       "      <th>TotalCharges</th>\n",
       "      <th>Churn</th>\n",
       "      <th>_automl_split_col_0000</th>\n",
       "    </tr>\n",
       "  </thead>\n",
       "  <tbody>\n",
       "    <tr>\n",
       "      <th>0</th>\n",
       "      <td>Female</td>\n",
       "      <td>0</td>\n",
       "      <td>Yes</td>\n",
       "      <td>1.0</td>\n",
       "      <td>DSL</td>\n",
       "      <td>Month-to-month</td>\n",
       "      <td>Yes</td>\n",
       "      <td>Electronic check</td>\n",
       "      <td>29.85</td>\n",
       "      <td>No</td>\n",
       "      <td>train</td>\n",
       "    </tr>\n",
       "    <tr>\n",
       "      <th>1</th>\n",
       "      <td>Female</td>\n",
       "      <td>0</td>\n",
       "      <td>No</td>\n",
       "      <td>2.0</td>\n",
       "      <td>Fiber optic</td>\n",
       "      <td>Month-to-month</td>\n",
       "      <td>Yes</td>\n",
       "      <td>Electronic check</td>\n",
       "      <td>151.65</td>\n",
       "      <td>Yes</td>\n",
       "      <td>train</td>\n",
       "    </tr>\n",
       "    <tr>\n",
       "      <th>2</th>\n",
       "      <td>Male</td>\n",
       "      <td>0</td>\n",
       "      <td>No</td>\n",
       "      <td>22.0</td>\n",
       "      <td>Fiber optic</td>\n",
       "      <td>Month-to-month</td>\n",
       "      <td>Yes</td>\n",
       "      <td>Credit card (automatic)</td>\n",
       "      <td>1949.40</td>\n",
       "      <td>No</td>\n",
       "      <td>train</td>\n",
       "    </tr>\n",
       "    <tr>\n",
       "      <th>3</th>\n",
       "      <td>Female</td>\n",
       "      <td>0</td>\n",
       "      <td>No</td>\n",
       "      <td>10.0</td>\n",
       "      <td>DSL</td>\n",
       "      <td>Month-to-month</td>\n",
       "      <td>No</td>\n",
       "      <td>Mailed check</td>\n",
       "      <td>301.90</td>\n",
       "      <td>No</td>\n",
       "      <td>train</td>\n",
       "    </tr>\n",
       "    <tr>\n",
       "      <th>4</th>\n",
       "      <td>Male</td>\n",
       "      <td>0</td>\n",
       "      <td>No</td>\n",
       "      <td>16.0</td>\n",
       "      <td>No</td>\n",
       "      <td>Two year</td>\n",
       "      <td>No</td>\n",
       "      <td>Credit card (automatic)</td>\n",
       "      <td>326.80</td>\n",
       "      <td>No</td>\n",
       "      <td>train</td>\n",
       "    </tr>\n",
       "  </tbody>\n",
       "</table>\n",
       "</div>"
      ],
      "text/plain": [
       "   Gender  SeniorCitizen Partner  Tenure InternetService        Contract  \\\n",
       "0  Female              0     Yes     1.0             DSL  Month-to-month   \n",
       "1  Female              0      No     2.0     Fiber optic  Month-to-month   \n",
       "2    Male              0      No    22.0     Fiber optic  Month-to-month   \n",
       "3  Female              0      No    10.0             DSL  Month-to-month   \n",
       "4    Male              0      No    16.0              No        Two year   \n",
       "\n",
       "  PaperlessBilling            PaymentMethod  TotalCharges Churn  \\\n",
       "0              Yes         Electronic check         29.85    No   \n",
       "1              Yes         Electronic check        151.65   Yes   \n",
       "2              Yes  Credit card (automatic)       1949.40    No   \n",
       "3               No             Mailed check        301.90    No   \n",
       "4               No  Credit card (automatic)        326.80    No   \n",
       "\n",
       "  _automl_split_col_0000  \n",
       "0                  train  \n",
       "1                  train  \n",
       "2                  train  \n",
       "3                  train  \n",
       "4                  train  "
      ]
     },
     "execution_count": 3,
     "metadata": {},
     "output_type": "execute_result"
    }
   ],
   "source": [
    "import mlflow\n",
    "import os\n",
    "import uuid\n",
    "import shutil\n",
    "import pandas as pd\n",
    "\n",
    "# Create temp directory to download input data from MLflow\n",
    "input_temp_dir = os.path.join(os.environ[\"SPARK_LOCAL_DIRS\"], \"tmp\", str(uuid.uuid4())[:8])\n",
    "os.makedirs(input_temp_dir)\n",
    "\n",
    "\n",
    "# Download the artifact and read it into a pandas DataFrame\n",
    "input_data_path = mlflow.artifacts.download_artifacts(run_id=\"a031eecdbc8a4b8a8fcea183020cc2dd\", artifact_path=\"data\", dst_path=input_temp_dir)\n",
    "\n",
    "df_loaded = pd.read_parquet(os.path.join(input_data_path, \"training_data\"))\n",
    "# Delete the temp data\n",
    "shutil.rmtree(input_temp_dir)\n",
    "\n",
    "# Preview data\n",
    "df_loaded.head(5)"
   ]
  },
  {
   "cell_type": "markdown",
   "metadata": {
    "application/vnd.databricks.v1+cell": {
     "cellMetadata": {},
     "inputWidgets": {},
     "nuid": "f48198e6-f72c-4e44-a1e2-d4e0e9854ee8",
     "showTitle": false,
     "tableResultSettingsMap": {},
     "title": ""
    }
   },
   "source": [
    "### Select supported columns\n",
    "Select only the columns that are supported. This allows us to train a model that can predict on a dataset that has extra columns that are not used in training.\n",
    "`[]` are dropped in the pipelines. See the Alerts tab of the AutoML Experiment page for details on why these columns are dropped."
   ]
  },
  {
   "cell_type": "code",
   "execution_count": 0,
   "metadata": {
    "application/vnd.databricks.v1+cell": {
     "cellMetadata": {},
     "inputWidgets": {},
     "nuid": "968ce4db-a360-4aca-80e6-3730b3fa947a",
     "showTitle": false,
     "tableResultSettingsMap": {},
     "title": ""
    },
    "execution": {
     "iopub.execute_input": "2024-12-22T23:14:42.503292Z",
     "iopub.status.busy": "2024-12-22T23:14:42.502989Z",
     "iopub.status.idle": "2024-12-22T23:14:43.533419Z",
     "shell.execute_reply": "2024-12-22T23:14:43.531199Z"
    }
   },
   "outputs": [],
   "source": [
    "from databricks.automl_runtime.sklearn.column_selector import ColumnSelector\n",
    "supported_cols = [\"Contract\", \"TotalCharges\", \"Partner\", \"PaymentMethod\", \"PaperlessBilling\", \"Tenure\", \"InternetService\", \"Gender\", \"SeniorCitizen\"]\n",
    "col_selector = ColumnSelector(supported_cols)"
   ]
  },
  {
   "cell_type": "markdown",
   "metadata": {
    "application/vnd.databricks.v1+cell": {
     "cellMetadata": {},
     "inputWidgets": {},
     "nuid": "6dae1e4e-5b94-44e4-8bf0-5aa2b9272294",
     "showTitle": false,
     "tableResultSettingsMap": {},
     "title": ""
    }
   },
   "source": [
    "## Preprocessors"
   ]
  },
  {
   "cell_type": "markdown",
   "metadata": {
    "application/vnd.databricks.v1+cell": {
     "cellMetadata": {},
     "inputWidgets": {},
     "nuid": "d2915b59-3614-431e-8601-162b7f673bec",
     "showTitle": false,
     "tableResultSettingsMap": {},
     "title": ""
    }
   },
   "source": [
    "### Boolean columns\n",
    "For each column, impute missing values and then convert into ones and zeros."
   ]
  },
  {
   "cell_type": "code",
   "execution_count": 0,
   "metadata": {
    "application/vnd.databricks.v1+cell": {
     "cellMetadata": {},
     "inputWidgets": {},
     "nuid": "6f81785a-8fd3-4752-ab83-94f581102155",
     "showTitle": false,
     "tableResultSettingsMap": {},
     "title": ""
    },
    "execution": {
     "iopub.execute_input": "2024-12-22T23:14:43.538957Z",
     "iopub.status.busy": "2024-12-22T23:14:43.538274Z",
     "iopub.status.idle": "2024-12-22T23:14:43.548904Z",
     "shell.execute_reply": "2024-12-22T23:14:43.547503Z"
    }
   },
   "outputs": [],
   "source": [
    "from sklearn.compose import ColumnTransformer\n",
    "from sklearn.impute import SimpleImputer\n",
    "from sklearn.pipeline import Pipeline\n",
    "from sklearn.preprocessing import FunctionTransformer\n",
    "from sklearn.preprocessing import OneHotEncoder as SklearnOneHotEncoder\n",
    "\n",
    "\n",
    "bool_imputers = []\n",
    "\n",
    "bool_pipeline = Pipeline(steps=[\n",
    "    (\"cast_type\", FunctionTransformer(lambda df: df.astype(object))),\n",
    "    (\"imputers\", ColumnTransformer(bool_imputers, remainder=\"passthrough\")),\n",
    "    (\"onehot\", SklearnOneHotEncoder(handle_unknown=\"ignore\", drop=\"first\")),\n",
    "])\n",
    "\n",
    "bool_transformers = [(\"boolean\", bool_pipeline, [\"Gender\", \"SeniorCitizen\", \"Partner\", \"PaperlessBilling\"])]"
   ]
  },
  {
   "cell_type": "markdown",
   "metadata": {
    "application/vnd.databricks.v1+cell": {
     "cellMetadata": {},
     "inputWidgets": {},
     "nuid": "d89f5dfc-9c31-4bc8-8e2f-ce5a9798b6ae",
     "showTitle": false,
     "tableResultSettingsMap": {},
     "title": ""
    }
   },
   "source": [
    "### Numerical columns\n",
    "\n",
    "Missing values for numerical columns are imputed with mean by default."
   ]
  },
  {
   "cell_type": "code",
   "execution_count": 0,
   "metadata": {
    "application/vnd.databricks.v1+cell": {
     "cellMetadata": {},
     "inputWidgets": {},
     "nuid": "bd1b9644-ee66-4e84-a361-01ea199e9ccd",
     "showTitle": false,
     "tableResultSettingsMap": {},
     "title": ""
    },
    "execution": {
     "iopub.execute_input": "2024-12-22T23:14:43.554555Z",
     "iopub.status.busy": "2024-12-22T23:14:43.553837Z",
     "iopub.status.idle": "2024-12-22T23:14:43.567754Z",
     "shell.execute_reply": "2024-12-22T23:14:43.565276Z"
    }
   },
   "outputs": [],
   "source": [
    "from sklearn.compose import ColumnTransformer\n",
    "from sklearn.impute import SimpleImputer\n",
    "from sklearn.pipeline import Pipeline\n",
    "from sklearn.preprocessing import FunctionTransformer, StandardScaler\n",
    "\n",
    "num_imputers = []\n",
    "num_imputers.append((\"impute_mean\", SimpleImputer(), [\"SeniorCitizen\", \"Tenure\", \"TotalCharges\"]))\n",
    "\n",
    "numerical_pipeline = Pipeline(steps=[\n",
    "    (\"converter\", FunctionTransformer(lambda df: df.apply(pd.to_numeric, errors='coerce'))),\n",
    "    (\"imputers\", ColumnTransformer(num_imputers)),\n",
    "    (\"standardizer\", StandardScaler()),\n",
    "])\n",
    "\n",
    "numerical_transformers = [(\"numerical\", numerical_pipeline, [\"Tenure\", \"SeniorCitizen\", \"TotalCharges\"])]"
   ]
  },
  {
   "cell_type": "markdown",
   "metadata": {
    "application/vnd.databricks.v1+cell": {
     "cellMetadata": {},
     "inputWidgets": {},
     "nuid": "a48e6403-cc25-45b1-b80b-2b4bb2929213",
     "showTitle": false,
     "tableResultSettingsMap": {},
     "title": ""
    }
   },
   "source": [
    "### Categorical columns"
   ]
  },
  {
   "cell_type": "markdown",
   "metadata": {
    "application/vnd.databricks.v1+cell": {
     "cellMetadata": {},
     "inputWidgets": {},
     "nuid": "5412ea64-425b-45c4-8f84-68a0b0bca16b",
     "showTitle": false,
     "tableResultSettingsMap": {},
     "title": ""
    }
   },
   "source": [
    "#### Low-cardinality categoricals\n",
    "Convert each low-cardinality categorical column into multiple binary columns through one-hot encoding.\n",
    "For each input categorical column (string or numeric), the number of output columns is equal to the number of unique values in the input column."
   ]
  },
  {
   "cell_type": "code",
   "execution_count": 0,
   "metadata": {
    "application/vnd.databricks.v1+cell": {
     "cellMetadata": {},
     "inputWidgets": {},
     "nuid": "0fcde2a9-4ca9-4a6a-bfb7-b0be544d780e",
     "showTitle": false,
     "tableResultSettingsMap": {},
     "title": ""
    },
    "execution": {
     "iopub.execute_input": "2024-12-22T23:14:43.580491Z",
     "iopub.status.busy": "2024-12-22T23:14:43.580130Z",
     "iopub.status.idle": "2024-12-22T23:14:43.588691Z",
     "shell.execute_reply": "2024-12-22T23:14:43.587328Z"
    }
   },
   "outputs": [],
   "source": [
    "from databricks.automl_runtime.sklearn import OneHotEncoder\n",
    "from sklearn.compose import ColumnTransformer\n",
    "from sklearn.impute import SimpleImputer\n",
    "from sklearn.pipeline import Pipeline\n",
    "\n",
    "one_hot_imputers = []\n",
    "\n",
    "one_hot_pipeline = Pipeline(steps=[\n",
    "    (\"imputers\", ColumnTransformer(one_hot_imputers, remainder=\"passthrough\")),\n",
    "    (\"one_hot_encoder\", OneHotEncoder(handle_unknown=\"indicator\")),\n",
    "])\n",
    "\n",
    "categorical_one_hot_transformers = [(\"onehot\", one_hot_pipeline, [\"Contract\", \"InternetService\", \"PaymentMethod\"])]"
   ]
  },
  {
   "cell_type": "code",
   "execution_count": 0,
   "metadata": {
    "application/vnd.databricks.v1+cell": {
     "cellMetadata": {},
     "inputWidgets": {},
     "nuid": "d008e7dd-e364-42c3-bef3-bc9769f85695",
     "showTitle": false,
     "tableResultSettingsMap": {},
     "title": ""
    },
    "execution": {
     "iopub.execute_input": "2024-12-22T23:14:43.594768Z",
     "iopub.status.busy": "2024-12-22T23:14:43.593529Z",
     "iopub.status.idle": "2024-12-22T23:14:43.602664Z",
     "shell.execute_reply": "2024-12-22T23:14:43.601340Z"
    }
   },
   "outputs": [],
   "source": [
    "from sklearn.compose import ColumnTransformer\n",
    "\n",
    "transformers = bool_transformers + numerical_transformers + categorical_one_hot_transformers\n",
    "\n",
    "preprocessor = ColumnTransformer(transformers, remainder=\"passthrough\", sparse_threshold=0)"
   ]
  },
  {
   "cell_type": "markdown",
   "metadata": {
    "application/vnd.databricks.v1+cell": {
     "cellMetadata": {},
     "inputWidgets": {},
     "nuid": "304d5393-1908-4b9f-aa26-1ce2d79c894b",
     "showTitle": false,
     "tableResultSettingsMap": {},
     "title": ""
    }
   },
   "source": [
    "## Train - Validation - Test Split\n",
    "The input data is split by AutoML into 3 sets:\n",
    "- Train (60% of the dataset used to train the model)\n",
    "- Validation (20% of the dataset used to tune the hyperparameters of the model)\n",
    "- Test (20% of the dataset used to report the true performance of the model on an unseen dataset)\n",
    "\n",
    "`_automl_split_col_0000` contains the information of which set a given row belongs to.\n",
    "We use this column to split the dataset into the above 3 sets. \n",
    "The column should not be used for training so it is dropped after split is done."
   ]
  },
  {
   "cell_type": "code",
   "execution_count": 0,
   "metadata": {
    "application/vnd.databricks.v1+cell": {
     "cellMetadata": {},
     "inputWidgets": {},
     "nuid": "a1c927e6-0640-4842-8078-ac497d858c7b",
     "showTitle": false,
     "tableResultSettingsMap": {},
     "title": ""
    },
    "execution": {
     "iopub.execute_input": "2024-12-22T23:14:43.608977Z",
     "iopub.status.busy": "2024-12-22T23:14:43.608331Z",
     "iopub.status.idle": "2024-12-22T23:14:43.628037Z",
     "shell.execute_reply": "2024-12-22T23:14:43.626801Z"
    }
   },
   "outputs": [],
   "source": [
    "# AutoML completed train - validation - test split internally and used _automl_split_col_0000 to specify the set\n",
    "split_train_df = df_loaded.loc[df_loaded._automl_split_col_0000 == \"train\"]\n",
    "split_val_df = df_loaded.loc[df_loaded._automl_split_col_0000 == \"val\"]\n",
    "split_test_df = df_loaded.loc[df_loaded._automl_split_col_0000 == \"test\"]\n",
    "\n",
    "# Separate target column from features and drop _automl_split_col_0000\n",
    "X_train = split_train_df.drop([target_col, \"_automl_split_col_0000\"], axis=1)\n",
    "y_train = split_train_df[target_col]\n",
    "\n",
    "X_val = split_val_df.drop([target_col, \"_automl_split_col_0000\"], axis=1)\n",
    "y_val = split_val_df[target_col]\n",
    "\n",
    "X_test = split_test_df.drop([target_col, \"_automl_split_col_0000\"], axis=1)\n",
    "y_test = split_test_df[target_col]"
   ]
  },
  {
   "cell_type": "markdown",
   "metadata": {
    "application/vnd.databricks.v1+cell": {
     "cellMetadata": {},
     "inputWidgets": {},
     "nuid": "132aa9c9-5a3d-4510-9271-14b6e8413969",
     "showTitle": false,
     "tableResultSettingsMap": {},
     "title": ""
    }
   },
   "source": [
    "## Train classification model\n",
    "- Log relevant metrics to MLflow to track runs\n",
    "- All the runs are logged under [this MLflow experiment](#mlflow/experiments/3255553230519625)\n",
    "- Change the model parameters and re-run the training cell to log a different trial to the MLflow experiment\n",
    "- To view the full list of tunable hyperparameters, check the output of the cell below"
   ]
  },
  {
   "cell_type": "code",
   "execution_count": 0,
   "metadata": {
    "application/vnd.databricks.v1+cell": {
     "cellMetadata": {},
     "inputWidgets": {},
     "nuid": "75c515a6-1b31-43bd-a884-0b707c750674",
     "showTitle": false,
     "tableResultSettingsMap": {},
     "title": ""
    },
    "execution": {
     "iopub.execute_input": "2024-12-22T23:14:43.633015Z",
     "iopub.status.busy": "2024-12-22T23:14:43.632252Z",
     "iopub.status.idle": "2024-12-22T23:14:43.648340Z",
     "shell.execute_reply": "2024-12-22T23:14:43.646933Z"
    }
   },
   "outputs": [
    {
     "output_type": "stream",
     "name": "stdout",
     "output_type": "stream",
     "text": [
      "Help on class LogisticRegression in module sklearn.linear_model._logistic:\n\nclass LogisticRegression(sklearn.linear_model._base.LinearClassifierMixin, sklearn.linear_model._base.SparseCoefMixin, sklearn.base.BaseEstimator)\n |  LogisticRegression(penalty='l2', *, dual=False, tol=0.0001, C=1.0, fit_intercept=True, intercept_scaling=1, class_weight=None, random_state=None, solver='lbfgs', max_iter=100, multi_class='auto', verbose=0, warm_start=False, n_jobs=None, l1_ratio=None)\n |  \n |  Logistic Regression (aka logit, MaxEnt) classifier.\n |  \n |  In the multiclass case, the training algorithm uses the one-vs-rest (OvR)\n |  scheme if the 'multi_class' option is set to 'ovr', and uses the\n |  cross-entropy loss if the 'multi_class' option is set to 'multinomial'.\n |  (Currently the 'multinomial' option is supported only by the 'lbfgs',\n |  'sag', 'saga' and 'newton-cg' solvers.)\n |  \n |  This class implements regularized logistic regression using the\n |  'liblinear' library, 'newton-cg', 'sag', 'saga' and 'lbfgs' solvers. **Note\n |  that regularization is applied by default**. It can handle both dense\n |  and sparse input. Use C-ordered arrays or CSR matrices containing 64-bit\n |  floats for optimal performance; any other input format will be converted\n |  (and copied).\n |  \n |  The 'newton-cg', 'sag', and 'lbfgs' solvers support only L2 regularization\n |  with primal formulation, or no regularization. The 'liblinear' solver\n |  supports both L1 and L2 regularization, with a dual formulation only for\n |  the L2 penalty. The Elastic-Net regularization is only supported by the\n |  'saga' solver.\n |  \n |  Read more in the :ref:`User Guide <logistic_regression>`.\n |  \n |  Parameters\n |  ----------\n |  penalty : {'l1', 'l2', 'elasticnet', 'none'}, default='l2'\n |      Specify the norm of the penalty:\n |  \n |      - `'none'`: no penalty is added;\n |      - `'l2'`: add a L2 penalty term and it is the default choice;\n |      - `'l1'`: add a L1 penalty term;\n |      - `'elasticnet'`: both L1 and L2 penalty terms are added.\n |  \n |      .. warning::\n |         Some penalties may not work with some solvers. See the parameter\n |         `solver` below, to know the compatibility between the penalty and\n |         solver.\n |  \n |      .. versionadded:: 0.19\n |         l1 penalty with SAGA solver (allowing 'multinomial' + L1)\n |  \n |  dual : bool, default=False\n |      Dual or primal formulation. Dual formulation is only implemented for\n |      l2 penalty with liblinear solver. Prefer dual=False when\n |      n_samples > n_features.\n |  \n |  tol : float, default=1e-4\n |      Tolerance for stopping criteria.\n |  \n |  C : float, default=1.0\n |      Inverse of regularization strength; must be a positive float.\n |      Like in support vector machines, smaller values specify stronger\n |      regularization.\n |  \n |  fit_intercept : bool, default=True\n |      Specifies if a constant (a.k.a. bias or intercept) should be\n |      added to the decision function.\n |  \n |  intercept_scaling : float, default=1\n |      Useful only when the solver 'liblinear' is used\n |      and self.fit_intercept is set to True. In this case, x becomes\n |      [x, self.intercept_scaling],\n |      i.e. a \"synthetic\" feature with constant value equal to\n |      intercept_scaling is appended to the instance vector.\n |      The intercept becomes ``intercept_scaling * synthetic_feature_weight``.\n |  \n |      Note! the synthetic feature weight is subject to l1/l2 regularization\n |      as all other features.\n |      To lessen the effect of regularization on synthetic feature weight\n |      (and therefore on the intercept) intercept_scaling has to be increased.\n |  \n |  class_weight : dict or 'balanced', default=None\n |      Weights associated with classes in the form ``{class_label: weight}``.\n |      If not given, all classes are supposed to have weight one.\n |  \n |      The \"balanced\" mode uses the values of y to automatically adjust\n |      weights inversely proportional to class frequencies in the input data\n |      as ``n_samples / (n_classes * np.bincount(y))``.\n |  \n |      Note that these weights will be multiplied with sample_weight (passed\n |      through the fit method) if sample_weight is specified.\n |  \n |      .. versionadded:: 0.17\n |         *class_weight='balanced'*\n |  \n |  random_state : int, RandomState instance, default=None\n |      Used when ``solver`` == 'sag', 'saga' or 'liblinear' to shuffle the\n |      data. See :term:`Glossary <random_state>` for details.\n |  \n |  solver : {'newton-cg', 'lbfgs', 'liblinear', 'sag', 'saga'},             default='lbfgs'\n |  \n |      Algorithm to use in the optimization problem. Default is 'lbfgs'.\n |      To choose a solver, you might want to consider the following aspects:\n |  \n |          - For small datasets, 'liblinear' is a good choice, whereas 'sag'\n |            and 'saga' are faster for large ones;\n |          - For multiclass problems, only 'newton-cg', 'sag', 'saga' and\n |            'lbfgs' handle multinomial loss;\n |          - 'liblinear' is limited to one-versus-rest schemes.\n |  \n |      .. warning::\n |         The choice of the algorithm depends on the penalty chosen:\n |         Supported penalties by solver:\n |  \n |         - 'newton-cg'   -   ['l2', 'none']\n |         - 'lbfgs'       -   ['l2', 'none']\n |         - 'liblinear'   -   ['l1', 'l2']\n |         - 'sag'         -   ['l2', 'none']\n |         - 'saga'        -   ['elasticnet', 'l1', 'l2', 'none']\n |  \n |      .. note::\n |         'sag' and 'saga' fast convergence is only guaranteed on\n |         features with approximately the same scale. You can\n |         preprocess the data with a scaler from :mod:`sklearn.preprocessing`.\n |  \n |      .. seealso::\n |         Refer to the User Guide for more information regarding\n |         :class:`LogisticRegression` and more specifically the\n |         `Table <https://scikit-learn.org/dev/modules/linear_model.html#logistic-regression>`_\n |         summarazing solver/penalty supports.\n |  \n |      .. versionadded:: 0.17\n |         Stochastic Average Gradient descent solver.\n |      .. versionadded:: 0.19\n |         SAGA solver.\n |      .. versionchanged:: 0.22\n |          The default solver changed from 'liblinear' to 'lbfgs' in 0.22.\n |  \n |  max_iter : int, default=100\n |      Maximum number of iterations taken for the solvers to converge.\n |  \n |  multi_class : {'auto', 'ovr', 'multinomial'}, default='auto'\n |      If the option chosen is 'ovr', then a binary problem is fit for each\n |      label. For 'multinomial' the loss minimised is the multinomial loss fit\n |      across the entire probability distribution, *even when the data is\n |      binary*. 'multinomial' is unavailable when solver='liblinear'.\n |      'auto' selects 'ovr' if the data is binary, or if solver='liblinear',\n |      and otherwise selects 'multinomial'.\n |  \n |      .. versionadded:: 0.18\n |         Stochastic Average Gradient descent solver for 'multinomial' case.\n |      .. versionchanged:: 0.22\n |          Default changed from 'ovr' to 'auto' in 0.22.\n |  \n |  verbose : int, default=0\n |      For the liblinear and lbfgs solvers set verbose to any positive\n |      number for verbosity.\n |  \n |  warm_start : bool, default=False\n |      When set to True, reuse the solution of the previous call to fit as\n |      initialization, otherwise, just erase the previous solution.\n |      Useless for liblinear solver. See :term:`the Glossary <warm_start>`.\n |  \n |      .. versionadded:: 0.17\n |         *warm_start* to support *lbfgs*, *newton-cg*, *sag*, *saga* solvers.\n |  \n |  n_jobs : int, default=None\n |      Number of CPU cores used when parallelizing over classes if\n |      multi_class='ovr'\". This parameter is ignored when the ``solver`` is\n |      set to 'liblinear' regardless of whether 'multi_class' is specified or\n |      not. ``None`` means 1 unless in a :obj:`joblib.parallel_backend`\n |      context. ``-1`` means using all processors.\n |      See :term:`Glossary <n_jobs>` for more details.\n |  \n |  l1_ratio : float, default=None\n |      The Elastic-Net mixing parameter, with ``0 <= l1_ratio <= 1``. Only\n |      used if ``penalty='elasticnet'``. Setting ``l1_ratio=0`` is equivalent\n |      to using ``penalty='l2'``, while setting ``l1_ratio=1`` is equivalent\n |      to using ``penalty='l1'``. For ``0 < l1_ratio <1``, the penalty is a\n |      combination of L1 and L2.\n |  \n |  Attributes\n |  ----------\n |  \n |  classes_ : ndarray of shape (n_classes, )\n |      A list of class labels known to the classifier.\n |  \n |  coef_ : ndarray of shape (1, n_features) or (n_classes, n_features)\n |      Coefficient of the features in the decision function.\n |  \n |      `coef_` is of shape (1, n_features) when the given problem is binary.\n |      In particular, when `multi_class='multinomial'`, `coef_` corresponds\n |      to outcome 1 (True) and `-coef_` corresponds to outcome 0 (False).\n |  \n |  intercept_ : ndarray of shape (1,) or (n_classes,)\n |      Intercept (a.k.a. bias) added to the decision function.\n |  \n |      If `fit_intercept` is set to False, the intercept is set to zero.\n |      `intercept_` is of shape (1,) when the given problem is binary.\n |      In particular, when `multi_class='multinomial'`, `intercept_`\n |      corresponds to outcome 1 (True) and `-intercept_` corresponds to\n |      outcome 0 (False).\n |  \n |  n_features_in_ : int\n |      Number of features seen during :term:`fit`.\n |  \n |      .. versionadded:: 0.24\n |  \n |  feature_names_in_ : ndarray of shape (`n_features_in_`,)\n |      Names of features seen during :term:`fit`. Defined only when `X`\n |      has feature names that are all strings.\n |  \n |      .. versionadded:: 1.0\n |  \n |  n_iter_ : ndarray of shape (n_classes,) or (1, )\n |      Actual number of iterations for all classes. If binary or multinomial,\n |      it returns only 1 element. For liblinear solver, only the maximum\n |      number of iteration across all classes is given.\n |  \n |      .. versionchanged:: 0.20\n |  \n |          In SciPy <= 1.0.0 the number of lbfgs iterations may exceed\n |          ``max_iter``. ``n_iter_`` will now report at most ``max_iter``.\n |  \n |  See Also\n |  --------\n |  SGDClassifier : Incrementally trained logistic regression (when given\n |      the parameter ``loss=\"log\"``).\n |  LogisticRegressionCV : Logistic regression with built-in cross validation.\n |  \n |  Notes\n |  -----\n |  The underlying C implementation uses a random number generator to\n |  select features when fitting the model. It is thus not uncommon,\n |  to have slightly different results for the same input data. If\n |  that happens, try with a smaller tol parameter.\n |  \n |  Predict output may not match that of standalone liblinear in certain\n |  cases. See :ref:`differences from liblinear <liblinear_differences>`\n |  in the narrative documentation.\n |  \n |  References\n |  ----------\n |  \n |  L-BFGS-B -- Software for Large-scale Bound-constrained Optimization\n |      Ciyou Zhu, Richard Byrd, Jorge Nocedal and Jose Luis Morales.\n |      http://users.iems.northwestern.edu/~nocedal/lbfgsb.html\n |  \n |  LIBLINEAR -- A Library for Large Linear Classification\n |      https://www.csie.ntu.edu.tw/~cjlin/liblinear/\n |  \n |  SAG -- Mark Schmidt, Nicolas Le Roux, and Francis Bach\n |      Minimizing Finite Sums with the Stochastic Average Gradient\n |      https://hal.inria.fr/hal-00860051/document\n |  \n |  SAGA -- Defazio, A., Bach F. & Lacoste-Julien S. (2014).\n |          :arxiv:`\"SAGA: A Fast Incremental Gradient Method With Support\n |          for Non-Strongly Convex Composite Objectives\" <1407.0202>`\n |  \n |  Hsiang-Fu Yu, Fang-Lan Huang, Chih-Jen Lin (2011). Dual coordinate descent\n |      methods for logistic regression and maximum entropy models.\n |      Machine Learning 85(1-2):41-75.\n |      https://www.csie.ntu.edu.tw/~cjlin/papers/maxent_dual.pdf\n |  \n |  Examples\n |  --------\n |  >>> from sklearn.datasets import load_iris\n |  >>> from sklearn.linear_model import LogisticRegression\n |  >>> X, y = load_iris(return_X_y=True)\n |  >>> clf = LogisticRegression(random_state=0).fit(X, y)\n |  >>> clf.predict(X[:2, :])\n |  array([0, 0])\n |  >>> clf.predict_proba(X[:2, :])\n |  array([[9.8...e-01, 1.8...e-02, 1.4...e-08],\n |         [9.7...e-01, 2.8...e-02, ...e-08]])\n |  >>> clf.score(X, y)\n |  0.97...\n |  \n |  Method resolution order:\n |      LogisticRegression\n |      sklearn.linear_model._base.LinearClassifierMixin\n |      sklearn.base.ClassifierMixin\n |      sklearn.linear_model._base.SparseCoefMixin\n |      sklearn.base.BaseEstimator\n |      builtins.object\n |  \n |  Methods defined here:\n |  \n |  __init__(self, penalty='l2', *, dual=False, tol=0.0001, C=1.0, fit_intercept=True, intercept_scaling=1, class_weight=None, random_state=None, solver='lbfgs', max_iter=100, multi_class='auto', verbose=0, warm_start=False, n_jobs=None, l1_ratio=None)\n |      Initialize self.  See help(type(self)) for accurate signature.\n |  \n |  fit(self, X, y, sample_weight=None)\n |      Fit the model according to the given training data.\n |      \n |      Parameters\n |      ----------\n |      X : {array-like, sparse matrix} of shape (n_samples, n_features)\n |          Training vector, where `n_samples` is the number of samples and\n |          `n_features` is the number of features.\n |      \n |      y : array-like of shape (n_samples,)\n |          Target vector relative to X.\n |      \n |      sample_weight : array-like of shape (n_samples,) default=None\n |          Array of weights that are assigned to individual samples.\n |          If not provided, then each sample is given unit weight.\n |      \n |          .. versionadded:: 0.17\n |             *sample_weight* support to LogisticRegression.\n |      \n |      Returns\n |      -------\n |      self\n |          Fitted estimator.\n |      \n |      Notes\n |      -----\n |      The SAGA solver supports both float64 and float32 bit arrays.\n |  \n |  predict_log_proba(self, X)\n |      Predict logarithm of probability estimates.\n |      \n |      The returned estimates for all classes are ordered by the\n |      label of classes.\n |      \n |      Parameters\n |      ----------\n |      X : array-like of shape (n_samples, n_features)\n |          Vector to be scored, where `n_samples` is the number of samples and\n |          `n_features` is the number of features.\n |      \n |      Returns\n |      -------\n |      T : array-like of shape (n_samples, n_classes)\n |          Returns the log-probability of the sample for each class in the\n |          model, where classes are ordered as they are in ``self.classes_``.\n |  \n |  predict_proba(self, X)\n |      Probability estimates.\n |      \n |      The returned estimates for all classes are ordered by the\n |      label of classes.\n |      \n |      For a multi_class problem, if multi_class is set to be \"multinomial\"\n |      the softmax function is used to find the predicted probability of\n |      each class.\n |      Else use a one-vs-rest approach, i.e calculate the probability\n |      of each class assuming it to be positive using the logistic function.\n |      and normalize these values across all the classes.\n |      \n |      Parameters\n |      ----------\n |      X : array-like of shape (n_samples, n_features)\n |          Vector to be scored, where `n_samples` is the number of samples and\n |          `n_features` is the number of features.\n |      \n |      Returns\n |      -------\n |      T : array-like of shape (n_samples, n_classes)\n |          Returns the probability of the sample for each class in the model,\n |          where classes are ordered as they are in ``self.classes_``.\n |  \n |  ----------------------------------------------------------------------\n |  Methods inherited from sklearn.linear_model._base.LinearClassifierMixin:\n |  \n |  decision_function(self, X)\n |      Predict confidence scores for samples.\n |      \n |      The confidence score for a sample is proportional to the signed\n |      distance of that sample to the hyperplane.\n |      \n |      Parameters\n |      ----------\n |      X : {array-like, sparse matrix} of shape (n_samples, n_features)\n |          The data matrix for which we want to get the confidence scores.\n |      \n |      Returns\n |      -------\n |      scores : ndarray of shape (n_samples,) or (n_samples, n_classes)\n |          Confidence scores per `(n_samples, n_classes)` combination. In the\n |          binary case, confidence score for `self.classes_[1]` where >0 means\n |          this class would be predicted.\n |  \n |  predict(self, X)\n |      Predict class labels for samples in X.\n |      \n |      Parameters\n |      ----------\n |      X : {array-like, sparse matrix} of shape (n_samples, n_features)\n |          The data matrix for which we want to get the predictions.\n |      \n |      Returns\n |      -------\n |      y_pred : ndarray of shape (n_samples,)\n |          Vector containing the class labels for each sample.\n |  \n |  ----------------------------------------------------------------------\n |  Methods inherited from sklearn.base.ClassifierMixin:\n |  \n |  score(self, X, y, sample_weight=None)\n |      Return the mean accuracy on the given test data and labels.\n |      \n |      In multi-label classification, this is the subset accuracy\n |      which is a harsh metric since you require for each sample that\n |      each label set be correctly predicted.\n |      \n |      Parameters\n |      ----------\n |      X : array-like of shape (n_samples, n_features)\n |          Test samples.\n |      \n |      y : array-like of shape (n_samples,) or (n_samples, n_outputs)\n |          True labels for `X`.\n |      \n |      sample_weight : array-like of shape (n_samples,), default=None\n |          Sample weights.\n |      \n |      Returns\n |      -------\n |      score : float\n |          Mean accuracy of ``self.predict(X)`` wrt. `y`.\n |  \n |  ----------------------------------------------------------------------\n |  Data descriptors inherited from sklearn.base.ClassifierMixin:\n |  \n |  __dict__\n |      dictionary for instance variables (if defined)\n |  \n |  __weakref__\n |      list of weak references to the object (if defined)\n |  \n |  ----------------------------------------------------------------------\n |  Methods inherited from sklearn.linear_model._base.SparseCoefMixin:\n |  \n |  densify(self)\n |      Convert coefficient matrix to dense array format.\n |      \n |      Converts the ``coef_`` member (back) to a numpy.ndarray. This is the\n |      default format of ``coef_`` and is required for fitting, so calling\n |      this method is only required on models that have previously been\n |      sparsified; otherwise, it is a no-op.\n |      \n |      Returns\n |      -------\n |      self\n |          Fitted estimator.\n |  \n |  sparsify(self)\n |      Convert coefficient matrix to sparse format.\n |      \n |      Converts the ``coef_`` member to a scipy.sparse matrix, which for\n |      L1-regularized models can be much more memory- and storage-efficient\n |      than the usual numpy.ndarray representation.\n |      \n |      The ``intercept_`` member is not converted.\n |      \n |      Returns\n |      -------\n |      self\n |          Fitted estimator.\n |      \n |      Notes\n |      -----\n |      For non-sparse models, i.e. when there are not many zeros in ``coef_``,\n |      this may actually *increase* memory usage, so use this method with\n |      care. A rule of thumb is that the number of zero elements, which can\n |      be computed with ``(coef_ == 0).sum()``, must be more than 50% for this\n |      to provide significant benefits.\n |      \n |      After calling this method, further fitting with the partial_fit\n |      method (if any) will not work until you call densify.\n |  \n |  ----------------------------------------------------------------------\n |  Methods inherited from sklearn.base.BaseEstimator:\n |  \n |  __getstate__(self)\n |  \n |  __repr__(self, N_CHAR_MAX=700)\n |      Return repr(self).\n |  \n |  __setstate__(self, state)\n |  \n |  get_params(self, deep=True)\n |      Get parameters for this estimator.\n |      \n |      Parameters\n |      ----------\n |      deep : bool, default=True\n |          If True, will return the parameters for this estimator and\n |          contained subobjects that are estimators.\n |      \n |      Returns\n |      -------\n |      params : dict\n |          Parameter names mapped to their values.\n |  \n |  set_params(self, **params)\n |      Set the parameters of this estimator.\n |      \n |      The method works on simple estimators as well as on nested objects\n |      (such as :class:`~sklearn.pipeline.Pipeline`). The latter have\n |      parameters of the form ``<component>__<parameter>`` so that it's\n |      possible to update each component of a nested object.\n |      \n |      Parameters\n |      ----------\n |      **params : dict\n |          Estimator parameters.\n |      \n |      Returns\n |      -------\n |      self : estimator instance\n |          Estimator instance.\n\n"
     ]
    }
   ],
   "source": [
    "from sklearn.linear_model import LogisticRegression\n",
    "\n",
    "help(LogisticRegression)"
   ]
  },
  {
   "cell_type": "markdown",
   "metadata": {
    "application/vnd.databricks.v1+cell": {
     "cellMetadata": {},
     "inputWidgets": {},
     "nuid": "0a49ee84-0a49-47ad-8f94-8b5286d2c859",
     "showTitle": false,
     "tableResultSettingsMap": {},
     "title": ""
    }
   },
   "source": [
    "### Define the objective function\n",
    "The objective function used to find optimal hyperparameters. By default, this notebook only runs\n",
    "this function once (`max_evals=1` in the `hyperopt.fmin` invocation) with fixed hyperparameters, but\n",
    "hyperparameters can be tuned by modifying `space`, defined below. `hyperopt.fmin` will then use this\n",
    "function's return value to search the space to minimize the loss."
   ]
  },
  {
   "cell_type": "code",
   "execution_count": 0,
   "metadata": {
    "application/vnd.databricks.v1+cell": {
     "cellMetadata": {},
     "inputWidgets": {},
     "nuid": "40cdf2bf-6a77-44fa-b14a-7e881e147d89",
     "showTitle": false,
     "tableResultSettingsMap": {},
     "title": ""
    },
    "execution": {
     "iopub.execute_input": "2024-12-22T23:14:43.653087Z",
     "iopub.status.busy": "2024-12-22T23:14:43.652663Z",
     "iopub.status.idle": "2024-12-22T23:14:43.857856Z",
     "shell.execute_reply": "2024-12-22T23:14:43.856324Z"
    }
   },
   "outputs": [],
   "source": [
    "import mlflow\n",
    "from mlflow.models import Model, infer_signature, ModelSignature\n",
    "from mlflow.pyfunc import PyFuncModel\n",
    "from mlflow import pyfunc\n",
    "import sklearn\n",
    "from sklearn import set_config\n",
    "from sklearn.pipeline import Pipeline\n",
    "\n",
    "from hyperopt import hp, tpe, fmin, STATUS_OK, Trials\n",
    "\n",
    "def objective(params):\n",
    "  with mlflow.start_run(experiment_id=\"3255553230519625\") as mlflow_run:\n",
    "    sklr_classifier = LogisticRegression(**params)\n",
    "\n",
    "    model = Pipeline([\n",
    "        (\"column_selector\", col_selector),\n",
    "        (\"preprocessor\", preprocessor),\n",
    "        (\"classifier\", sklr_classifier),\n",
    "    ])\n",
    "\n",
    "    # Enable automatic logging of input samples, metrics, parameters, and models\n",
    "    mlflow.sklearn.autolog(\n",
    "        log_input_examples=True,\n",
    "        silent=True)\n",
    "\n",
    "    model.fit(X_train, y_train)\n",
    "\n",
    "    \n",
    "    # Log metrics for the training set\n",
    "    mlflow_model = Model()\n",
    "    pyfunc.add_to_model(mlflow_model, loader_module=\"mlflow.sklearn\")\n",
    "    pyfunc_model = PyFuncModel(model_meta=mlflow_model, model_impl=model)\n",
    "    training_eval_result = mlflow.evaluate(\n",
    "        model=pyfunc_model,\n",
    "        data=X_train.assign(**{str(target_col):y_train}),\n",
    "        targets=target_col,\n",
    "        model_type=\"classifier\",\n",
    "        evaluator_config = {\"log_model_explainability\": False,\n",
    "                            \"metric_prefix\": \"training_\" , \"pos_label\": \"Yes\" }\n",
    "    )\n",
    "    sklr_training_metrics = training_eval_result.metrics\n",
    "    # Log metrics for the validation set\n",
    "    val_eval_result = mlflow.evaluate(\n",
    "        model=pyfunc_model,\n",
    "        data=X_val.assign(**{str(target_col):y_val}),\n",
    "        targets=target_col,\n",
    "        model_type=\"classifier\",\n",
    "        evaluator_config = {\"log_model_explainability\": False,\n",
    "                            \"metric_prefix\": \"val_\" , \"pos_label\": \"Yes\" }\n",
    "    )\n",
    "    sklr_val_metrics = val_eval_result.metrics\n",
    "    # Log metrics for the test set\n",
    "    test_eval_result = mlflow.evaluate(\n",
    "        model=pyfunc_model,\n",
    "        data=X_test.assign(**{str(target_col):y_test}),\n",
    "        targets=target_col,\n",
    "        model_type=\"classifier\",\n",
    "        evaluator_config = {\"log_model_explainability\": False,\n",
    "                            \"metric_prefix\": \"test_\" , \"pos_label\": \"Yes\" }\n",
    "    )\n",
    "    sklr_test_metrics = test_eval_result.metrics\n",
    "\n",
    "    loss = -sklr_val_metrics[\"val_f1_score\"]\n",
    "\n",
    "    # Truncate metric key names so they can be displayed together\n",
    "    sklr_val_metrics = {k.replace(\"val_\", \"\"): v for k, v in sklr_val_metrics.items()}\n",
    "    sklr_test_metrics = {k.replace(\"test_\", \"\"): v for k, v in sklr_test_metrics.items()}\n",
    "\n",
    "    return {\n",
    "      \"loss\": loss,\n",
    "      \"status\": STATUS_OK,\n",
    "      \"val_metrics\": sklr_val_metrics,\n",
    "      \"test_metrics\": sklr_test_metrics,\n",
    "      \"model\": model,\n",
    "      \"run\": mlflow_run,\n",
    "    }"
   ]
  },
  {
   "cell_type": "markdown",
   "metadata": {
    "application/vnd.databricks.v1+cell": {
     "cellMetadata": {},
     "inputWidgets": {},
     "nuid": "6a1b1565-8ee5-4c12-9a8c-7564fb2c8a95",
     "showTitle": false,
     "tableResultSettingsMap": {},
     "title": ""
    }
   },
   "source": [
    "### Configure the hyperparameter search space\n",
    "Configure the search space of parameters. Parameters below are all constant expressions but can be\n",
    "modified to widen the search space. For example, when training a decision tree classifier, to allow\n",
    "the maximum tree depth to be either 2 or 3, set the key of 'max_depth' to\n",
    "`hp.choice('max_depth', [2, 3])`. Be sure to also increase `max_evals` in the `fmin` call below.\n",
    "\n",
    "See https://docs.databricks.com/applications/machine-learning/automl-hyperparam-tuning/index.html\n",
    "for more information on hyperparameter tuning as well as\n",
    "http://hyperopt.github.io/hyperopt/getting-started/search_spaces/ for documentation on supported\n",
    "search expressions.\n",
    "\n",
    "For documentation on parameters used by the model in use, please see:\n",
    "https://scikit-learn.org/stable/modules/generated/sklearn.linear_model.LogisticRegression.html\n",
    "\n",
    "NOTE: The above URL points to a stable version of the documentation corresponding to the last\n",
    "released version of the package. The documentation may differ slightly for the package version\n",
    "used by this notebook."
   ]
  },
  {
   "cell_type": "code",
   "execution_count": 0,
   "metadata": {
    "application/vnd.databricks.v1+cell": {
     "cellMetadata": {},
     "inputWidgets": {},
     "nuid": "b3eb90c3-357a-4ce1-bbfb-0841175c7aba",
     "showTitle": false,
     "tableResultSettingsMap": {},
     "title": ""
    },
    "execution": {
     "iopub.execute_input": "2024-12-22T23:14:43.864673Z",
     "iopub.status.busy": "2024-12-22T23:14:43.864348Z",
     "iopub.status.idle": "2024-12-22T23:14:43.874604Z",
     "shell.execute_reply": "2024-12-22T23:14:43.873281Z"
    }
   },
   "outputs": [],
   "source": [
    "space = {\n",
    "  \"C\": 72.28059040131613,\n",
    "  \"penalty\": \"l2\",\n",
    "  \"random_state\": 986567390,\n",
    "}"
   ]
  },
  {
   "cell_type": "markdown",
   "metadata": {
    "application/vnd.databricks.v1+cell": {
     "cellMetadata": {},
     "inputWidgets": {},
     "nuid": "25c974b5-c887-46fc-b073-92c4e1d79cfc",
     "showTitle": false,
     "tableResultSettingsMap": {},
     "title": ""
    }
   },
   "source": [
    "### Run trials\n",
    "When widening the search space and training multiple models, switch to `SparkTrials` to parallelize\n",
    "training on Spark:\n",
    "```\n",
    "from hyperopt import SparkTrials\n",
    "trials = SparkTrials()\n",
    "```\n",
    "\n",
    "NOTE: While `Trials` starts an MLFlow run for each set of hyperparameters, `SparkTrials` only starts\n",
    "one top-level run; it will start a subrun for each set of hyperparameters.\n",
    "\n",
    "See http://hyperopt.github.io/hyperopt/scaleout/spark/ for more info."
   ]
  },
  {
   "cell_type": "code",
   "execution_count": 0,
   "metadata": {
    "application/vnd.databricks.v1+cell": {
     "cellMetadata": {},
     "inputWidgets": {},
     "nuid": "b22b09c8-2180-44ab-9580-8ea370ba9cee",
     "showTitle": false,
     "tableResultSettingsMap": {},
     "title": ""
    },
    "execution": {
     "iopub.execute_input": "2024-12-22T23:14:43.884033Z",
     "iopub.status.busy": "2024-12-22T23:14:43.881593Z",
     "iopub.status.idle": "2024-12-22T23:15:04.744487Z",
     "shell.execute_reply": "2024-12-22T23:15:04.743445Z"
    }
   },
   "outputs": [
    {
     "output_type": "stream",
     "name": "stdout",
     "output_type": "stream",
     "text": [
      "\r  0%|          | 0/1 [00:00<?, ?trial/s, best loss=?]"
     ]
    },
    {
     "output_type": "stream",
     "name": "stderr",
     "output_type": "stream",
     "text": [
      "2024/12/22 23:14:54 INFO mlflow.models.evaluation.base: Evaluating the model with the default evaluator.\n\n"
     ]
    },
    {
     "output_type": "stream",
     "name": "stderr",
     "output_type": "stream",
     "text": [
      "2024/12/22 23:14:55 INFO mlflow.models.evaluation.default_evaluator: The evaluation dataset is inferred as binary dataset, positive label is Yes, negative label is No.\n\n"
     ]
    },
    {
     "output_type": "stream",
     "name": "stderr",
     "output_type": "stream",
     "text": [
      "2024/12/22 23:14:58 INFO mlflow.models.evaluation.base: Evaluating the model with the default evaluator.\n\n"
     ]
    },
    {
     "output_type": "stream",
     "name": "stderr",
     "output_type": "stream",
     "text": [
      "2024/12/22 23:14:58 INFO mlflow.models.evaluation.default_evaluator: The evaluation dataset is inferred as binary dataset, positive label is Yes, negative label is No.\n\n"
     ]
    },
    {
     "output_type": "stream",
     "name": "stderr",
     "output_type": "stream",
     "text": [
      "2024/12/22 23:15:01 INFO mlflow.models.evaluation.base: Evaluating the model with the default evaluator.\n\n"
     ]
    },
    {
     "output_type": "stream",
     "name": "stderr",
     "output_type": "stream",
     "text": [
      "2024/12/22 23:15:01 INFO mlflow.models.evaluation.default_evaluator: The evaluation dataset is inferred as binary dataset, positive label is Yes, negative label is No.\n\n"
     ]
    },
    {
     "output_type": "stream",
     "name": "stdout",
     "output_type": "stream",
     "text": [
      "\r100%|██████████| 1/1 [00:20<00:00, 20.51s/trial, best loss: -0.5796269727403157]"
     ]
    },
    {
     "output_type": "stream",
     "name": "stdout",
     "output_type": "stream",
     "text": [
      "\r100%|██████████| 1/1 [00:20<00:00, 20.51s/trial, best loss: -0.5796269727403157]"
     ]
    },
    {
     "output_type": "stream",
     "name": "stdout",
     "output_type": "stream",
     "text": [
      "\n"
     ]
    },
    {
     "output_type": "display_data",
     "data": {
      "text/html": [
       "<div>\n",
       "<style scoped>\n",
       "    .dataframe tbody tr th:only-of-type {\n",
       "        vertical-align: middle;\n",
       "    }\n",
       "\n",
       "    .dataframe tbody tr th {\n",
       "        vertical-align: top;\n",
       "    }\n",
       "\n",
       "    .dataframe thead th {\n",
       "        text-align: right;\n",
       "    }\n",
       "</style>\n",
       "<table border=\"1\" class=\"dataframe\">\n",
       "  <thead>\n",
       "    <tr style=\"text-align: right;\">\n",
       "      <th></th>\n",
       "      <th>score</th>\n",
       "      <th>true_negatives</th>\n",
       "      <th>false_positives</th>\n",
       "      <th>false_negatives</th>\n",
       "      <th>true_positives</th>\n",
       "      <th>example_count</th>\n",
       "      <th>accuracy_score</th>\n",
       "      <th>recall_score</th>\n",
       "      <th>precision_score</th>\n",
       "      <th>f1_score</th>\n",
       "      <th>log_loss</th>\n",
       "      <th>roc_auc</th>\n",
       "      <th>precision_recall_auc</th>\n",
       "    </tr>\n",
       "  </thead>\n",
       "  <tbody>\n",
       "    <tr>\n",
       "      <th>validation</th>\n",
       "      <td>0.798348</td>\n",
       "      <td>958</td>\n",
       "      <td>112</td>\n",
       "      <td>181</td>\n",
       "      <td>202</td>\n",
       "      <td>1453</td>\n",
       "      <td>0.798348</td>\n",
       "      <td>0.527415</td>\n",
       "      <td>0.643312</td>\n",
       "      <td>0.579627</td>\n",
       "      <td>0.428331</td>\n",
       "      <td>0.832115</td>\n",
       "      <td>0.626296</td>\n",
       "    </tr>\n",
       "    <tr>\n",
       "      <th>test</th>\n",
       "      <td>0.780664</td>\n",
       "      <td>874</td>\n",
       "      <td>106</td>\n",
       "      <td>198</td>\n",
       "      <td>208</td>\n",
       "      <td>1386</td>\n",
       "      <td>0.780664</td>\n",
       "      <td>0.512315</td>\n",
       "      <td>0.662420</td>\n",
       "      <td>0.577778</td>\n",
       "      <td>0.443637</td>\n",
       "      <td>0.838912</td>\n",
       "      <td>0.649717</td>\n",
       "    </tr>\n",
       "  </tbody>\n",
       "</table>\n",
       "</div>"
      ],
      "text/plain": [
       "               score  true_negatives  false_positives  false_negatives  \\\n",
       "validation  0.798348             958              112              181   \n",
       "test        0.780664             874              106              198   \n",
       "\n",
       "            true_positives  example_count  accuracy_score  recall_score  \\\n",
       "validation             202           1453        0.798348      0.527415   \n",
       "test                   208           1386        0.780664      0.512315   \n",
       "\n",
       "            precision_score  f1_score  log_loss   roc_auc  \\\n",
       "validation         0.643312  0.579627  0.428331  0.832115   \n",
       "test               0.662420  0.577778  0.443637  0.838912   \n",
       "\n",
       "            precision_recall_auc  \n",
       "validation              0.626296  \n",
       "test                    0.649717  "
      ]
     },
     "metadata": {},
     "output_type": "display_data"
    },
    {
     "output_type": "execute_result",
     "data": {
      "text/html": [
       "<style>#sk-container-id-2 {color: black;background-color: white;}#sk-container-id-2 pre{padding: 0;}#sk-container-id-2 div.sk-toggleable {background-color: white;}#sk-container-id-2 label.sk-toggleable__label {cursor: pointer;display: block;width: 100%;margin-bottom: 0;padding: 0.3em;box-sizing: border-box;text-align: center;}#sk-container-id-2 label.sk-toggleable__label-arrow:before {content: \"▸\";float: left;margin-right: 0.25em;color: #696969;}#sk-container-id-2 label.sk-toggleable__label-arrow:hover:before {color: black;}#sk-container-id-2 div.sk-estimator:hover label.sk-toggleable__label-arrow:before {color: black;}#sk-container-id-2 div.sk-toggleable__content {max-height: 0;max-width: 0;overflow: hidden;text-align: left;background-color: #f0f8ff;}#sk-container-id-2 div.sk-toggleable__content pre {margin: 0.2em;color: black;border-radius: 0.25em;background-color: #f0f8ff;}#sk-container-id-2 input.sk-toggleable__control:checked~div.sk-toggleable__content {max-height: 200px;max-width: 100%;overflow: auto;}#sk-container-id-2 input.sk-toggleable__control:checked~label.sk-toggleable__label-arrow:before {content: \"▾\";}#sk-container-id-2 div.sk-estimator input.sk-toggleable__control:checked~label.sk-toggleable__label {background-color: #d4ebff;}#sk-container-id-2 div.sk-label input.sk-toggleable__control:checked~label.sk-toggleable__label {background-color: #d4ebff;}#sk-container-id-2 input.sk-hidden--visually {border: 0;clip: rect(1px 1px 1px 1px);clip: rect(1px, 1px, 1px, 1px);height: 1px;margin: -1px;overflow: hidden;padding: 0;position: absolute;width: 1px;}#sk-container-id-2 div.sk-estimator {font-family: monospace;background-color: #f0f8ff;border: 1px dotted black;border-radius: 0.25em;box-sizing: border-box;margin-bottom: 0.5em;}#sk-container-id-2 div.sk-estimator:hover {background-color: #d4ebff;}#sk-container-id-2 div.sk-parallel-item::after {content: \"\";width: 100%;border-bottom: 1px solid gray;flex-grow: 1;}#sk-container-id-2 div.sk-label:hover label.sk-toggleable__label {background-color: #d4ebff;}#sk-container-id-2 div.sk-serial::before {content: \"\";position: absolute;border-left: 1px solid gray;box-sizing: border-box;top: 0;bottom: 0;left: 50%;z-index: 0;}#sk-container-id-2 div.sk-serial {display: flex;flex-direction: column;align-items: center;background-color: white;padding-right: 0.2em;padding-left: 0.2em;position: relative;}#sk-container-id-2 div.sk-item {position: relative;z-index: 1;}#sk-container-id-2 div.sk-parallel {display: flex;align-items: stretch;justify-content: center;background-color: white;position: relative;}#sk-container-id-2 div.sk-item::before, #sk-container-id-2 div.sk-parallel-item::before {content: \"\";position: absolute;border-left: 1px solid gray;box-sizing: border-box;top: 0;bottom: 0;left: 50%;z-index: -1;}#sk-container-id-2 div.sk-parallel-item {display: flex;flex-direction: column;z-index: 1;position: relative;background-color: white;}#sk-container-id-2 div.sk-parallel-item:first-child::after {align-self: flex-end;width: 50%;}#sk-container-id-2 div.sk-parallel-item:last-child::after {align-self: flex-start;width: 50%;}#sk-container-id-2 div.sk-parallel-item:only-child::after {width: 0;}#sk-container-id-2 div.sk-dashed-wrapped {border: 1px dashed gray;margin: 0 0.4em 0.5em 0.4em;box-sizing: border-box;padding-bottom: 0.4em;background-color: white;}#sk-container-id-2 div.sk-label label {font-family: monospace;font-weight: bold;display: inline-block;line-height: 1.2em;}#sk-container-id-2 div.sk-label-container {text-align: center;}#sk-container-id-2 div.sk-container {/* jupyter's `normalize.less` sets `[hidden] { display: none; }` but bootstrap.min.css set `[hidden] { display: none !important; }` so we also need the `!important` here to be able to override the default hidden behavior on the sphinx rendered scikit-learn.org. See: https://github.com/scikit-learn/scikit-learn/issues/21755 */display: inline-block !important;position: relative;}#sk-container-id-2 div.sk-text-repr-fallback {display: none;}</style><div id=\"sk-container-id-2\" class=\"sk-top-container\"><div class=\"sk-text-repr-fallback\"><pre>Pipeline(steps=[(&#x27;column_selector&#x27;,\n",
       "                 ColumnSelector(cols=[&#x27;Contract&#x27;, &#x27;TotalCharges&#x27;, &#x27;Partner&#x27;,\n",
       "                                      &#x27;PaymentMethod&#x27;, &#x27;PaperlessBilling&#x27;,\n",
       "                                      &#x27;Tenure&#x27;, &#x27;InternetService&#x27;, &#x27;Gender&#x27;,\n",
       "                                      &#x27;SeniorCitizen&#x27;])),\n",
       "                (&#x27;preprocessor&#x27;,\n",
       "                 ColumnTransformer(remainder=&#x27;passthrough&#x27;, sparse_threshold=0,\n",
       "                                   transformers=[(&#x27;boolean&#x27;,\n",
       "                                                  Pipeline(steps=[(&#x27;cast_type&#x27;,\n",
       "                                                                   FunctionTransformer(func=&lt;function &lt;la...\n",
       "                                                                                                     &#x27;TotalCharges&#x27;])])),\n",
       "                                                                  (&#x27;standardizer&#x27;,\n",
       "                                                                   StandardScaler())]),\n",
       "                                                  [&#x27;Tenure&#x27;, &#x27;SeniorCitizen&#x27;,\n",
       "                                                   &#x27;TotalCharges&#x27;]),\n",
       "                                                 (&#x27;onehot&#x27;,\n",
       "                                                  Pipeline(steps=[(&#x27;imputers&#x27;,\n",
       "                                                                   ColumnTransformer(remainder=&#x27;passthrough&#x27;,\n",
       "                                                                                     transformers=[])),\n",
       "                                                                  (&#x27;one_hot_encoder&#x27;,\n",
       "                                                                   OneHotEncoder())]),\n",
       "                                                  [&#x27;Contract&#x27;,\n",
       "                                                   &#x27;InternetService&#x27;,\n",
       "                                                   &#x27;PaymentMethod&#x27;])])),\n",
       "                (&#x27;classifier&#x27;,\n",
       "                 LogisticRegression(C=72.28059040131613,\n",
       "                                    random_state=986567390))])</pre><b>In a Jupyter environment, please rerun this cell to show the HTML representation or trust the notebook. <br />On GitHub, the HTML representation is unable to render, please try loading this page with nbviewer.org.</b></div><div class=\"sk-container\" hidden><div class=\"sk-item sk-dashed-wrapped\"><div class=\"sk-label-container\"><div class=\"sk-label sk-toggleable\"><input class=\"sk-toggleable__control sk-hidden--visually\" id=\"sk-estimator-id-24\" type=\"checkbox\" ><label for=\"sk-estimator-id-24\" class=\"sk-toggleable__label sk-toggleable__label-arrow\">Pipeline</label><div class=\"sk-toggleable__content\"><pre>Pipeline(steps=[(&#x27;column_selector&#x27;,\n",
       "                 ColumnSelector(cols=[&#x27;Contract&#x27;, &#x27;TotalCharges&#x27;, &#x27;Partner&#x27;,\n",
       "                                      &#x27;PaymentMethod&#x27;, &#x27;PaperlessBilling&#x27;,\n",
       "                                      &#x27;Tenure&#x27;, &#x27;InternetService&#x27;, &#x27;Gender&#x27;,\n",
       "                                      &#x27;SeniorCitizen&#x27;])),\n",
       "                (&#x27;preprocessor&#x27;,\n",
       "                 ColumnTransformer(remainder=&#x27;passthrough&#x27;, sparse_threshold=0,\n",
       "                                   transformers=[(&#x27;boolean&#x27;,\n",
       "                                                  Pipeline(steps=[(&#x27;cast_type&#x27;,\n",
       "                                                                   FunctionTransformer(func=&lt;function &lt;la...\n",
       "                                                                                                     &#x27;TotalCharges&#x27;])])),\n",
       "                                                                  (&#x27;standardizer&#x27;,\n",
       "                                                                   StandardScaler())]),\n",
       "                                                  [&#x27;Tenure&#x27;, &#x27;SeniorCitizen&#x27;,\n",
       "                                                   &#x27;TotalCharges&#x27;]),\n",
       "                                                 (&#x27;onehot&#x27;,\n",
       "                                                  Pipeline(steps=[(&#x27;imputers&#x27;,\n",
       "                                                                   ColumnTransformer(remainder=&#x27;passthrough&#x27;,\n",
       "                                                                                     transformers=[])),\n",
       "                                                                  (&#x27;one_hot_encoder&#x27;,\n",
       "                                                                   OneHotEncoder())]),\n",
       "                                                  [&#x27;Contract&#x27;,\n",
       "                                                   &#x27;InternetService&#x27;,\n",
       "                                                   &#x27;PaymentMethod&#x27;])])),\n",
       "                (&#x27;classifier&#x27;,\n",
       "                 LogisticRegression(C=72.28059040131613,\n",
       "                                    random_state=986567390))])</pre></div></div></div><div class=\"sk-serial\"><div class=\"sk-item\"><div class=\"sk-estimator sk-toggleable\"><input class=\"sk-toggleable__control sk-hidden--visually\" id=\"sk-estimator-id-25\" type=\"checkbox\" ><label for=\"sk-estimator-id-25\" class=\"sk-toggleable__label sk-toggleable__label-arrow\">ColumnSelector</label><div class=\"sk-toggleable__content\"><pre>ColumnSelector(cols=[&#x27;Contract&#x27;, &#x27;TotalCharges&#x27;, &#x27;Partner&#x27;, &#x27;PaymentMethod&#x27;,\n",
       "                     &#x27;PaperlessBilling&#x27;, &#x27;Tenure&#x27;, &#x27;InternetService&#x27;, &#x27;Gender&#x27;,\n",
       "                     &#x27;SeniorCitizen&#x27;])</pre></div></div></div><div class=\"sk-item sk-dashed-wrapped\"><div class=\"sk-label-container\"><div class=\"sk-label sk-toggleable\"><input class=\"sk-toggleable__control sk-hidden--visually\" id=\"sk-estimator-id-26\" type=\"checkbox\" ><label for=\"sk-estimator-id-26\" class=\"sk-toggleable__label sk-toggleable__label-arrow\">preprocessor: ColumnTransformer</label><div class=\"sk-toggleable__content\"><pre>ColumnTransformer(remainder=&#x27;passthrough&#x27;, sparse_threshold=0,\n",
       "                  transformers=[(&#x27;boolean&#x27;,\n",
       "                                 Pipeline(steps=[(&#x27;cast_type&#x27;,\n",
       "                                                  FunctionTransformer(func=&lt;function &lt;lambda&gt; at 0x7f51e9416200&gt;)),\n",
       "                                                 (&#x27;imputers&#x27;,\n",
       "                                                  ColumnTransformer(remainder=&#x27;passthrough&#x27;,\n",
       "                                                                    transformers=[])),\n",
       "                                                 (&#x27;onehot&#x27;,\n",
       "                                                  OneHotEncoder(drop=&#x27;first&#x27;,\n",
       "                                                                handle_unknown=&#x27;ignore&#x27;))]),\n",
       "                                 [&#x27;Gender&#x27;, &#x27;SeniorCitizen&#x27;, &#x27;Partner&#x27;,...\n",
       "                                                  ColumnTransformer(transformers=[(&#x27;impute_mean&#x27;,\n",
       "                                                                                   SimpleImputer(),\n",
       "                                                                                   [&#x27;SeniorCitizen&#x27;,\n",
       "                                                                                    &#x27;Tenure&#x27;,\n",
       "                                                                                    &#x27;TotalCharges&#x27;])])),\n",
       "                                                 (&#x27;standardizer&#x27;,\n",
       "                                                  StandardScaler())]),\n",
       "                                 [&#x27;Tenure&#x27;, &#x27;SeniorCitizen&#x27;, &#x27;TotalCharges&#x27;]),\n",
       "                                (&#x27;onehot&#x27;,\n",
       "                                 Pipeline(steps=[(&#x27;imputers&#x27;,\n",
       "                                                  ColumnTransformer(remainder=&#x27;passthrough&#x27;,\n",
       "                                                                    transformers=[])),\n",
       "                                                 (&#x27;one_hot_encoder&#x27;,\n",
       "                                                  OneHotEncoder())]),\n",
       "                                 [&#x27;Contract&#x27;, &#x27;InternetService&#x27;,\n",
       "                                  &#x27;PaymentMethod&#x27;])])</pre></div></div></div><div class=\"sk-parallel\"><div class=\"sk-parallel-item\"><div class=\"sk-item\"><div class=\"sk-label-container\"><div class=\"sk-label sk-toggleable\"><input class=\"sk-toggleable__control sk-hidden--visually\" id=\"sk-estimator-id-27\" type=\"checkbox\" ><label for=\"sk-estimator-id-27\" class=\"sk-toggleable__label sk-toggleable__label-arrow\">boolean</label><div class=\"sk-toggleable__content\"><pre>[&#x27;Gender&#x27;, &#x27;SeniorCitizen&#x27;, &#x27;Partner&#x27;, &#x27;PaperlessBilling&#x27;]</pre></div></div></div><div class=\"sk-serial\"><div class=\"sk-item\"><div class=\"sk-serial\"><div class=\"sk-item\"><div class=\"sk-estimator sk-toggleable\"><input class=\"sk-toggleable__control sk-hidden--visually\" id=\"sk-estimator-id-28\" type=\"checkbox\" ><label for=\"sk-estimator-id-28\" class=\"sk-toggleable__label sk-toggleable__label-arrow\">FunctionTransformer</label><div class=\"sk-toggleable__content\"><pre>FunctionTransformer(func=&lt;function &lt;lambda&gt; at 0x7f51e9416200&gt;)</pre></div></div></div><div class=\"sk-item sk-dashed-wrapped\"><div class=\"sk-label-container\"><div class=\"sk-label sk-toggleable\"><input class=\"sk-toggleable__control sk-hidden--visually\" id=\"sk-estimator-id-29\" type=\"checkbox\" ><label for=\"sk-estimator-id-29\" class=\"sk-toggleable__label sk-toggleable__label-arrow\">imputers: ColumnTransformer</label><div class=\"sk-toggleable__content\"><pre>ColumnTransformer(remainder=&#x27;passthrough&#x27;, transformers=[])</pre></div></div></div><div class=\"sk-parallel\"><div class=\"sk-parallel-item\"><div class=\"sk-item\"><div class=\"sk-label-container\"><div class=\"sk-label sk-toggleable\"><input class=\"sk-toggleable__control sk-hidden--visually\" id=\"sk-estimator-id-30\" type=\"checkbox\" ><label for=\"sk-estimator-id-30\" class=\"sk-toggleable__label sk-toggleable__label-arrow\">remainder</label><div class=\"sk-toggleable__content\"><pre></pre></div></div></div><div class=\"sk-serial\"><div class=\"sk-item\"><div class=\"sk-estimator sk-toggleable\"><input class=\"sk-toggleable__control sk-hidden--visually\" id=\"sk-estimator-id-31\" type=\"checkbox\" ><label for=\"sk-estimator-id-31\" class=\"sk-toggleable__label sk-toggleable__label-arrow\">passthrough</label><div class=\"sk-toggleable__content\"><pre>passthrough</pre></div></div></div></div></div></div></div></div><div class=\"sk-item\"><div class=\"sk-estimator sk-toggleable\"><input class=\"sk-toggleable__control sk-hidden--visually\" id=\"sk-estimator-id-32\" type=\"checkbox\" ><label for=\"sk-estimator-id-32\" class=\"sk-toggleable__label sk-toggleable__label-arrow\">OneHotEncoder</label><div class=\"sk-toggleable__content\"><pre>OneHotEncoder(drop=&#x27;first&#x27;, handle_unknown=&#x27;ignore&#x27;)</pre></div></div></div></div></div></div></div></div><div class=\"sk-parallel-item\"><div class=\"sk-item\"><div class=\"sk-label-container\"><div class=\"sk-label sk-toggleable\"><input class=\"sk-toggleable__control sk-hidden--visually\" id=\"sk-estimator-id-33\" type=\"checkbox\" ><label for=\"sk-estimator-id-33\" class=\"sk-toggleable__label sk-toggleable__label-arrow\">numerical</label><div class=\"sk-toggleable__content\"><pre>[&#x27;Tenure&#x27;, &#x27;SeniorCitizen&#x27;, &#x27;TotalCharges&#x27;]</pre></div></div></div><div class=\"sk-serial\"><div class=\"sk-item\"><div class=\"sk-serial\"><div class=\"sk-item\"><div class=\"sk-estimator sk-toggleable\"><input class=\"sk-toggleable__control sk-hidden--visually\" id=\"sk-estimator-id-34\" type=\"checkbox\" ><label for=\"sk-estimator-id-34\" class=\"sk-toggleable__label sk-toggleable__label-arrow\">FunctionTransformer</label><div class=\"sk-toggleable__content\"><pre>FunctionTransformer(func=&lt;function &lt;lambda&gt; at 0x7f51d14e8310&gt;)</pre></div></div></div><div class=\"sk-item sk-dashed-wrapped\"><div class=\"sk-label-container\"><div class=\"sk-label sk-toggleable\"><input class=\"sk-toggleable__control sk-hidden--visually\" id=\"sk-estimator-id-35\" type=\"checkbox\" ><label for=\"sk-estimator-id-35\" class=\"sk-toggleable__label sk-toggleable__label-arrow\">imputers: ColumnTransformer</label><div class=\"sk-toggleable__content\"><pre>ColumnTransformer(transformers=[(&#x27;impute_mean&#x27;, SimpleImputer(),\n",
       "                                 [&#x27;SeniorCitizen&#x27;, &#x27;Tenure&#x27;, &#x27;TotalCharges&#x27;])])</pre></div></div></div><div class=\"sk-parallel\"><div class=\"sk-parallel-item\"><div class=\"sk-item\"><div class=\"sk-label-container\"><div class=\"sk-label sk-toggleable\"><input class=\"sk-toggleable__control sk-hidden--visually\" id=\"sk-estimator-id-36\" type=\"checkbox\" ><label for=\"sk-estimator-id-36\" class=\"sk-toggleable__label sk-toggleable__label-arrow\">impute_mean</label><div class=\"sk-toggleable__content\"><pre>[&#x27;SeniorCitizen&#x27;, &#x27;Tenure&#x27;, &#x27;TotalCharges&#x27;]</pre></div></div></div><div class=\"sk-serial\"><div class=\"sk-item\"><div class=\"sk-estimator sk-toggleable\"><input class=\"sk-toggleable__control sk-hidden--visually\" id=\"sk-estimator-id-37\" type=\"checkbox\" ><label for=\"sk-estimator-id-37\" class=\"sk-toggleable__label sk-toggleable__label-arrow\">SimpleImputer</label><div class=\"sk-toggleable__content\"><pre>SimpleImputer()</pre></div></div></div></div></div></div></div></div><div class=\"sk-item\"><div class=\"sk-estimator sk-toggleable\"><input class=\"sk-toggleable__control sk-hidden--visually\" id=\"sk-estimator-id-38\" type=\"checkbox\" ><label for=\"sk-estimator-id-38\" class=\"sk-toggleable__label sk-toggleable__label-arrow\">StandardScaler</label><div class=\"sk-toggleable__content\"><pre>StandardScaler()</pre></div></div></div></div></div></div></div></div><div class=\"sk-parallel-item\"><div class=\"sk-item\"><div class=\"sk-label-container\"><div class=\"sk-label sk-toggleable\"><input class=\"sk-toggleable__control sk-hidden--visually\" id=\"sk-estimator-id-39\" type=\"checkbox\" ><label for=\"sk-estimator-id-39\" class=\"sk-toggleable__label sk-toggleable__label-arrow\">onehot</label><div class=\"sk-toggleable__content\"><pre>[&#x27;Contract&#x27;, &#x27;InternetService&#x27;, &#x27;PaymentMethod&#x27;]</pre></div></div></div><div class=\"sk-serial\"><div class=\"sk-item\"><div class=\"sk-serial\"><div class=\"sk-item sk-dashed-wrapped\"><div class=\"sk-label-container\"><div class=\"sk-label sk-toggleable\"><input class=\"sk-toggleable__control sk-hidden--visually\" id=\"sk-estimator-id-40\" type=\"checkbox\" ><label for=\"sk-estimator-id-40\" class=\"sk-toggleable__label sk-toggleable__label-arrow\">imputers: ColumnTransformer</label><div class=\"sk-toggleable__content\"><pre>ColumnTransformer(remainder=&#x27;passthrough&#x27;, transformers=[])</pre></div></div></div><div class=\"sk-parallel\"><div class=\"sk-parallel-item\"><div class=\"sk-item\"><div class=\"sk-label-container\"><div class=\"sk-label sk-toggleable\"><input class=\"sk-toggleable__control sk-hidden--visually\" id=\"sk-estimator-id-41\" type=\"checkbox\" ><label for=\"sk-estimator-id-41\" class=\"sk-toggleable__label sk-toggleable__label-arrow\">remainder</label><div class=\"sk-toggleable__content\"><pre></pre></div></div></div><div class=\"sk-serial\"><div class=\"sk-item\"><div class=\"sk-estimator sk-toggleable\"><input class=\"sk-toggleable__control sk-hidden--visually\" id=\"sk-estimator-id-42\" type=\"checkbox\" ><label for=\"sk-estimator-id-42\" class=\"sk-toggleable__label sk-toggleable__label-arrow\">passthrough</label><div class=\"sk-toggleable__content\"><pre>passthrough</pre></div></div></div></div></div></div></div></div><div class=\"sk-item\"><div class=\"sk-estimator sk-toggleable\"><input class=\"sk-toggleable__control sk-hidden--visually\" id=\"sk-estimator-id-43\" type=\"checkbox\" ><label for=\"sk-estimator-id-43\" class=\"sk-toggleable__label sk-toggleable__label-arrow\">OneHotEncoder</label><div class=\"sk-toggleable__content\"><pre>OneHotEncoder()</pre></div></div></div></div></div></div></div></div><div class=\"sk-parallel-item\"><div class=\"sk-item\"><div class=\"sk-label-container\"><div class=\"sk-label sk-toggleable\"><input class=\"sk-toggleable__control sk-hidden--visually\" id=\"sk-estimator-id-44\" type=\"checkbox\" ><label for=\"sk-estimator-id-44\" class=\"sk-toggleable__label sk-toggleable__label-arrow\">remainder</label><div class=\"sk-toggleable__content\"><pre>[]</pre></div></div></div><div class=\"sk-serial\"><div class=\"sk-item\"><div class=\"sk-estimator sk-toggleable\"><input class=\"sk-toggleable__control sk-hidden--visually\" id=\"sk-estimator-id-45\" type=\"checkbox\" ><label for=\"sk-estimator-id-45\" class=\"sk-toggleable__label sk-toggleable__label-arrow\">passthrough</label><div class=\"sk-toggleable__content\"><pre>passthrough</pre></div></div></div></div></div></div></div></div><div class=\"sk-item\"><div class=\"sk-estimator sk-toggleable\"><input class=\"sk-toggleable__control sk-hidden--visually\" id=\"sk-estimator-id-46\" type=\"checkbox\" ><label for=\"sk-estimator-id-46\" class=\"sk-toggleable__label sk-toggleable__label-arrow\">LogisticRegression</label><div class=\"sk-toggleable__content\"><pre>LogisticRegression(C=72.28059040131613, random_state=986567390)</pre></div></div></div></div></div></div></div>"
      ],
      "text/plain": [
       "Pipeline(steps=[('column_selector',\n",
       "                 ColumnSelector(cols=['Contract', 'TotalCharges', 'Partner',\n",
       "                                      'PaymentMethod', 'PaperlessBilling',\n",
       "                                      'Tenure', 'InternetService', 'Gender',\n",
       "                                      'SeniorCitizen'])),\n",
       "                ('preprocessor',\n",
       "                 ColumnTransformer(remainder='passthrough', sparse_threshold=0,\n",
       "                                   transformers=[('boolean',\n",
       "                                                  Pipeline(steps=[('cast_type',\n",
       "                                                                   FunctionTransformer(func=<function <la...\n",
       "                                                                                                     'TotalCharges'])])),\n",
       "                                                                  ('standardizer',\n",
       "                                                                   StandardScaler())]),\n",
       "                                                  ['Tenure', 'SeniorCitizen',\n",
       "                                                   'TotalCharges']),\n",
       "                                                 ('onehot',\n",
       "                                                  Pipeline(steps=[('imputers',\n",
       "                                                                   ColumnTransformer(remainder='passthrough',\n",
       "                                                                                     transformers=[])),\n",
       "                                                                  ('one_hot_encoder',\n",
       "                                                                   OneHotEncoder())]),\n",
       "                                                  ['Contract',\n",
       "                                                   'InternetService',\n",
       "                                                   'PaymentMethod'])])),\n",
       "                ('classifier',\n",
       "                 LogisticRegression(C=72.28059040131613,\n",
       "                                    random_state=986567390))])"
      ]
     },
     "execution_count": 13,
     "metadata": {},
     "output_type": "execute_result"
    },
    {
     "output_type": "display_data",
     "data": {
      "text/plain": [
       "<Figure size 1050x700 with 0 Axes>"
      ]
     },
     "metadata": {},
     "output_type": "display_data"
    }
   ],
   "source": [
    "trials = Trials()\n",
    "fmin(objective,\n",
    "     space=space,\n",
    "     algo=tpe.suggest,\n",
    "     max_evals=1,  # Increase this when widening the hyperparameter search space.\n",
    "     trials=trials)\n",
    "\n",
    "best_result = trials.best_trial[\"result\"]\n",
    "model = best_result[\"model\"]\n",
    "mlflow_run = best_result[\"run\"]\n",
    "\n",
    "display(\n",
    "  pd.DataFrame(\n",
    "    [best_result[\"val_metrics\"], best_result[\"test_metrics\"]],\n",
    "    index=[\"validation\", \"test\"]))\n",
    "\n",
    "set_config(display=\"diagram\")\n",
    "model"
   ]
  },
  {
   "cell_type": "markdown",
   "metadata": {
    "application/vnd.databricks.v1+cell": {
     "cellMetadata": {},
     "inputWidgets": {},
     "nuid": "68c11abe-41d5-4625-9766-a344c87f8c54",
     "showTitle": false,
     "tableResultSettingsMap": {},
     "title": ""
    }
   },
   "source": [
    "### Patch pandas version in logged model\n",
    "\n",
    "Ensures that model serving uses the same version of pandas that was used to train the model."
   ]
  },
  {
   "cell_type": "code",
   "execution_count": 0,
   "metadata": {
    "application/vnd.databricks.v1+cell": {
     "cellMetadata": {},
     "inputWidgets": {},
     "nuid": "105bd23b-1710-4034-a207-16b8ab4960b4",
     "showTitle": false,
     "tableResultSettingsMap": {},
     "title": ""
    },
    "execution": {
     "iopub.execute_input": "2024-12-22T23:15:04.752264Z",
     "iopub.status.busy": "2024-12-22T23:15:04.750387Z",
     "iopub.status.idle": "2024-12-22T23:15:05.776407Z",
     "shell.execute_reply": "2024-12-22T23:15:05.775323Z"
    }
   },
   "outputs": [
    {
     "output_type": "stream",
     "name": "stdout",
     "output_type": "stream",
     "text": [
      "Adding pandas dependency to conda.yaml\n"
     ]
    },
    {
     "output_type": "stream",
     "name": "stdout",
     "output_type": "stream",
     "text": [
      "Adding pandas dependency to requirements.txt\n"
     ]
    }
   ],
   "source": [
    "import mlflow\n",
    "import os\n",
    "import shutil\n",
    "import tempfile\n",
    "import yaml\n",
    "\n",
    "run_id = mlflow_run.info.run_id\n",
    "\n",
    "# Set up a local dir for downloading the artifacts.\n",
    "tmp_dir = str(tempfile.TemporaryDirectory())\n",
    "os.makedirs(tmp_dir)\n",
    "\n",
    "client = mlflow.tracking.MlflowClient()\n",
    "\n",
    "# Fix conda.yaml\n",
    "conda_file_path = mlflow.artifacts.download_artifacts(artifact_uri=f\"runs:/{run_id}/model/conda.yaml\", dst_path=tmp_dir)\n",
    "with open(conda_file_path) as f:\n",
    "  conda_libs = yaml.load(f, Loader=yaml.FullLoader)\n",
    "pandas_lib_exists = any([lib.startswith(\"pandas==\") for lib in conda_libs[\"dependencies\"][-1][\"pip\"]])\n",
    "if not pandas_lib_exists:\n",
    "  print(\"Adding pandas dependency to conda.yaml\")\n",
    "  conda_libs[\"dependencies\"][-1][\"pip\"].append(f\"pandas=={pd.__version__}\")\n",
    "\n",
    "  with open(f\"{tmp_dir}/conda.yaml\", \"w\") as f:\n",
    "    f.write(yaml.dump(conda_libs))\n",
    "  client.log_artifact(run_id=run_id, local_path=conda_file_path, artifact_path=\"model\")\n",
    "\n",
    "# Fix requirements.txt\n",
    "venv_file_path = mlflow.artifacts.download_artifacts(artifact_uri=f\"runs:/{run_id}/model/requirements.txt\", dst_path=tmp_dir)\n",
    "with open(venv_file_path) as f:\n",
    "  venv_libs = f.readlines()\n",
    "venv_libs = [lib.strip() for lib in venv_libs]\n",
    "pandas_lib_exists = any([lib.startswith(\"pandas==\") for lib in venv_libs])\n",
    "if not pandas_lib_exists:\n",
    "  print(\"Adding pandas dependency to requirements.txt\")\n",
    "  venv_libs.append(f\"pandas=={pd.__version__}\")\n",
    "\n",
    "  with open(f\"{tmp_dir}/requirements.txt\", \"w\") as f:\n",
    "    f.write(\"\\n\".join(venv_libs))\n",
    "  client.log_artifact(run_id=run_id, local_path=venv_file_path, artifact_path=\"model\")\n",
    "\n",
    "shutil.rmtree(tmp_dir)"
   ]
  },
  {
   "cell_type": "markdown",
   "metadata": {
    "application/vnd.databricks.v1+cell": {
     "cellMetadata": {},
     "inputWidgets": {},
     "nuid": "61209bfe-8d90-4a3e-9410-9d05090b56b9",
     "showTitle": false,
     "tableResultSettingsMap": {},
     "title": ""
    }
   },
   "source": [
    "## Feature importance\n",
    "\n",
    "SHAP is a game-theoretic approach to explain machine learning models, providing a summary plot\n",
    "of the relationship between features and model output. Features are ranked in descending order of\n",
    "importance, and impact/color describe the correlation between the feature and the target variable.\n",
    "- Generating SHAP feature importance is a very memory intensive operation, so to ensure that AutoML can run trials without\n",
    "  running out of memory, we disable SHAP by default.<br />\n",
    "  You can set the flag defined below to `shap_enabled = True` and re-run this notebook to see the SHAP plots.\n",
    "- To reduce the computational overhead of each trial, a single example is sampled from the validation set to explain.<br />\n",
    "  For more thorough results, increase the sample size of explanations, or provide your own examples to explain.\n",
    "- SHAP cannot explain models using data with nulls; if your dataset has any, both the background data and\n",
    "  examples to explain will be imputed using the mode (most frequent values). This affects the computed\n",
    "  SHAP values, as the imputed samples may not match the actual data distribution.\n",
    "\n",
    "For more information on how to read Shapley values, see the [SHAP documentation](https://shap.readthedocs.io/en/latest/example_notebooks/overviews/An%20introduction%20to%20explainable%20AI%20with%20Shapley%20values.html)."
   ]
  },
  {
   "cell_type": "code",
   "execution_count": 0,
   "metadata": {
    "application/vnd.databricks.v1+cell": {
     "cellMetadata": {},
     "inputWidgets": {},
     "nuid": "54eb4df9-5247-4336-9663-4d567fb4c14d",
     "showTitle": false,
     "tableResultSettingsMap": {},
     "title": ""
    },
    "execution": {
     "iopub.execute_input": "2024-12-22T23:15:05.781272Z",
     "iopub.status.busy": "2024-12-22T23:15:05.781019Z",
     "iopub.status.idle": "2024-12-22T23:15:05.788127Z",
     "shell.execute_reply": "2024-12-22T23:15:05.787078Z"
    }
   },
   "outputs": [],
   "source": [
    "# Set this flag to True and re-run the notebook to see the SHAP plots\n",
    "shap_enabled = False"
   ]
  },
  {
   "cell_type": "code",
   "execution_count": 0,
   "metadata": {
    "application/vnd.databricks.v1+cell": {
     "cellMetadata": {},
     "inputWidgets": {},
     "nuid": "0b054588-51b5-44e5-b5e7-5a52e8fdc37b",
     "showTitle": false,
     "tableResultSettingsMap": {},
     "title": ""
    },
    "execution": {
     "iopub.execute_input": "2024-12-22T23:15:05.792587Z",
     "iopub.status.busy": "2024-12-22T23:15:05.792310Z",
     "iopub.status.idle": "2024-12-22T23:15:05.800747Z",
     "shell.execute_reply": "2024-12-22T23:15:05.799402Z"
    }
   },
   "outputs": [],
   "source": [
    "if shap_enabled:\n",
    "    mlflow.autolog(disable=True)\n",
    "    mlflow.sklearn.autolog(disable=True)\n",
    "    from shap import KernelExplainer, summary_plot\n",
    "    # SHAP cannot explain models using data with nulls.\n",
    "    # To enable SHAP to succeed, both the background data and examples to explain are imputed with the mode (most frequent values).\n",
    "    mode = X_train.mode().iloc[0]\n",
    "\n",
    "    # Sample background data for SHAP Explainer. Increase the sample size to reduce variance.\n",
    "    train_sample = X_train.sample(n=min(100, X_train.shape[0]), random_state=986567390).fillna(mode)\n",
    "\n",
    "    # Sample some rows from the validation set to explain. Increase the sample size for more thorough results.\n",
    "    example = X_val.sample(n=min(100, X_val.shape[0]), random_state=986567390).fillna(mode)\n",
    "\n",
    "    # Use Kernel SHAP to explain feature importance on the sampled rows from the validation set.\n",
    "    predict = lambda x: model.predict_proba(pd.DataFrame(x, columns=X_train.columns))\n",
    "    explainer = KernelExplainer(predict, train_sample, link=\"logit\")\n",
    "    shap_values = explainer.shap_values(example, l1_reg=False, nsamples=500)\n",
    "    summary_plot(shap_values, example, class_names=model.classes_)"
   ]
  },
  {
   "cell_type": "markdown",
   "metadata": {
    "application/vnd.databricks.v1+cell": {
     "cellMetadata": {},
     "inputWidgets": {},
     "nuid": "c5cf47ed-e10c-4674-9fa8-f81fccfa0e81",
     "showTitle": false,
     "tableResultSettingsMap": {},
     "title": ""
    }
   },
   "source": [
    "## Inference\n",
    "[The MLflow Model Registry](https://docs.databricks.com/applications/mlflow/model-registry.html) is a collaborative hub where teams can share ML models, work together from experimentation to online testing and production, integrate with approval and governance workflows, and monitor ML deployments and their performance. The snippets below show how to add the model trained in this notebook to the model registry and to retrieve it later for inference.\n",
    "\n",
    "> **NOTE:** The `model_uri` for the model already trained in this notebook can be found in the cell below\n",
    "\n",
    "### Register to Model Registry\n",
    "```\n",
    "model_name = \"Example\"\n",
    "\n",
    "model_uri = f\"runs:/{ mlflow_run.info.run_id }/model\"\n",
    "registered_model_version = mlflow.register_model(model_uri, model_name)\n",
    "```\n",
    "\n",
    "### Load from Model Registry\n",
    "```\n",
    "model_name = \"Example\"\n",
    "model_version = registered_model_version.version\n",
    "\n",
    "model_uri=f\"models:/{model_name}/{model_version}\"\n",
    "model = mlflow.pyfunc.load_model(model_uri=model_uri)\n",
    "model.predict(input_X)\n",
    "```\n",
    "\n",
    "### Load model without registering\n",
    "```\n",
    "model_uri = f\"runs:/{ mlflow_run.info.run_id }/model\"\n",
    "\n",
    "model = mlflow.pyfunc.load_model(model_uri=model_uri)\n",
    "model.predict(input_X)\n",
    "```"
   ]
  },
  {
   "cell_type": "code",
   "execution_count": 0,
   "metadata": {
    "application/vnd.databricks.v1+cell": {
     "cellMetadata": {},
     "inputWidgets": {},
     "nuid": "4b481a73-d2fe-457f-bcdd-41e03211cbdf",
     "showTitle": false,
     "tableResultSettingsMap": {},
     "title": ""
    },
    "execution": {
     "iopub.execute_input": "2024-12-22T23:15:05.804678Z",
     "iopub.status.busy": "2024-12-22T23:15:05.804459Z",
     "iopub.status.idle": "2024-12-22T23:15:05.811726Z",
     "shell.execute_reply": "2024-12-22T23:15:05.810796Z"
    }
   },
   "outputs": [
    {
     "output_type": "stream",
     "name": "stdout",
     "output_type": "stream",
     "text": [
      "runs:/473564fe09c14dedb656af5f43e6bdd9/model\n"
     ]
    }
   ],
   "source": [
    "# model_uri for the generated model\n",
    "print(f\"runs:/{ mlflow_run.info.run_id }/model\")"
   ]
  },
  {
   "cell_type": "markdown",
   "metadata": {
    "application/vnd.databricks.v1+cell": {
     "cellMetadata": {},
     "inputWidgets": {},
     "nuid": "34b2c9d0-80c6-4ae9-b009-2ef05238cc5a",
     "showTitle": false,
     "tableResultSettingsMap": {},
     "title": ""
    }
   },
   "source": [
    "## Confusion matrix, ROC and Precision-Recall curves for validation data\n",
    "\n",
    "We show the confusion matrix, ROC and Precision-Recall curves of the model on the validation data.\n",
    "\n",
    "For the plots evaluated on the training and the test data, check the artifacts on the MLflow run page."
   ]
  },
  {
   "cell_type": "code",
   "execution_count": 0,
   "metadata": {
    "application/vnd.databricks.v1+cell": {
     "cellMetadata": {},
     "inputWidgets": {},
     "nuid": "c340a0aa-ffaf-44df-8850-5189b5fc6d4d",
     "showTitle": false,
     "tableResultSettingsMap": {},
     "title": ""
    },
    "execution": {
     "iopub.execute_input": "2024-12-22T23:15:05.816055Z",
     "iopub.status.busy": "2024-12-22T23:15:05.815790Z",
     "iopub.status.idle": "2024-12-22T23:15:05.824815Z",
     "shell.execute_reply": "2024-12-22T23:15:05.823773Z"
    }
   },
   "outputs": [
    {
     "output_type": "display_data",
     "data": {
      "text/html": [
       "<a href=#mlflow/experiments/3255553230519625/runs/473564fe09c14dedb656af5f43e6bdd9/artifactPath/model> Link to model run page </a>"
      ],
      "text/plain": [
       "<IPython.core.display.HTML object>"
      ]
     },
     "metadata": {},
     "output_type": "display_data"
    }
   ],
   "source": [
    "# Click the link to see the MLflow run page\n",
    "displayHTML(f\"<a href=#mlflow/experiments/3255553230519625/runs/{ mlflow_run.info.run_id }/artifactPath/model> Link to model run page </a>\")"
   ]
  },
  {
   "cell_type": "code",
   "execution_count": 0,
   "metadata": {
    "application/vnd.databricks.v1+cell": {
     "cellMetadata": {},
     "inputWidgets": {},
     "nuid": "2b0cdf7d-ceb8-40be-a6b8-3e415d0c677e",
     "showTitle": false,
     "tableResultSettingsMap": {},
     "title": ""
    },
    "execution": {
     "iopub.execute_input": "2024-12-22T23:15:05.829124Z",
     "iopub.status.busy": "2024-12-22T23:15:05.828858Z",
     "iopub.status.idle": "2024-12-22T23:15:07.460802Z",
     "shell.execute_reply": "2024-12-22T23:15:07.459301Z"
    }
   },
   "outputs": [],
   "source": [
    "import uuid\n",
    "from IPython.display import Image\n",
    "\n",
    "# Create temp directory to download MLflow model artifact\n",
    "eval_temp_dir = os.path.join(os.environ[\"SPARK_LOCAL_DIRS\"], \"tmp\", str(uuid.uuid4())[:8])\n",
    "os.makedirs(eval_temp_dir, exist_ok=True)\n",
    "\n",
    "# Download the artifact\n",
    "eval_path = mlflow.artifacts.download_artifacts(run_id=mlflow_run.info.run_id, dst_path=eval_temp_dir)"
   ]
  },
  {
   "cell_type": "markdown",
   "metadata": {
    "application/vnd.databricks.v1+cell": {
     "cellMetadata": {},
     "inputWidgets": {},
     "nuid": "d07675ae-f42d-4055-80f6-f4f9ec267652",
     "showTitle": false,
     "tableResultSettingsMap": {},
     "title": ""
    }
   },
   "source": [
    "### Confusion matrix for validation dataset"
   ]
  },
  {
   "cell_type": "code",
   "execution_count": 0,
   "metadata": {
    "application/vnd.databricks.v1+cell": {
     "cellMetadata": {},
     "inputWidgets": {},
     "nuid": "cc892b02-5747-4b39-a573-8805a6270b53",
     "showTitle": false,
     "tableResultSettingsMap": {},
     "title": ""
    },
    "execution": {
     "iopub.execute_input": "2024-12-22T23:15:07.466314Z",
     "iopub.status.busy": "2024-12-22T23:15:07.465878Z",
     "iopub.status.idle": "2024-12-22T23:15:07.481132Z",
     "shell.execute_reply": "2024-12-22T23:15:07.479969Z"
    },
    "large_display_output": true
   },
   "outputs": [
    {
     "output_type": "display_data",
     "data": {
      "image/png": "[encoded data removed]",
      "text/plain": [
       "<IPython.core.display.Image object>"
      ]
     },
     "metadata": {},
     "output_type": "display_data"
    }
   ],
   "source": [
    "eval_confusion_matrix_path = os.path.join(eval_path, \"val_confusion_matrix.png\")\n",
    "display(Image(filename=eval_confusion_matrix_path))"
   ]
  },
  {
   "cell_type": "markdown",
   "metadata": {
    "application/vnd.databricks.v1+cell": {
     "cellMetadata": {},
     "inputWidgets": {},
     "nuid": "3ee7ee5d-c841-4c37-b8d1-5a021fe6b925",
     "showTitle": false,
     "tableResultSettingsMap": {},
     "title": ""
    }
   },
   "source": [
    "### ROC curve for validation dataset"
   ]
  },
  {
   "cell_type": "code",
   "execution_count": 0,
   "metadata": {
    "application/vnd.databricks.v1+cell": {
     "cellMetadata": {},
     "inputWidgets": {},
     "nuid": "f2d2a1d3-d35e-4bb8-a64e-a487ab0c93f8",
     "showTitle": false,
     "tableResultSettingsMap": {},
     "title": ""
    },
    "execution": {
     "iopub.execute_input": "2024-12-22T23:15:07.488289Z",
     "iopub.status.busy": "2024-12-22T23:15:07.487936Z",
     "iopub.status.idle": "2024-12-22T23:15:07.499453Z",
     "shell.execute_reply": "2024-12-22T23:15:07.498274Z"
    },
    "large_display_output": true
   },
   "outputs": [
    {
     "output_type": "display_data",
     "data": {
      "image/png": "[encoded data removed]",
      "text/plain": [
       "<IPython.core.display.Image object>"
      ]
     },
     "metadata": {},
     "output_type": "display_data"
    }
   ],
   "source": [
    "eval_roc_curve_path = os.path.join(eval_path, \"val_roc_curve_plot.png\")\n",
    "display(Image(filename=eval_roc_curve_path))"
   ]
  },
  {
   "cell_type": "markdown",
   "metadata": {
    "application/vnd.databricks.v1+cell": {
     "cellMetadata": {},
     "inputWidgets": {},
     "nuid": "2094f799-2ee1-43bb-aa5d-233b31ea501f",
     "showTitle": false,
     "tableResultSettingsMap": {},
     "title": ""
    }
   },
   "source": [
    "### Precision-Recall curve for validation dataset"
   ]
  },
  {
   "cell_type": "code",
   "execution_count": 0,
   "metadata": {
    "application/vnd.databricks.v1+cell": {
     "cellMetadata": {},
     "inputWidgets": {},
     "nuid": "f33662c5-a79f-4d0a-9719-6082cb834e9a",
     "showTitle": false,
     "tableResultSettingsMap": {},
     "title": ""
    },
    "execution": {
     "iopub.execute_input": "2024-12-22T23:15:07.503620Z",
     "iopub.status.busy": "2024-12-22T23:15:07.503263Z",
     "iopub.status.idle": "2024-12-22T23:15:07.524492Z",
     "shell.execute_reply": "2024-12-22T23:15:07.523078Z"
    },
    "large_display_output": true
   },
   "outputs": [
    {
     "output_type": "display_data",
     "data": {
      "image/png": "[encoded data removed]",
      "text/plain": [
       "<IPython.core.display.Image object>"
      ]
     },
     "metadata": {},
     "output_type": "display_data"
    }
   ],
   "source": [
    "eval_pr_curve_path = os.path.join(eval_path, \"val_precision_recall_curve_plot.png\")\n",
    "display(Image(filename=eval_pr_curve_path))"
   ]
  }
 ],
 "metadata": {
  "application/vnd.databricks.v1+notebook": {
   "computePreferences": null,
   "dashboards": [],
   "environmentMetadata": null,
   "language": "python",
   "notebookMetadata": {
    "pythonIndentUnit": 4
   },
   "notebookName": "24-12-22-23:10-LogisticRegressionClassifier-32cb2f12a0897bbe3aeec8659b025bfc",
   "widgets": {}
  },
  "language_info": {
   "name": "python"
  },
  "name": "LogisticRegressionClassifier-32cb2f12a0897bbe3aeec8659b025bfc"
 },
 "nbformat": 4,
 "nbformat_minor": 0
}