{
 "cells": [
  {
   "cell_type": "code",
   "execution_count": 0,
   "metadata": {
    "application/vnd.databricks.v1+cell": {
     "cellMetadata": {},
     "inputWidgets": {},
     "nuid": "b556f686-a280-4654-a45f-901ef1eb23df",
     "showTitle": false,
     "tableResultSettingsMap": {},
     "title": ""
    }
   },
   "outputs": [],
   "source": [
    "%run ./_common"
   ]
  },
  {
   "cell_type": "code",
   "execution_count": 0,
   "metadata": {
    "application/vnd.databricks.v1+cell": {
     "cellMetadata": {},
     "inputWidgets": {},
     "nuid": "df7fbca3-c4c3-417a-bb34-3503d82ba849",
     "showTitle": false,
     "tableResultSettingsMap": {},
     "title": ""
    }
   },
   "outputs": [],
   "source": [
    "# Create a delta table for diet features\n",
    "def create_security_features_table(self):\n",
    "    \n",
    "    spark.sql(f\"USE CATALOG {DA.catalog_name}\")\n",
    "    \n",
    "    from pyspark.sql.functions import col\n",
    "\n",
    "    dataset_path = f\"{DA.paths.datasets}/telco/telco-customer-churn.csv\"\n",
    "    df = spark.read.csv(dataset_path, header=\"true\", inferSchema=\"true\", multiLine=\"true\", escape='\"')\n",
    "\n",
    "    # drop the taget column\n",
    "    df = df.select(\"customerID\", \"OnlineSecurity\", \"OnlineBackup\", \"DeviceProtection\")\n",
    "\n",
    "    table_name = f\"{DA.catalog_name}.{DA.schema_name}.security_features\"\n",
    "    df.write.format(\"delta\").mode(\"overwrite\").saveAsTable(table_name)\n",
    "        \n",
    "DBAcademyHelper.monkey_patch(create_security_features_table)"
   ]
  },
  {
   "cell_type": "code",
   "execution_count": 0,
   "metadata": {
    "application/vnd.databricks.v1+cell": {
     "cellMetadata": {},
     "inputWidgets": {},
     "nuid": "dd73db9a-6a93-40ac-b42b-0a6bc6179fd5",
     "showTitle": false,
     "tableResultSettingsMap": {},
     "title": ""
    }
   },
   "outputs": [],
   "source": [
    "DA = DBAcademyHelper(course_config, lesson_config)  # Create the DA object\n",
    "DA.reset_lesson()                                   # Reset the lesson to a clean state\n",
    "DA.init()                                           # Performs basic intialization including creating schemas and catalogs\n",
    "\n",
    "DA.create_security_features_table()\n",
    "\n",
    "DA.conclude_setup()                                 # Finalizes the state and prints the config for the student"
   ]
  }
 ],
 "metadata": {
  "application/vnd.databricks.v1+notebook": {
   "computePreferences": null,
   "dashboards": [],
   "environmentMetadata": null,
   "language": "python",
   "notebookMetadata": {
    "pythonIndentUnit": 2
   },
   "notebookName": "Classroom-Setup-03.1",
   "widgets": {}
  },
  "language_info": {
   "name": "python"
  }
 },
 "nbformat": 4,
 "nbformat_minor": 0
}