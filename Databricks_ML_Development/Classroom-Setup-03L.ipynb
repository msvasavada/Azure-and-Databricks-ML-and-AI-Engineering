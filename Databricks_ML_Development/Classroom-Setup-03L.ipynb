{
 "cells": [
  {
   "cell_type": "code",
   "execution_count": 0,
   "metadata": {
    "application/vnd.databricks.v1+cell": {
     "cellMetadata": {},
     "inputWidgets": {},
     "nuid": "49a0b3c9-06e7-4873-ae49-b3396e90ac40",
     "showTitle": false,
     "tableResultSettingsMap": {},
     "title": ""
    }
   },
   "outputs": [],
   "source": [
    "%run ./_common"
   ]
  },
  {
   "cell_type": "code",
   "execution_count": 0,
   "metadata": {
    "application/vnd.databricks.v1+cell": {
     "cellMetadata": {},
     "inputWidgets": {},
     "nuid": "b5f3a043-c0a7-4fad-8f93-f233f96de950",
     "showTitle": false,
     "tableResultSettingsMap": {},
     "title": ""
    }
   },
   "outputs": [],
   "source": [
    "# Create a delta table for diet features\n",
    "def create_diet_features_table(self):\n",
    "    \n",
    "    spark.sql(f\"USE CATALOG {DA.catalog_name}\")\n",
    "    \n",
    "    from pyspark.sql.functions import col, monotonically_increasing_id\n",
    "\n",
    "    dataset_path = f\"{DA.paths.datasets}/cdc-diabetes/diabetes_binary_5050split_BRFSS2015.csv\"\n",
    "    df = spark.read.csv(dataset_path, header=\"true\", inferSchema=\"true\", multiLine=\"true\", escape='\"')\n",
    "    df = df.select(\"Fruits\", \"Veggies\", \"HvyAlcoholConsump\", \"Smoker\")\n",
    "    df = df.withColumn(\"UID\", monotonically_increasing_id())\n",
    "\n",
    "    table_name = f\"{DA.catalog_name}.{DA.schema_name}.diet_features\"\n",
    "    df.write.format(\"delta\").mode(\"overwrite\").saveAsTable(table_name)\n",
    "        \n",
    "DBAcademyHelper.monkey_patch(create_diet_features_table)"
   ]
  },
  {
   "cell_type": "code",
   "execution_count": 0,
   "metadata": {
    "application/vnd.databricks.v1+cell": {
     "cellMetadata": {},
     "inputWidgets": {},
     "nuid": "e05d70f6-fb09-450c-aa6b-c5cae3225af6",
     "showTitle": false,
     "tableResultSettingsMap": {},
     "title": ""
    }
   },
   "outputs": [],
   "source": [
    "DA = DBAcademyHelper(course_config, lesson_config)  # Create the DA object\n",
    "DA.reset_lesson()                                   # Reset the lesson to a clean state\n",
    "DA.init()                                           # Performs basic intialization including creating schemas and catalogs\n",
    "\n",
    "DA.create_diet_features_table()\n",
    "\n",
    "DA.conclude_setup()                                 # Finalizes the state and prints the config for the student"
   ]
  }
 ],
 "metadata": {
  "application/vnd.databricks.v1+notebook": {
   "computePreferences": null,
   "dashboards": [],
   "environmentMetadata": null,
   "language": "python",
   "notebookMetadata": {
    "pythonIndentUnit": 2
   },
   "notebookName": "Classroom-Setup-03L",
   "widgets": {}
  },
  "language_info": {
   "name": "python"
  }
 },
 "nbformat": 4,
 "nbformat_minor": 0
}