{
 "cells": [
  {
   "cell_type": "code",
   "execution_count": 0,
   "metadata": {
    "application/vnd.databricks.v1+cell": {
     "cellMetadata": {},
     "inputWidgets": {},
     "nuid": "ec49fff3-8488-4e89-957c-68ea799af427",
     "showTitle": false,
     "tableResultSettingsMap": {},
     "title": ""
    }
   },
   "outputs": [],
   "source": [
    "# INSTALL_LIBRARIES\n",
    "version = \"v3.0.69\"\n",
    "if not version.startswith(\"v\"): library_url = f\"git+https://github.com/databricks-academy/dbacademy@{version}\"\n",
    "else: library_url = f\"https://github.com/databricks-academy/dbacademy/releases/download/{version}/dbacademy-{version[1:]}-py3-none-any.whl\"\n",
    "pip_command = f\"install --quiet --disable-pip-version-check {library_url}\""
   ]
  },
  {
   "cell_type": "code",
   "execution_count": 0,
   "metadata": {
    "application/vnd.databricks.v1+cell": {
     "cellMetadata": {},
     "inputWidgets": {},
     "nuid": "c9cc38fd-cfb7-40f7-92da-7f251d27a240",
     "showTitle": false,
     "tableResultSettingsMap": {},
     "title": ""
    }
   },
   "outputs": [],
   "source": [
    "%pip $pip_command"
   ]
  },
  {
   "cell_type": "code",
   "execution_count": 0,
   "metadata": {
    "application/vnd.databricks.v1+cell": {
     "cellMetadata": {},
     "inputWidgets": {},
     "nuid": "5e89bb0b-336d-4b69-a17b-9c10c782d1b7",
     "showTitle": false,
     "tableResultSettingsMap": {},
     "title": ""
    }
   },
   "outputs": [],
   "source": [
    "%run ./_dataset_index"
   ]
  },
  {
   "cell_type": "code",
   "execution_count": 0,
   "metadata": {
    "application/vnd.databricks.v1+cell": {
     "cellMetadata": {},
     "inputWidgets": {},
     "nuid": "e211e601-f7cc-4ba9-9e85-8010828f063f",
     "showTitle": false,
     "tableResultSettingsMap": {},
     "title": ""
    }
   },
   "outputs": [],
   "source": [
    "from dbacademy import dbgems\n",
    "from dbacademy.dbhelper import DBAcademyHelper, Paths, CourseConfig, LessonConfig\n",
    "\n",
    "course_config = CourseConfig(course_code = \"dpml\",\n",
    "                             course_name = \"data-preparation-for-machine-learning\",\n",
    "                             data_source_name = \"data-preparation-for-machine-learning\",\n",
    "                             data_source_version = \"v01\",\n",
    "                             install_min_time = \"1 min\",\n",
    "                             install_max_time = \"5 min\",\n",
    "                             remote_files = remote_files,\n",
    "                             supported_dbrs = [\"13.3.x-cpu-ml-scala2.12\"],\n",
    "                             expected_dbrs = \"{{supported_dbrs}}\")\n",
    "\n",
    "\n",
    "lesson_config = LessonConfig(name = None,\n",
    "                             create_schema = False,\n",
    "                             create_catalog = True,\n",
    "                             requires_uc = True,\n",
    "                             installing_datasets = True,\n",
    "                             enable_streaming_support = False,\n",
    "                             enable_ml_support = False)"
   ]
  }
 ],
 "metadata": {
  "application/vnd.databricks.v1+notebook": {
   "computePreferences": null,
   "dashboards": [],
   "environmentMetadata": {
    "base_environment": "",
    "client": "1"
   },
   "language": "python",
   "notebookMetadata": {
    "pythonIndentUnit": 4
   },
   "notebookName": "_common",
   "widgets": {}
  },
  "language_info": {
   "name": "python"
  }
 },
 "nbformat": 4,
 "nbformat_minor": 0
}