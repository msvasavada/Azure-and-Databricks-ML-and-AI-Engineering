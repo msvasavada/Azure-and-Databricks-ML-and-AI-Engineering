{
 "cells": [
  {
   "cell_type": "markdown",
   "metadata": {
    "application/vnd.databricks.v1+cell": {
     "cellMetadata": {},
     "inputWidgets": {},
     "nuid": "01b0ffb0-b4fe-4ebf-bd96-05142290556b",
     "showTitle": false,
     "tableResultSettingsMap": {},
     "title": ""
    }
   },
   "source": [
    "# XGBoost Classifier training\n",
    "- This is an auto-generated notebook.\n",
    "- To reproduce these results, attach this notebook to a cluster with runtime version **13.3.x-cpu-ml-scala2.12**, and rerun it.\n",
    "- Compare trials in the [MLflow experiment](#mlflow/experiments/1648172618108006).\n",
    "- Clone this notebook into your project folder by selecting **File > Clone** in the notebook toolbar."
   ]
  },
  {
   "cell_type": "code",
   "execution_count": 0,
   "metadata": {
    "application/vnd.databricks.v1+cell": {
     "cellMetadata": {},
     "inputWidgets": {},
     "nuid": "dc5cb423-cfde-488c-bcc5-8ea50b0665bb",
     "showTitle": false,
     "tableResultSettingsMap": {},
     "title": ""
    },
    "execution": {
     "iopub.execute_input": "2024-12-23T02:06:38.348437Z",
     "iopub.status.busy": "2024-12-23T02:06:38.347751Z",
     "iopub.status.idle": "2024-12-23T02:06:38.360670Z",
     "shell.execute_reply": "2024-12-23T02:06:38.359277Z"
    }
   },
   "outputs": [],
   "source": [
    "import mlflow\n",
    "import databricks.automl_runtime\n",
    "\n",
    "target_col = \"Personal_Loan\""
   ]
  },
  {
   "cell_type": "markdown",
   "metadata": {
    "application/vnd.databricks.v1+cell": {
     "cellMetadata": {},
     "inputWidgets": {},
     "nuid": "7272a743-e28e-4d8a-8db9-8b99b253b680",
     "showTitle": false,
     "tableResultSettingsMap": {},
     "title": ""
    }
   },
   "source": [
    "## Load Data"
   ]
  },
  {
   "cell_type": "code",
   "execution_count": 0,
   "metadata": {
    "application/vnd.databricks.v1+cell": {
     "cellMetadata": {},
     "inputWidgets": {},
     "nuid": "eb489a1e-7442-476d-973a-c35975781218",
     "showTitle": false,
     "tableResultSettingsMap": {},
     "title": ""
    },
    "execution": {
     "iopub.execute_input": "2024-12-23T02:06:38.367012Z",
     "iopub.status.busy": "2024-12-23T02:06:38.366190Z",
     "iopub.status.idle": "2024-12-23T02:06:39.626116Z",
     "shell.execute_reply": "2024-12-23T02:06:39.624998Z"
    }
   },
   "outputs": [
    {
     "output_type": "execute_result",
     "data": {
      "text/html": [
       "<div>\n",
       "<style scoped>\n",
       "    .dataframe tbody tr th:only-of-type {\n",
       "        vertical-align: middle;\n",
       "    }\n",
       "\n",
       "    .dataframe tbody tr th {\n",
       "        vertical-align: top;\n",
       "    }\n",
       "\n",
       "    .dataframe thead th {\n",
       "        text-align: right;\n",
       "    }\n",
       "</style>\n",
       "<table border=\"1\" class=\"dataframe\">\n",
       "  <thead>\n",
       "    <tr style=\"text-align: right;\">\n",
       "      <th></th>\n",
       "      <th>Age</th>\n",
       "      <th>Experience</th>\n",
       "      <th>Income</th>\n",
       "      <th>Family</th>\n",
       "      <th>CCAvg</th>\n",
       "      <th>Education</th>\n",
       "      <th>Mortgage</th>\n",
       "      <th>Securities_Account</th>\n",
       "      <th>CD_Account</th>\n",
       "      <th>Online</th>\n",
       "      <th>CreditCard</th>\n",
       "      <th>Personal_Loan</th>\n",
       "      <th>_automl_split_col_0000</th>\n",
       "    </tr>\n",
       "  </thead>\n",
       "  <tbody>\n",
       "    <tr>\n",
       "      <th>0</th>\n",
       "      <td>25</td>\n",
       "      <td>1</td>\n",
       "      <td>49</td>\n",
       "      <td>4</td>\n",
       "      <td>1.6</td>\n",
       "      <td>1</td>\n",
       "      <td>0</td>\n",
       "      <td>1</td>\n",
       "      <td>0</td>\n",
       "      <td>0</td>\n",
       "      <td>0</td>\n",
       "      <td>0</td>\n",
       "      <td>train</td>\n",
       "    </tr>\n",
       "    <tr>\n",
       "      <th>1</th>\n",
       "      <td>35</td>\n",
       "      <td>8</td>\n",
       "      <td>45</td>\n",
       "      <td>4</td>\n",
       "      <td>1.0</td>\n",
       "      <td>2</td>\n",
       "      <td>0</td>\n",
       "      <td>0</td>\n",
       "      <td>0</td>\n",
       "      <td>0</td>\n",
       "      <td>1</td>\n",
       "      <td>0</td>\n",
       "      <td>train</td>\n",
       "    </tr>\n",
       "    <tr>\n",
       "      <th>2</th>\n",
       "      <td>53</td>\n",
       "      <td>27</td>\n",
       "      <td>72</td>\n",
       "      <td>2</td>\n",
       "      <td>1.5</td>\n",
       "      <td>2</td>\n",
       "      <td>0</td>\n",
       "      <td>0</td>\n",
       "      <td>0</td>\n",
       "      <td>1</td>\n",
       "      <td>0</td>\n",
       "      <td>0</td>\n",
       "      <td>train</td>\n",
       "    </tr>\n",
       "    <tr>\n",
       "      <th>3</th>\n",
       "      <td>50</td>\n",
       "      <td>24</td>\n",
       "      <td>22</td>\n",
       "      <td>1</td>\n",
       "      <td>0.3</td>\n",
       "      <td>3</td>\n",
       "      <td>0</td>\n",
       "      <td>0</td>\n",
       "      <td>0</td>\n",
       "      <td>0</td>\n",
       "      <td>1</td>\n",
       "      <td>0</td>\n",
       "      <td>train</td>\n",
       "    </tr>\n",
       "    <tr>\n",
       "      <th>4</th>\n",
       "      <td>29</td>\n",
       "      <td>5</td>\n",
       "      <td>45</td>\n",
       "      <td>3</td>\n",
       "      <td>0.1</td>\n",
       "      <td>2</td>\n",
       "      <td>0</td>\n",
       "      <td>0</td>\n",
       "      <td>0</td>\n",
       "      <td>1</td>\n",
       "      <td>0</td>\n",
       "      <td>0</td>\n",
       "      <td>train</td>\n",
       "    </tr>\n",
       "  </tbody>\n",
       "</table>\n",
       "</div>"
      ],
      "text/plain": [
       "   Age  Experience  Income  Family  CCAvg  Education  Mortgage  \\\n",
       "0   25           1      49       4    1.6          1         0   \n",
       "1   35           8      45       4    1.0          2         0   \n",
       "2   53          27      72       2    1.5          2         0   \n",
       "3   50          24      22       1    0.3          3         0   \n",
       "4   29           5      45       3    0.1          2         0   \n",
       "\n",
       "   Securities_Account  CD_Account  Online  CreditCard  Personal_Loan  \\\n",
       "0                   1           0       0           0              0   \n",
       "1                   0           0       0           1              0   \n",
       "2                   0           0       1           0              0   \n",
       "3                   0           0       0           1              0   \n",
       "4                   0           0       1           0              0   \n",
       "\n",
       "  _automl_split_col_0000  \n",
       "0                  train  \n",
       "1                  train  \n",
       "2                  train  \n",
       "3                  train  \n",
       "4                  train  "
      ]
     },
     "execution_count": 3,
     "metadata": {},
     "output_type": "execute_result"
    }
   ],
   "source": [
    "import mlflow\n",
    "import os\n",
    "import uuid\n",
    "import shutil\n",
    "import pandas as pd\n",
    "\n",
    "# Create temp directory to download input data from MLflow\n",
    "input_temp_dir = os.path.join(os.environ[\"SPARK_LOCAL_DIRS\"], \"tmp\", str(uuid.uuid4())[:8])\n",
    "os.makedirs(input_temp_dir)\n",
    "\n",
    "\n",
    "# Download the artifact and read it into a pandas DataFrame\n",
    "input_data_path = mlflow.artifacts.download_artifacts(run_id=\"f7a3765e40694d9b83183c1586e715d3\", artifact_path=\"data\", dst_path=input_temp_dir)\n",
    "\n",
    "df_loaded = pd.read_parquet(os.path.join(input_data_path, \"training_data\"))\n",
    "# Delete the temp data\n",
    "shutil.rmtree(input_temp_dir)\n",
    "\n",
    "# Preview data\n",
    "df_loaded.head(5)"
   ]
  },
  {
   "cell_type": "markdown",
   "metadata": {
    "application/vnd.databricks.v1+cell": {
     "cellMetadata": {},
     "inputWidgets": {},
     "nuid": "0f834220-0ff0-4e16-ae7a-256f1ced6d7d",
     "showTitle": false,
     "tableResultSettingsMap": {},
     "title": ""
    }
   },
   "source": [
    "### Select supported columns\n",
    "Select only the columns that are supported. This allows us to train a model that can predict on a dataset that has extra columns that are not used in training.\n",
    "`[]` are dropped in the pipelines. See the Alerts tab of the AutoML Experiment page for details on why these columns are dropped."
   ]
  },
  {
   "cell_type": "code",
   "execution_count": 0,
   "metadata": {
    "application/vnd.databricks.v1+cell": {
     "cellMetadata": {},
     "inputWidgets": {},
     "nuid": "670a0dca-7c54-4f17-9be6-98ea9f32fbf0",
     "showTitle": false,
     "tableResultSettingsMap": {},
     "title": ""
    },
    "execution": {
     "iopub.execute_input": "2024-12-23T02:06:39.631990Z",
     "iopub.status.busy": "2024-12-23T02:06:39.631278Z",
     "iopub.status.idle": "2024-12-23T02:06:40.522725Z",
     "shell.execute_reply": "2024-12-23T02:06:40.521506Z"
    }
   },
   "outputs": [],
   "source": [
    "from databricks.automl_runtime.sklearn.column_selector import ColumnSelector\n",
    "supported_cols = [\"Education\", \"Age\", \"Online\", \"Family\", \"Income\", \"Securities_Account\", \"Experience\", \"CreditCard\", \"CCAvg\", \"Mortgage\", \"CD_Account\"]\n",
    "col_selector = ColumnSelector(supported_cols)"
   ]
  },
  {
   "cell_type": "markdown",
   "metadata": {
    "application/vnd.databricks.v1+cell": {
     "cellMetadata": {},
     "inputWidgets": {},
     "nuid": "0e13107f-980f-4fac-bf73-72485787c045",
     "showTitle": false,
     "tableResultSettingsMap": {},
     "title": ""
    }
   },
   "source": [
    "## Preprocessors"
   ]
  },
  {
   "cell_type": "markdown",
   "metadata": {
    "application/vnd.databricks.v1+cell": {
     "cellMetadata": {},
     "inputWidgets": {},
     "nuid": "a6336e8a-238e-4837-8b30-444dae6b6040",
     "showTitle": false,
     "tableResultSettingsMap": {},
     "title": ""
    }
   },
   "source": [
    "### Boolean columns\n",
    "For each column, impute missing values and then convert into ones and zeros."
   ]
  },
  {
   "cell_type": "code",
   "execution_count": 0,
   "metadata": {
    "application/vnd.databricks.v1+cell": {
     "cellMetadata": {},
     "inputWidgets": {},
     "nuid": "051da47c-5d2d-4421-99a1-ec0102d4f939",
     "showTitle": false,
     "tableResultSettingsMap": {},
     "title": ""
    },
    "execution": {
     "iopub.execute_input": "2024-12-23T02:06:40.529886Z",
     "iopub.status.busy": "2024-12-23T02:06:40.528323Z",
     "iopub.status.idle": "2024-12-23T02:06:40.544083Z",
     "shell.execute_reply": "2024-12-23T02:06:40.542786Z"
    }
   },
   "outputs": [],
   "source": [
    "from sklearn.compose import ColumnTransformer\n",
    "from sklearn.impute import SimpleImputer\n",
    "from sklearn.pipeline import Pipeline\n",
    "from sklearn.preprocessing import FunctionTransformer\n",
    "from sklearn.preprocessing import OneHotEncoder as SklearnOneHotEncoder\n",
    "\n",
    "\n",
    "bool_imputers = []\n",
    "\n",
    "bool_pipeline = Pipeline(steps=[\n",
    "    (\"cast_type\", FunctionTransformer(lambda df: df.astype(object))),\n",
    "    (\"imputers\", ColumnTransformer(bool_imputers, remainder=\"passthrough\")),\n",
    "    (\"onehot\", SklearnOneHotEncoder(handle_unknown=\"ignore\", drop=\"first\")),\n",
    "])\n",
    "\n",
    "bool_transformers = [(\"boolean\", bool_pipeline, [\"Securities_Account\", \"CreditCard\", \"CD_Account\", \"Online\"])]"
   ]
  },
  {
   "cell_type": "markdown",
   "metadata": {
    "application/vnd.databricks.v1+cell": {
     "cellMetadata": {},
     "inputWidgets": {},
     "nuid": "f4c5ff04-1125-4ac1-bcb5-4f45a5390306",
     "showTitle": false,
     "tableResultSettingsMap": {},
     "title": ""
    }
   },
   "source": [
    "### Numerical columns\n",
    "\n",
    "Missing values for numerical columns are imputed with mean by default."
   ]
  },
  {
   "cell_type": "code",
   "execution_count": 0,
   "metadata": {
    "application/vnd.databricks.v1+cell": {
     "cellMetadata": {},
     "inputWidgets": {},
     "nuid": "69a80db4-8d66-4318-8eb0-64168d248965",
     "showTitle": false,
     "tableResultSettingsMap": {},
     "title": ""
    },
    "execution": {
     "iopub.execute_input": "2024-12-23T02:06:40.550292Z",
     "iopub.status.busy": "2024-12-23T02:06:40.549674Z",
     "iopub.status.idle": "2024-12-23T02:06:40.565765Z",
     "shell.execute_reply": "2024-12-23T02:06:40.564574Z"
    }
   },
   "outputs": [],
   "source": [
    "from sklearn.compose import ColumnTransformer\n",
    "from sklearn.impute import SimpleImputer\n",
    "from sklearn.pipeline import Pipeline\n",
    "from sklearn.preprocessing import FunctionTransformer, StandardScaler\n",
    "\n",
    "num_imputers = []\n",
    "num_imputers.append((\"impute_mean\", SimpleImputer(), [\"Age\", \"CCAvg\", \"CD_Account\", \"CreditCard\", \"Education\", \"Experience\", \"Family\", \"Income\", \"Mortgage\", \"Online\", \"Securities_Account\"]))\n",
    "\n",
    "numerical_pipeline = Pipeline(steps=[\n",
    "    (\"converter\", FunctionTransformer(lambda df: df.apply(pd.to_numeric, errors='coerce'))),\n",
    "    (\"imputers\", ColumnTransformer(num_imputers)),\n",
    "    (\"standardizer\", StandardScaler()),\n",
    "])\n",
    "\n",
    "numerical_transformers = [(\"numerical\", numerical_pipeline, [\"Education\", \"Age\", \"Online\", \"Family\", \"Income\", \"Experience\", \"CCAvg\", \"Mortgage\", \"Securities_Account\", \"CreditCard\", \"CD_Account\"])]"
   ]
  },
  {
   "cell_type": "markdown",
   "metadata": {
    "application/vnd.databricks.v1+cell": {
     "cellMetadata": {},
     "inputWidgets": {},
     "nuid": "6f6f4bcc-8e8e-4bbe-b069-52b31e8221df",
     "showTitle": false,
     "tableResultSettingsMap": {},
     "title": ""
    }
   },
   "source": [
    "### Categorical columns"
   ]
  },
  {
   "cell_type": "markdown",
   "metadata": {
    "application/vnd.databricks.v1+cell": {
     "cellMetadata": {},
     "inputWidgets": {},
     "nuid": "5116866d-330d-478d-aaaa-019677ff9f2b",
     "showTitle": false,
     "tableResultSettingsMap": {},
     "title": ""
    }
   },
   "source": [
    "#### Low-cardinality categoricals\n",
    "Convert each low-cardinality categorical column into multiple binary columns through one-hot encoding.\n",
    "For each input categorical column (string or numeric), the number of output columns is equal to the number of unique values in the input column."
   ]
  },
  {
   "cell_type": "code",
   "execution_count": 0,
   "metadata": {
    "application/vnd.databricks.v1+cell": {
     "cellMetadata": {},
     "inputWidgets": {},
     "nuid": "2200f32f-a411-43ab-a77a-95a234eceb72",
     "showTitle": false,
     "tableResultSettingsMap": {},
     "title": ""
    },
    "execution": {
     "iopub.execute_input": "2024-12-23T02:06:40.571823Z",
     "iopub.status.busy": "2024-12-23T02:06:40.571189Z",
     "iopub.status.idle": "2024-12-23T02:06:40.583403Z",
     "shell.execute_reply": "2024-12-23T02:06:40.582191Z"
    }
   },
   "outputs": [],
   "source": [
    "from databricks.automl_runtime.sklearn import OneHotEncoder\n",
    "from sklearn.compose import ColumnTransformer\n",
    "from sklearn.impute import SimpleImputer\n",
    "from sklearn.pipeline import Pipeline\n",
    "\n",
    "one_hot_imputers = []\n",
    "\n",
    "one_hot_pipeline = Pipeline(steps=[\n",
    "    (\"imputers\", ColumnTransformer(one_hot_imputers, remainder=\"passthrough\")),\n",
    "    (\"one_hot_encoder\", OneHotEncoder(handle_unknown=\"indicator\")),\n",
    "])\n",
    "\n",
    "categorical_one_hot_transformers = [(\"onehot\", one_hot_pipeline, [\"Education\", \"Family\"])]"
   ]
  },
  {
   "cell_type": "code",
   "execution_count": 0,
   "metadata": {
    "application/vnd.databricks.v1+cell": {
     "cellMetadata": {},
     "inputWidgets": {},
     "nuid": "81b0f8f0-1c23-4bfc-81db-4251197add19",
     "showTitle": false,
     "tableResultSettingsMap": {},
     "title": ""
    },
    "execution": {
     "iopub.execute_input": "2024-12-23T02:06:40.589410Z",
     "iopub.status.busy": "2024-12-23T02:06:40.588801Z",
     "iopub.status.idle": "2024-12-23T02:06:40.596449Z",
     "shell.execute_reply": "2024-12-23T02:06:40.595279Z"
    }
   },
   "outputs": [],
   "source": [
    "from sklearn.compose import ColumnTransformer\n",
    "\n",
    "transformers = bool_transformers + numerical_transformers + categorical_one_hot_transformers\n",
    "\n",
    "preprocessor = ColumnTransformer(transformers, remainder=\"passthrough\", sparse_threshold=0)"
   ]
  },
  {
   "cell_type": "markdown",
   "metadata": {
    "application/vnd.databricks.v1+cell": {
     "cellMetadata": {},
     "inputWidgets": {},
     "nuid": "c0546011-93d0-4cff-bc79-ce9973fb9cd7",
     "showTitle": false,
     "tableResultSettingsMap": {},
     "title": ""
    }
   },
   "source": [
    "## Train - Validation - Test Split\n",
    "The input data is split by AutoML into 3 sets:\n",
    "- Train (60% of the dataset used to train the model)\n",
    "- Validation (20% of the dataset used to tune the hyperparameters of the model)\n",
    "- Test (20% of the dataset used to report the true performance of the model on an unseen dataset)\n",
    "\n",
    "`_automl_split_col_0000` contains the information of which set a given row belongs to.\n",
    "We use this column to split the dataset into the above 3 sets. \n",
    "The column should not be used for training so it is dropped after split is done."
   ]
  },
  {
   "cell_type": "code",
   "execution_count": 0,
   "metadata": {
    "application/vnd.databricks.v1+cell": {
     "cellMetadata": {},
     "inputWidgets": {},
     "nuid": "35267c83-948d-4d5a-9642-59bbd3958de2",
     "showTitle": false,
     "tableResultSettingsMap": {},
     "title": ""
    },
    "execution": {
     "iopub.execute_input": "2024-12-23T02:06:40.602638Z",
     "iopub.status.busy": "2024-12-23T02:06:40.602027Z",
     "iopub.status.idle": "2024-12-23T02:06:40.630353Z",
     "shell.execute_reply": "2024-12-23T02:06:40.629122Z"
    }
   },
   "outputs": [],
   "source": [
    "# AutoML completed train - validation - test split internally and used _automl_split_col_0000 to specify the set\n",
    "split_train_df = df_loaded.loc[df_loaded._automl_split_col_0000 == \"train\"]\n",
    "split_val_df = df_loaded.loc[df_loaded._automl_split_col_0000 == \"val\"]\n",
    "split_test_df = df_loaded.loc[df_loaded._automl_split_col_0000 == \"test\"]\n",
    "\n",
    "# Separate target column from features and drop _automl_split_col_0000\n",
    "X_train = split_train_df.drop([target_col, \"_automl_split_col_0000\"], axis=1)\n",
    "y_train = split_train_df[target_col]\n",
    "\n",
    "X_val = split_val_df.drop([target_col, \"_automl_split_col_0000\"], axis=1)\n",
    "y_val = split_val_df[target_col]\n",
    "\n",
    "X_test = split_test_df.drop([target_col, \"_automl_split_col_0000\"], axis=1)\n",
    "y_test = split_test_df[target_col]"
   ]
  },
  {
   "cell_type": "markdown",
   "metadata": {
    "application/vnd.databricks.v1+cell": {
     "cellMetadata": {},
     "inputWidgets": {},
     "nuid": "fe673e6b-1db7-406c-8525-fbc3953e544c",
     "showTitle": false,
     "tableResultSettingsMap": {},
     "title": ""
    }
   },
   "source": [
    "## Train classification model\n",
    "- Log relevant metrics to MLflow to track runs\n",
    "- All the runs are logged under [this MLflow experiment](#mlflow/experiments/1648172618108006)\n",
    "- Change the model parameters and re-run the training cell to log a different trial to the MLflow experiment\n",
    "- To view the full list of tunable hyperparameters, check the output of the cell below"
   ]
  },
  {
   "cell_type": "code",
   "execution_count": 0,
   "metadata": {
    "application/vnd.databricks.v1+cell": {
     "cellMetadata": {},
     "inputWidgets": {},
     "nuid": "55ff2360-7175-45e6-ae5b-b3e19b3c2683",
     "showTitle": false,
     "tableResultSettingsMap": {},
     "title": ""
    },
    "execution": {
     "iopub.execute_input": "2024-12-23T02:06:40.636239Z",
     "iopub.status.busy": "2024-12-23T02:06:40.635495Z",
     "iopub.status.idle": "2024-12-23T02:06:40.689121Z",
     "shell.execute_reply": "2024-12-23T02:06:40.687956Z"
    }
   },
   "outputs": [
    {
     "output_type": "stream",
     "name": "stdout",
     "output_type": "stream",
     "text": [
      "Help on class XGBClassifier in module xgboost.sklearn:\n\nclass XGBClassifier(XGBModel, sklearn.base.ClassifierMixin)\n |  XGBClassifier(*, objective: Union[str, Callable[[numpy.ndarray, numpy.ndarray], Tuple[numpy.ndarray, numpy.ndarray]], NoneType] = 'binary:logistic', use_label_encoder: Optional[bool] = None, **kwargs: Any) -> None\n |  \n |  Implementation of the scikit-learn API for XGBoost classification.\n |  \n |  \n |  Parameters\n |  ----------\n |  \n |      n_estimators : int\n |          Number of boosting rounds.\n |  \n |      max_depth :  Optional[int]\n |          Maximum tree depth for base learners.\n |      max_leaves :\n |          Maximum number of leaves; 0 indicates no limit.\n |      max_bin :\n |          If using histogram-based algorithm, maximum number of bins per feature\n |      grow_policy :\n |          Tree growing policy. 0: favor splitting at nodes closest to the node, i.e. grow\n |          depth-wise. 1: favor splitting at nodes with highest loss change.\n |      learning_rate : Optional[float]\n |          Boosting learning rate (xgb's \"eta\")\n |      verbosity : Optional[int]\n |          The degree of verbosity. Valid values are 0 (silent) - 3 (debug).\n |      objective : typing.Union[str, typing.Callable[[numpy.ndarray, numpy.ndarray], typing.Tuple[numpy.ndarray, numpy.ndarray]], NoneType]\n |          Specify the learning task and the corresponding learning objective or\n |          a custom objective function to be used (see note below).\n |      booster: Optional[str]\n |          Specify which booster to use: gbtree, gblinear or dart.\n |      tree_method: Optional[str]\n |          Specify which tree method to use.  Default to auto.  If this parameter is set to\n |          default, XGBoost will choose the most conservative option available.  It's\n |          recommended to study this option from the parameters document :doc:`tree method\n |          </treemethod>`\n |      n_jobs : Optional[int]\n |          Number of parallel threads used to run xgboost.  When used with other\n |          Scikit-Learn algorithms like grid search, you may choose which algorithm to\n |          parallelize and balance the threads.  Creating thread contention will\n |          significantly slow down both algorithms.\n |      gamma : Optional[float]\n |          (min_split_loss) Minimum loss reduction required to make a further partition on a\n |          leaf node of the tree.\n |      min_child_weight : Optional[float]\n |          Minimum sum of instance weight(hessian) needed in a child.\n |      max_delta_step : Optional[float]\n |          Maximum delta step we allow each tree's weight estimation to be.\n |      subsample : Optional[float]\n |          Subsample ratio of the training instance.\n |      sampling_method :\n |          Sampling method. Used only by `gpu_hist` tree method.\n |            - `uniform`: select random training instances uniformly.\n |            - `gradient_based` select random training instances with higher probability when\n |              the gradient and hessian are larger. (cf. CatBoost)\n |      colsample_bytree : Optional[float]\n |          Subsample ratio of columns when constructing each tree.\n |      colsample_bylevel : Optional[float]\n |          Subsample ratio of columns for each level.\n |      colsample_bynode : Optional[float]\n |          Subsample ratio of columns for each split.\n |      reg_alpha : Optional[float]\n |          L1 regularization term on weights (xgb's alpha).\n |      reg_lambda : Optional[float]\n |          L2 regularization term on weights (xgb's lambda).\n |      scale_pos_weight : Optional[float]\n |          Balancing of positive and negative weights.\n |      base_score : Optional[float]\n |          The initial prediction score of all instances, global bias.\n |      random_state : Optional[Union[numpy.random.RandomState, int]]\n |          Random number seed.\n |  \n |          .. note::\n |  \n |             Using gblinear booster with shotgun updater is nondeterministic as\n |             it uses Hogwild algorithm.\n |  \n |      missing : float, default np.nan\n |          Value in the data which needs to be present as a missing value.\n |      num_parallel_tree: Optional[int]\n |          Used for boosting random forest.\n |      monotone_constraints : Optional[Union[Dict[str, int], str]]\n |          Constraint of variable monotonicity.  See :doc:`tutorial </tutorials/monotonic>`\n |          for more information.\n |      interaction_constraints : Optional[Union[str, List[Tuple[str]]]]\n |          Constraints for interaction representing permitted interactions.  The\n |          constraints must be specified in the form of a nested list, e.g. ``[[0, 1], [2,\n |          3, 4]]``, where each inner list is a group of indices of features that are\n |          allowed to interact with each other.  See :doc:`tutorial\n |          </tutorials/feature_interaction_constraint>` for more information\n |      importance_type: Optional[str]\n |          The feature importance type for the feature_importances\\_ property:\n |  \n |          * For tree model, it's either \"gain\", \"weight\", \"cover\", \"total_gain\" or\n |            \"total_cover\".\n |          * For linear model, only \"weight\" is defined and it's the normalized coefficients\n |            without bias.\n |  \n |      gpu_id : Optional[int]\n |          Device ordinal.\n |      validate_parameters : Optional[bool]\n |          Give warnings for unknown parameter.\n |      predictor : Optional[str]\n |          Force XGBoost to use specific predictor, available choices are [cpu_predictor,\n |          gpu_predictor].\n |      enable_categorical : bool\n |  \n |          .. versionadded:: 1.5.0\n |  \n |          .. note:: This parameter is experimental\n |  \n |          Experimental support for categorical data.  When enabled, cudf/pandas.DataFrame\n |          should be used to specify categorical data type.  Also, JSON/UBJSON\n |          serialization format is required.\n |  \n |      feature_types : FeatureTypes\n |  \n |          .. versionadded:: 1.7.0\n |  \n |          Used for specifying feature types without constructing a dataframe. See\n |          :py:class:`DMatrix` for details.\n |  \n |      max_cat_to_onehot : Optional[int]\n |  \n |          .. versionadded:: 1.6.0\n |  \n |          .. note:: This parameter is experimental\n |  \n |          A threshold for deciding whether XGBoost should use one-hot encoding based split\n |          for categorical data.  When number of categories is lesser than the threshold\n |          then one-hot encoding is chosen, otherwise the categories will be partitioned\n |          into children nodes. Also, `enable_categorical` needs to be set to have\n |          categorical feature support. See :doc:`Categorical Data\n |          </tutorials/categorical>` and :ref:`cat-param` for details.\n |  \n |      max_cat_threshold : Optional[int]\n |  \n |          .. versionadded:: 1.7.0\n |  \n |          .. note:: This parameter is experimental\n |  \n |          Maximum number of categories considered for each split. Used only by\n |          partition-based splits for preventing over-fitting. Also, `enable_categorical`\n |          needs to be set to have categorical feature support. See :doc:`Categorical Data\n |          </tutorials/categorical>` and :ref:`cat-param` for details.\n |  \n |      eval_metric : Optional[Union[str, List[str], Callable]]\n |  \n |          .. versionadded:: 1.6.0\n |  \n |          Metric used for monitoring the training result and early stopping.  It can be a\n |          string or list of strings as names of predefined metric in XGBoost (See\n |          doc/parameter.rst), one of the metrics in :py:mod:`sklearn.metrics`, or any other\n |          user defined metric that looks like `sklearn.metrics`.\n |  \n |          If custom objective is also provided, then custom metric should implement the\n |          corresponding reverse link function.\n |  \n |          Unlike the `scoring` parameter commonly used in scikit-learn, when a callable\n |          object is provided, it's assumed to be a cost function and by default XGBoost will\n |          minimize the result during early stopping.\n |  \n |          For advanced usage on Early stopping like directly choosing to maximize instead of\n |          minimize, see :py:obj:`xgboost.callback.EarlyStopping`.\n |  \n |          See :doc:`Custom Objective and Evaluation Metric </tutorials/custom_metric_obj>`\n |          for more.\n |  \n |          .. note::\n |  \n |               This parameter replaces `eval_metric` in :py:meth:`fit` method.  The old one\n |               receives un-transformed prediction regardless of whether custom objective is\n |               being used.\n |  \n |          .. code-block:: python\n |  \n |              from sklearn.datasets import load_diabetes\n |              from sklearn.metrics import mean_absolute_error\n |              X, y = load_diabetes(return_X_y=True)\n |              reg = xgb.XGBRegressor(\n |                  tree_method=\"hist\",\n |                  eval_metric=mean_absolute_error,\n |              )\n |              reg.fit(X, y, eval_set=[(X, y)])\n |  \n |      early_stopping_rounds : Optional[int]\n |  \n |          .. versionadded:: 1.6.0\n |  \n |          Activates early stopping. Validation metric needs to improve at least once in\n |          every **early_stopping_rounds** round(s) to continue training.  Requires at least\n |          one item in **eval_set** in :py:meth:`fit`.\n |  \n |          The method returns the model from the last iteration (not the best one).  If\n |          there's more than one item in **eval_set**, the last entry will be used for early\n |          stopping.  If there's more than one metric in **eval_metric**, the last metric\n |          will be used for early stopping.\n |  \n |          If early stopping occurs, the model will have three additional fields:\n |          :py:attr:`best_score`, :py:attr:`best_iteration` and\n |          :py:attr:`best_ntree_limit`.\n |  \n |          .. note::\n |  \n |              This parameter replaces `early_stopping_rounds` in :py:meth:`fit` method.\n |  \n |      callbacks : Optional[List[TrainingCallback]]\n |          List of callback functions that are applied at end of each iteration.\n |          It is possible to use predefined callbacks by using\n |          :ref:`Callback API <callback_api>`.\n |  \n |          .. note::\n |  \n |             States in callback are not preserved during training, which means callback\n |             objects can not be reused for multiple training sessions without\n |             reinitialization or deepcopy.\n |  \n |          .. code-block:: python\n |  \n |              for params in parameters_grid:\n |                  # be sure to (re)initialize the callbacks before each run\n |                  callbacks = [xgb.callback.LearningRateScheduler(custom_rates)]\n |                  xgboost.train(params, Xy, callbacks=callbacks)\n |  \n |      kwargs : dict, optional\n |          Keyword arguments for XGBoost Booster object.  Full documentation of parameters\n |          can be found :doc:`here </parameter>`.\n |          Attempting to set a parameter via the constructor args and \\*\\*kwargs\n |          dict simultaneously will result in a TypeError.\n |  \n |          .. note:: \\*\\*kwargs unsupported by scikit-learn\n |  \n |              \\*\\*kwargs is unsupported by scikit-learn.  We do not guarantee\n |              that parameters passed via this argument will interact properly\n |              with scikit-learn.\n |  \n |          .. note::  Custom objective function\n |  \n |              A custom objective function can be provided for the ``objective``\n |              parameter. In this case, it should have the signature\n |              ``objective(y_true, y_pred) -> grad, hess``:\n |  \n |              y_true: array_like of shape [n_samples]\n |                  The target values\n |              y_pred: array_like of shape [n_samples]\n |                  The predicted values\n |  \n |              grad: array_like of shape [n_samples]\n |                  The value of the gradient for each sample point.\n |              hess: array_like of shape [n_samples]\n |                  The value of the second derivative for each sample point\n |  \n |  Method resolution order:\n |      XGBClassifier\n |      XGBModel\n |      sklearn.base.BaseEstimator\n |      sklearn.base.ClassifierMixin\n |      builtins.object\n |  \n |  Methods defined here:\n |  \n |  __init__(self, *, objective: Union[str, Callable[[numpy.ndarray, numpy.ndarray], Tuple[numpy.ndarray, numpy.ndarray]], NoneType] = 'binary:logistic', use_label_encoder: Optional[bool] = None, **kwargs: Any) -> None\n |      Initialize self.  See help(type(self)) for accurate signature.\n |  \n |  fit(self, X: Any, y: Any, *, sample_weight: Optional[Any] = None, base_margin: Optional[Any] = None, eval_set: Optional[Sequence[Tuple[Any, Any]]] = None, eval_metric: Union[str, Sequence[str], Callable[[numpy.ndarray, xgboost.core.DMatrix], Tuple[str, float]], NoneType] = None, early_stopping_rounds: Optional[int] = None, verbose: Union[bool, int, NoneType] = True, xgb_model: Union[xgboost.core.Booster, str, xgboost.sklearn.XGBModel, NoneType] = None, sample_weight_eval_set: Optional[Sequence[Any]] = None, base_margin_eval_set: Optional[Sequence[Any]] = None, feature_weights: Optional[Any] = None, callbacks: Optional[Sequence[xgboost.callback.TrainingCallback]] = None) -> 'XGBClassifier'\n |      Fit gradient boosting classifier.\n |      \n |      Note that calling ``fit()`` multiple times will cause the model object to be\n |      re-fit from scratch. To resume training from a previous checkpoint, explicitly\n |      pass ``xgb_model`` argument.\n |      \n |      Parameters\n |      ----------\n |      X :\n |          Feature matrix\n |      y :\n |          Labels\n |      sample_weight :\n |          instance weights\n |      base_margin :\n |          global bias for each instance.\n |      eval_set :\n |          A list of (X, y) tuple pairs to use as validation sets, for which\n |          metrics will be computed.\n |          Validation metrics will help us track the performance of the model.\n |      \n |      eval_metric : str, list of str, or callable, optional\n |          .. deprecated:: 1.6.0\n |              Use `eval_metric` in :py:meth:`__init__` or :py:meth:`set_params` instead.\n |      \n |      early_stopping_rounds : int\n |          .. deprecated:: 1.6.0\n |              Use `early_stopping_rounds` in :py:meth:`__init__` or\n |              :py:meth:`set_params` instead.\n |      verbose :\n |          If `verbose` is True and an evaluation set is used, the evaluation metric\n |          measured on the validation set is printed to stdout at each boosting stage.\n |          If `verbose` is an integer, the evaluation metric is printed at each `verbose`\n |          boosting stage. The last boosting stage / the boosting stage found by using\n |          `early_stopping_rounds` is also printed.\n |      xgb_model :\n |          file name of stored XGBoost model or 'Booster' instance XGBoost model to be\n |          loaded before training (allows training continuation).\n |      sample_weight_eval_set :\n |          A list of the form [L_1, L_2, ..., L_n], where each L_i is an array like\n |          object storing instance weights for the i-th validation set.\n |      base_margin_eval_set :\n |          A list of the form [M_1, M_2, ..., M_n], where each M_i is an array like\n |          object storing base margin for the i-th validation set.\n |      feature_weights :\n |          Weight for each feature, defines the probability of each feature being\n |          selected when colsample is being used.  All values must be greater than 0,\n |          otherwise a `ValueError` is thrown.\n |      \n |      callbacks :\n |          .. deprecated:: 1.6.0\n |              Use `callbacks` in :py:meth:`__init__` or :py:meth:`set_params` instead.\n |  \n |  predict(self, X: Any, output_margin: bool = False, ntree_limit: Optional[int] = None, validate_features: bool = True, base_margin: Optional[Any] = None, iteration_range: Optional[Tuple[int, int]] = None) -> numpy.ndarray\n |      Predict with `X`.  If the model is trained with early stopping, then `best_iteration`\n |      is used automatically.  For tree models, when data is on GPU, like cupy array or\n |      cuDF dataframe and `predictor` is not specified, the prediction is run on GPU\n |      automatically, otherwise it will run on CPU.\n |      \n |      .. note:: This function is only thread safe for `gbtree` and `dart`.\n |      \n |      Parameters\n |      ----------\n |      X :\n |          Data to predict with.\n |      output_margin :\n |          Whether to output the raw untransformed margin value.\n |      ntree_limit :\n |          Deprecated, use `iteration_range` instead.\n |      validate_features :\n |          When this is True, validate that the Booster's and data's feature_names are\n |          identical.  Otherwise, it is assumed that the feature_names are the same.\n |      base_margin :\n |          Margin added to prediction.\n |      iteration_range :\n |          Specifies which layer of trees are used in prediction.  For example, if a\n |          random forest is trained with 100 rounds.  Specifying ``iteration_range=(10,\n |          20)``, then only the forests built during [10, 20) (half open set) rounds\n |          are used in this prediction.\n |      \n |          .. versionadded:: 1.4.0\n |      \n |      Returns\n |      -------\n |      prediction\n |  \n |  predict_proba(self, X: Any, ntree_limit: Optional[int] = None, validate_features: bool = True, base_margin: Optional[Any] = None, iteration_range: Optional[Tuple[int, int]] = None) -> numpy.ndarray\n |      Predict the probability of each `X` example being of a given class.\n |      \n |      .. note:: This function is only thread safe for `gbtree` and `dart`.\n |      \n |      Parameters\n |      ----------\n |      X : array_like\n |          Feature matrix.\n |      ntree_limit : int\n |          Deprecated, use `iteration_range` instead.\n |      validate_features : bool\n |          When this is True, validate that the Booster's and data's feature_names are\n |          identical.  Otherwise, it is assumed that the feature_names are the same.\n |      base_margin : array_like\n |          Margin added to prediction.\n |      iteration_range :\n |          Specifies which layer of trees are used in prediction.  For example, if a\n |          random forest is trained with 100 rounds.  Specifying `iteration_range=(10,\n |          20)`, then only the forests built during [10, 20) (half open set) rounds are\n |          used in this prediction.\n |      \n |      Returns\n |      -------\n |      prediction :\n |          a numpy array of shape array-like of shape (n_samples, n_classes) with the\n |          probability of each data example being of a given class.\n |  \n |  ----------------------------------------------------------------------\n |  Methods inherited from XGBModel:\n |  \n |  __sklearn_is_fitted__(self) -> bool\n |  \n |  apply(self, X: Any, ntree_limit: int = 0, iteration_range: Optional[Tuple[int, int]] = None) -> numpy.ndarray\n |      Return the predicted leaf every tree for each sample. If the model is trained with\n |      early stopping, then `best_iteration` is used automatically.\n |      \n |      Parameters\n |      ----------\n |      X : array_like, shape=[n_samples, n_features]\n |          Input features matrix.\n |      \n |      iteration_range :\n |          See :py:meth:`predict`.\n |      \n |      ntree_limit :\n |          Deprecated, use ``iteration_range`` instead.\n |      \n |      Returns\n |      -------\n |      X_leaves : array_like, shape=[n_samples, n_trees]\n |          For each datapoint x in X and for each tree, return the index of the\n |          leaf x ends up in. Leaves are numbered within\n |          ``[0; 2**(self.max_depth+1))``, possibly with gaps in the numbering.\n |  \n |  evals_result(self) -> Dict[str, Dict[str, List[float]]]\n |      Return the evaluation results.\n |      \n |      If **eval_set** is passed to the :py:meth:`fit` function, you can call\n |      ``evals_result()`` to get evaluation results for all passed **eval_sets**.  When\n |      **eval_metric** is also passed to the :py:meth:`fit` function, the\n |      **evals_result** will contain the **eval_metrics** passed to the :py:meth:`fit`\n |      function.\n |      \n |      The returned evaluation result is a dictionary:\n |      \n |      .. code-block:: python\n |      \n |          {'validation_0': {'logloss': ['0.604835', '0.531479']},\n |           'validation_1': {'logloss': ['0.41965', '0.17686']}}\n |      \n |      Returns\n |      -------\n |      evals_result\n |  \n |  get_booster(self) -> xgboost.core.Booster\n |      Get the underlying xgboost Booster of this model.\n |      \n |      This will raise an exception when fit was not called\n |      \n |      Returns\n |      -------\n |      booster : a xgboost booster of underlying model\n |  \n |  get_num_boosting_rounds(self) -> int\n |      Gets the number of xgboost boosting rounds.\n |  \n |  get_params(self, deep: bool = True) -> Dict[str, Any]\n |      Get parameters.\n |  \n |  get_xgb_params(self) -> Dict[str, Any]\n |      Get xgboost specific parameters.\n |  \n |  load_model(self, fname: Union[str, bytearray, os.PathLike]) -> None\n |      Load the model from a file or bytearray. Path to file can be local\n |      or as an URI.\n |      \n |      The model is loaded from XGBoost format which is universal among the various\n |      XGBoost interfaces. Auxiliary attributes of the Python Booster object (such as\n |      feature_names) will not be loaded when using binary format.  To save those\n |      attributes, use JSON/UBJ instead.  See :doc:`Model IO </tutorials/saving_model>`\n |      for more info.\n |      \n |      .. code-block:: python\n |      \n |        model.load_model(\"model.json\")\n |        # or\n |        model.load_model(\"model.ubj\")\n |      \n |      Parameters\n |      ----------\n |      fname :\n |          Input file name or memory buffer(see also save_raw)\n |  \n |  save_model(self, fname: Union[str, os.PathLike]) -> None\n |      Save the model to a file.\n |      \n |      The model is saved in an XGBoost internal format which is universal among the\n |      various XGBoost interfaces. Auxiliary attributes of the Python Booster object\n |      (such as feature_names) will not be saved when using binary format.  To save\n |      those attributes, use JSON/UBJ instead. See :doc:`Model IO\n |      </tutorials/saving_model>` for more info.\n |      \n |      .. code-block:: python\n |      \n |        model.save_model(\"model.json\")\n |        # or\n |        model.save_model(\"model.ubj\")\n |      \n |      Parameters\n |      ----------\n |      fname : string or os.PathLike\n |          Output file name\n |  \n |  set_params(self, **params: Any) -> 'XGBModel'\n |      Set the parameters of this estimator.  Modification of the sklearn method to\n |      allow unknown kwargs. This allows using the full range of xgboost\n |      parameters that are not defined as member variables in sklearn grid\n |      search.\n |      \n |      Returns\n |      -------\n |      self\n |  \n |  ----------------------------------------------------------------------\n |  Readonly properties inherited from XGBModel:\n |  \n |  best_iteration\n |      The best iteration obtained by early stopping.  This attribute is 0-based,\n |      for instance if the best iteration is the first round, then best_iteration is 0.\n |  \n |  best_ntree_limit\n |  \n |  best_score\n |      The best score obtained by early stopping.\n |  \n |  coef_\n |      Coefficients property\n |      \n |      .. note:: Coefficients are defined only for linear learners\n |      \n |          Coefficients are only defined when the linear model is chosen as\n |          base learner (`booster=gblinear`). It is not defined for other base\n |          learner types, such as tree learners (`booster=gbtree`).\n |      \n |      Returns\n |      -------\n |      coef_ : array of shape ``[n_features]`` or ``[n_classes, n_features]``\n |  \n |  feature_importances_\n |      Feature importances property, return depends on `importance_type`\n |      parameter. When model trained with multi-class/multi-label/multi-target dataset,\n |      the feature importance is \"averaged\" over all targets. The \"average\" is defined\n |      based on the importance type. For instance, if the importance type is\n |      \"total_gain\", then the score is sum of loss change for each split from all\n |      trees.\n |      \n |      Returns\n |      -------\n |      feature_importances_ : array of shape ``[n_features]`` except for multi-class\n |      linear model, which returns an array with shape `(n_features, n_classes)`\n |  \n |  feature_names_in_\n |      Names of features seen during :py:meth:`fit`.  Defined only when `X` has feature\n |      names that are all strings.\n |  \n |  intercept_\n |      Intercept (bias) property\n |      \n |      .. note:: Intercept is defined only for linear learners\n |      \n |          Intercept (bias) is only defined when the linear model is chosen as base\n |          learner (`booster=gblinear`). It is not defined for other base learner types,\n |          such as tree learners (`booster=gbtree`).\n |      \n |      Returns\n |      -------\n |      intercept_ : array of shape ``(1,)`` or ``[n_classes]``\n |  \n |  n_features_in_\n |      Number of features seen during :py:meth:`fit`.\n |  \n |  ----------------------------------------------------------------------\n |  Methods inherited from sklearn.base.BaseEstimator:\n |  \n |  __getstate__(self)\n |  \n |  __repr__(self, N_CHAR_MAX=700)\n |      Return repr(self).\n |  \n |  __setstate__(self, state)\n |  \n |  ----------------------------------------------------------------------\n |  Data descriptors inherited from sklearn.base.BaseEstimator:\n |  \n |  __dict__\n |      dictionary for instance variables (if defined)\n |  \n |  __weakref__\n |      list of weak references to the object (if defined)\n |  \n |  ----------------------------------------------------------------------\n |  Methods inherited from sklearn.base.ClassifierMixin:\n |  \n |  score(self, X, y, sample_weight=None)\n |      Return the mean accuracy on the given test data and labels.\n |      \n |      In multi-label classification, this is the subset accuracy\n |      which is a harsh metric since you require for each sample that\n |      each label set be correctly predicted.\n |      \n |      Parameters\n |      ----------\n |      X : array-like of shape (n_samples, n_features)\n |          Test samples.\n |      \n |      y : array-like of shape (n_samples,) or (n_samples, n_outputs)\n |          True labels for `X`.\n |      \n |      sample_weight : array-like of shape (n_samples,), default=None\n |          Sample weights.\n |      \n |      Returns\n |      -------\n |      score : float\n |          Mean accuracy of ``self.predict(X)`` wrt. `y`.\n\n"
     ]
    }
   ],
   "source": [
    "from xgboost import XGBClassifier\n",
    "\n",
    "help(XGBClassifier)"
   ]
  },
  {
   "cell_type": "markdown",
   "metadata": {
    "application/vnd.databricks.v1+cell": {
     "cellMetadata": {},
     "inputWidgets": {},
     "nuid": "90195f6d-f370-4759-887c-9dff8809acd1",
     "showTitle": false,
     "tableResultSettingsMap": {},
     "title": ""
    }
   },
   "source": [
    "### Define the objective function\n",
    "The objective function used to find optimal hyperparameters. By default, this notebook only runs\n",
    "this function once (`max_evals=1` in the `hyperopt.fmin` invocation) with fixed hyperparameters, but\n",
    "hyperparameters can be tuned by modifying `space`, defined below. `hyperopt.fmin` will then use this\n",
    "function's return value to search the space to minimize the loss."
   ]
  },
  {
   "cell_type": "code",
   "execution_count": 0,
   "metadata": {
    "application/vnd.databricks.v1+cell": {
     "cellMetadata": {},
     "inputWidgets": {},
     "nuid": "8f10cda2-3fce-45db-83df-cb69c8c1d5e8",
     "showTitle": false,
     "tableResultSettingsMap": {},
     "title": ""
    },
    "execution": {
     "iopub.execute_input": "2024-12-23T02:06:40.694865Z",
     "iopub.status.busy": "2024-12-23T02:06:40.694198Z",
     "iopub.status.idle": "2024-12-23T02:06:41.088594Z",
     "shell.execute_reply": "2024-12-23T02:06:41.087374Z"
    }
   },
   "outputs": [
    {
     "output_type": "stream",
     "name": "stdout",
     "output_type": "stream",
     "text": [
      "Warning: No categorical columns found. Calling 'transform' will only return input data.\n"
     ]
    }
   ],
   "source": [
    "import mlflow\n",
    "from mlflow.models import Model, infer_signature, ModelSignature\n",
    "from mlflow.pyfunc import PyFuncModel\n",
    "from mlflow import pyfunc\n",
    "import sklearn\n",
    "from sklearn import set_config\n",
    "from sklearn.pipeline import Pipeline\n",
    "from sklearn.preprocessing import LabelEncoder\n",
    "from databricks.automl_runtime.sklearn import TransformedTargetClassifier\n",
    "\n",
    "from hyperopt import hp, tpe, fmin, STATUS_OK, Trials\n",
    "\n",
    "# Create a separate pipeline to transform the validation dataset. This is used for early stopping.\n",
    "mlflow.sklearn.autolog(disable=True)\n",
    "pipeline_val = Pipeline([\n",
    "    (\"column_selector\", col_selector),\n",
    "    (\"preprocessor\", preprocessor),\n",
    "])\n",
    "pipeline_val.fit(X_train, y_train)\n",
    "X_val_processed = pipeline_val.transform(X_val)\n",
    "label_encoder_val = LabelEncoder()\n",
    "label_encoder_val.fit(y_train)\n",
    "y_val_processed = label_encoder_val.transform(y_val)\n",
    "\n",
    "def objective(params):\n",
    "  with mlflow.start_run(experiment_id=\"1648172618108006\") as mlflow_run:\n",
    "    xgbc_classifier = TransformedTargetClassifier(\n",
    "        classifier=XGBClassifier(**params),\n",
    "        transformer=LabelEncoder()  # XGBClassifier requires the target values to be integers between 0 and n_class-1\n",
    "    )\n",
    "\n",
    "    model = Pipeline([\n",
    "        (\"column_selector\", col_selector),\n",
    "        (\"preprocessor\", preprocessor),\n",
    "        (\"classifier\", xgbc_classifier),\n",
    "    ])\n",
    "\n",
    "    # Enable automatic logging of input samples, metrics, parameters, and models\n",
    "    mlflow.sklearn.autolog(\n",
    "        log_input_examples=True,\n",
    "        silent=True)\n",
    "\n",
    "    model.fit(X_train, y_train, classifier__early_stopping_rounds=5, classifier__verbose=False, classifier__eval_set=[(X_val_processed,y_val_processed)])\n",
    "\n",
    "    \n",
    "    # Log metrics for the training set\n",
    "    mlflow_model = Model()\n",
    "    pyfunc.add_to_model(mlflow_model, loader_module=\"mlflow.sklearn\")\n",
    "    pyfunc_model = PyFuncModel(model_meta=mlflow_model, model_impl=model)\n",
    "    training_eval_result = mlflow.evaluate(\n",
    "        model=pyfunc_model,\n",
    "        data=X_train.assign(**{str(target_col):y_train}),\n",
    "        targets=target_col,\n",
    "        model_type=\"classifier\",\n",
    "        evaluator_config = {\"log_model_explainability\": False,\n",
    "                            \"metric_prefix\": \"training_\" , \"pos_label\": 1 }\n",
    "    )\n",
    "    xgbc_training_metrics = training_eval_result.metrics\n",
    "    # Log metrics for the validation set\n",
    "    val_eval_result = mlflow.evaluate(\n",
    "        model=pyfunc_model,\n",
    "        data=X_val.assign(**{str(target_col):y_val}),\n",
    "        targets=target_col,\n",
    "        model_type=\"classifier\",\n",
    "        evaluator_config = {\"log_model_explainability\": False,\n",
    "                            \"metric_prefix\": \"val_\" , \"pos_label\": 1 }\n",
    "    )\n",
    "    xgbc_val_metrics = val_eval_result.metrics\n",
    "    # Log metrics for the test set\n",
    "    test_eval_result = mlflow.evaluate(\n",
    "        model=pyfunc_model,\n",
    "        data=X_test.assign(**{str(target_col):y_test}),\n",
    "        targets=target_col,\n",
    "        model_type=\"classifier\",\n",
    "        evaluator_config = {\"log_model_explainability\": False,\n",
    "                            \"metric_prefix\": \"test_\" , \"pos_label\": 1 }\n",
    "    )\n",
    "    xgbc_test_metrics = test_eval_result.metrics\n",
    "\n",
    "    loss = -xgbc_val_metrics[\"val_f1_score\"]\n",
    "\n",
    "    # Truncate metric key names so they can be displayed together\n",
    "    xgbc_val_metrics = {k.replace(\"val_\", \"\"): v for k, v in xgbc_val_metrics.items()}\n",
    "    xgbc_test_metrics = {k.replace(\"test_\", \"\"): v for k, v in xgbc_test_metrics.items()}\n",
    "\n",
    "    return {\n",
    "      \"loss\": loss,\n",
    "      \"status\": STATUS_OK,\n",
    "      \"val_metrics\": xgbc_val_metrics,\n",
    "      \"test_metrics\": xgbc_test_metrics,\n",
    "      \"model\": model,\n",
    "      \"run\": mlflow_run,\n",
    "    }"
   ]
  },
  {
   "cell_type": "markdown",
   "metadata": {
    "application/vnd.databricks.v1+cell": {
     "cellMetadata": {},
     "inputWidgets": {},
     "nuid": "c535fbf2-f093-48bb-b484-edb9593a4848",
     "showTitle": false,
     "tableResultSettingsMap": {},
     "title": ""
    }
   },
   "source": [
    "### Configure the hyperparameter search space\n",
    "Configure the search space of parameters. Parameters below are all constant expressions but can be\n",
    "modified to widen the search space. For example, when training a decision tree classifier, to allow\n",
    "the maximum tree depth to be either 2 or 3, set the key of 'max_depth' to\n",
    "`hp.choice('max_depth', [2, 3])`. Be sure to also increase `max_evals` in the `fmin` call below.\n",
    "\n",
    "See https://docs.databricks.com/applications/machine-learning/automl-hyperparam-tuning/index.html\n",
    "for more information on hyperparameter tuning as well as\n",
    "http://hyperopt.github.io/hyperopt/getting-started/search_spaces/ for documentation on supported\n",
    "search expressions.\n",
    "\n",
    "For documentation on parameters used by the model in use, please see:\n",
    "https://xgboost.readthedocs.io/en/stable/python/python_api.html#xgboost.XGBClassifier\n",
    "\n",
    "NOTE: The above URL points to a stable version of the documentation corresponding to the last\n",
    "released version of the package. The documentation may differ slightly for the package version\n",
    "used by this notebook."
   ]
  },
  {
   "cell_type": "code",
   "execution_count": 0,
   "metadata": {
    "application/vnd.databricks.v1+cell": {
     "cellMetadata": {},
     "inputWidgets": {},
     "nuid": "86ae4a08-8d87-41f3-9bf8-85a3f39fdb81",
     "showTitle": false,
     "tableResultSettingsMap": {},
     "title": ""
    },
    "execution": {
     "iopub.execute_input": "2024-12-23T02:06:41.094223Z",
     "iopub.status.busy": "2024-12-23T02:06:41.093557Z",
     "iopub.status.idle": "2024-12-23T02:06:41.102805Z",
     "shell.execute_reply": "2024-12-23T02:06:41.101674Z"
    }
   },
   "outputs": [],
   "source": [
    "space = {\n",
    "  \"colsample_bytree\": 0.4939411694257699,\n",
    "  \"learning_rate\": 0.001035003869476757,\n",
    "  \"max_depth\": 3,\n",
    "  \"min_child_weight\": 12,\n",
    "  \"n_estimators\": 3,\n",
    "  \"n_jobs\": 100,\n",
    "  \"subsample\": 0.4296800385398026,\n",
    "  \"verbosity\": 0,\n",
    "  \"random_state\": 907093067,\n",
    "}"
   ]
  },
  {
   "cell_type": "markdown",
   "metadata": {
    "application/vnd.databricks.v1+cell": {
     "cellMetadata": {},
     "inputWidgets": {},
     "nuid": "00c86ad1-ff60-46e5-8054-a07d18db579a",
     "showTitle": false,
     "tableResultSettingsMap": {},
     "title": ""
    }
   },
   "source": [
    "### Run trials\n",
    "When widening the search space and training multiple models, switch to `SparkTrials` to parallelize\n",
    "training on Spark:\n",
    "```\n",
    "from hyperopt import SparkTrials\n",
    "trials = SparkTrials()\n",
    "```\n",
    "\n",
    "NOTE: While `Trials` starts an MLFlow run for each set of hyperparameters, `SparkTrials` only starts\n",
    "one top-level run; it will start a subrun for each set of hyperparameters.\n",
    "\n",
    "See http://hyperopt.github.io/hyperopt/scaleout/spark/ for more info."
   ]
  },
  {
   "cell_type": "code",
   "execution_count": 0,
   "metadata": {
    "application/vnd.databricks.v1+cell": {
     "cellMetadata": {},
     "inputWidgets": {},
     "nuid": "e38317f6-bcda-468d-b357-461aeb818df0",
     "showTitle": false,
     "tableResultSettingsMap": {},
     "title": ""
    },
    "execution": {
     "iopub.execute_input": "2024-12-23T02:06:41.108801Z",
     "iopub.status.busy": "2024-12-23T02:06:41.108217Z",
     "iopub.status.idle": "2024-12-23T02:07:00.950318Z",
     "shell.execute_reply": "2024-12-23T02:07:00.949566Z"
    }
   },
   "outputs": [
    {
     "output_type": "stream",
     "name": "stdout",
     "output_type": "stream",
     "text": [
      "\r  0%|          | 0/1 [00:00<?, ?trial/s, best loss=?]"
     ]
    },
    {
     "output_type": "stream",
     "name": "stdout",
     "output_type": "stream",
     "text": [
      "\r                                                     "
     ]
    },
    {
     "output_type": "stream",
     "name": "stdout",
     "output_type": "stream",
     "text": [
      "\r"
     ]
    },
    {
     "output_type": "stream",
     "name": "stdout",
     "output_type": "stream",
     "text": [
      "Warning: No categorical columns found. Calling 'transform' will only return input data.\n\r  0%|          | 0/1 [00:01<?, ?trial/s, best loss=?]"
     ]
    },
    {
     "output_type": "stream",
     "name": "stderr",
     "output_type": "stream",
     "text": [
      "/databricks/python/lib/python3.10/site-packages/xgboost/sklearn.py:835: UserWarning: `early_stopping_rounds` in `fit` method is deprecated for better compatibility with scikit-learn, use `early_stopping_rounds` in constructor or`set_params` instead.\n  warnings.warn(\n\n"
     ]
    },
    {
     "output_type": "stream",
     "name": "stderr",
     "output_type": "stream",
     "text": [
      "2024/12/23 02:06:51 INFO mlflow.models.evaluation.base: Evaluating the model with the default evaluator.\n\n"
     ]
    },
    {
     "output_type": "stream",
     "name": "stderr",
     "output_type": "stream",
     "text": [
      "2024/12/23 02:06:51 INFO mlflow.models.evaluation.default_evaluator: The evaluation dataset is inferred as binary dataset, positive label is 1, negative label is 0.\n\n"
     ]
    },
    {
     "output_type": "stream",
     "name": "stderr",
     "output_type": "stream",
     "text": [
      "2024/12/23 02:06:54 INFO mlflow.models.evaluation.base: Evaluating the model with the default evaluator.\n\n"
     ]
    },
    {
     "output_type": "stream",
     "name": "stderr",
     "output_type": "stream",
     "text": [
      "2024/12/23 02:06:54 INFO mlflow.models.evaluation.default_evaluator: The evaluation dataset is inferred as binary dataset, positive label is 1, negative label is 0.\n\n"
     ]
    },
    {
     "output_type": "stream",
     "name": "stderr",
     "output_type": "stream",
     "text": [
      "2024/12/23 02:06:57 INFO mlflow.models.evaluation.base: Evaluating the model with the default evaluator.\n\n"
     ]
    },
    {
     "output_type": "stream",
     "name": "stderr",
     "output_type": "stream",
     "text": [
      "2024/12/23 02:06:57 INFO mlflow.models.evaluation.default_evaluator: The evaluation dataset is inferred as binary dataset, positive label is 1, negative label is 0.\n\n"
     ]
    },
    {
     "output_type": "stream",
     "name": "stdout",
     "output_type": "stream",
     "text": [
      "\r100%|██████████| 1/1 [00:19<00:00, 19.45s/trial, best loss: -0.6131386861313868]"
     ]
    },
    {
     "output_type": "stream",
     "name": "stdout",
     "output_type": "stream",
     "text": [
      "\r100%|██████████| 1/1 [00:19<00:00, 19.45s/trial, best loss: -0.6131386861313868]"
     ]
    },
    {
     "output_type": "stream",
     "name": "stdout",
     "output_type": "stream",
     "text": [
      "\n"
     ]
    },
    {
     "output_type": "display_data",
     "data": {
      "text/html": [
       "<div>\n",
       "<style scoped>\n",
       "    .dataframe tbody tr th:only-of-type {\n",
       "        vertical-align: middle;\n",
       "    }\n",
       "\n",
       "    .dataframe tbody tr th {\n",
       "        vertical-align: top;\n",
       "    }\n",
       "\n",
       "    .dataframe thead th {\n",
       "        text-align: right;\n",
       "    }\n",
       "</style>\n",
       "<table border=\"1\" class=\"dataframe\">\n",
       "  <thead>\n",
       "    <tr style=\"text-align: right;\">\n",
       "      <th></th>\n",
       "      <th>score</th>\n",
       "      <th>true_negatives</th>\n",
       "      <th>false_positives</th>\n",
       "      <th>false_negatives</th>\n",
       "      <th>true_positives</th>\n",
       "      <th>example_count</th>\n",
       "      <th>accuracy_score</th>\n",
       "      <th>recall_score</th>\n",
       "      <th>precision_score</th>\n",
       "      <th>f1_score</th>\n",
       "      <th>log_loss</th>\n",
       "      <th>roc_auc</th>\n",
       "      <th>precision_recall_auc</th>\n",
       "    </tr>\n",
       "  </thead>\n",
       "  <tbody>\n",
       "    <tr>\n",
       "      <th>validation</th>\n",
       "      <td>0.946787</td>\n",
       "      <td>901</td>\n",
       "      <td>0</td>\n",
       "      <td>53</td>\n",
       "      <td>42</td>\n",
       "      <td>996</td>\n",
       "      <td>0.946787</td>\n",
       "      <td>0.442105</td>\n",
       "      <td>1.0</td>\n",
       "      <td>0.613139</td>\n",
       "      <td>0.690723</td>\n",
       "      <td>0.972679</td>\n",
       "      <td>0.863798</td>\n",
       "    </tr>\n",
       "    <tr>\n",
       "      <th>test</th>\n",
       "      <td>0.935318</td>\n",
       "      <td>870</td>\n",
       "      <td>0</td>\n",
       "      <td>63</td>\n",
       "      <td>41</td>\n",
       "      <td>974</td>\n",
       "      <td>0.935318</td>\n",
       "      <td>0.394231</td>\n",
       "      <td>1.0</td>\n",
       "      <td>0.565517</td>\n",
       "      <td>0.690748</td>\n",
       "      <td>0.984184</td>\n",
       "      <td>0.899658</td>\n",
       "    </tr>\n",
       "  </tbody>\n",
       "</table>\n",
       "</div>"
      ],
      "text/plain": [
       "               score  true_negatives  false_positives  false_negatives  \\\n",
       "validation  0.946787             901                0               53   \n",
       "test        0.935318             870                0               63   \n",
       "\n",
       "            true_positives  example_count  accuracy_score  recall_score  \\\n",
       "validation              42            996        0.946787      0.442105   \n",
       "test                    41            974        0.935318      0.394231   \n",
       "\n",
       "            precision_score  f1_score  log_loss   roc_auc  \\\n",
       "validation              1.0  0.613139  0.690723  0.972679   \n",
       "test                    1.0  0.565517  0.690748  0.984184   \n",
       "\n",
       "            precision_recall_auc  \n",
       "validation              0.863798  \n",
       "test                    0.899658  "
      ]
     },
     "metadata": {},
     "output_type": "display_data"
    },
    {
     "output_type": "execute_result",
     "data": {
      "text/html": [
       "<style>#sk-container-id-2 {color: black;background-color: white;}#sk-container-id-2 pre{padding: 0;}#sk-container-id-2 div.sk-toggleable {background-color: white;}#sk-container-id-2 label.sk-toggleable__label {cursor: pointer;display: block;width: 100%;margin-bottom: 0;padding: 0.3em;box-sizing: border-box;text-align: center;}#sk-container-id-2 label.sk-toggleable__label-arrow:before {content: \"▸\";float: left;margin-right: 0.25em;color: #696969;}#sk-container-id-2 label.sk-toggleable__label-arrow:hover:before {color: black;}#sk-container-id-2 div.sk-estimator:hover label.sk-toggleable__label-arrow:before {color: black;}#sk-container-id-2 div.sk-toggleable__content {max-height: 0;max-width: 0;overflow: hidden;text-align: left;background-color: #f0f8ff;}#sk-container-id-2 div.sk-toggleable__content pre {margin: 0.2em;color: black;border-radius: 0.25em;background-color: #f0f8ff;}#sk-container-id-2 input.sk-toggleable__control:checked~div.sk-toggleable__content {max-height: 200px;max-width: 100%;overflow: auto;}#sk-container-id-2 input.sk-toggleable__control:checked~label.sk-toggleable__label-arrow:before {content: \"▾\";}#sk-container-id-2 div.sk-estimator input.sk-toggleable__control:checked~label.sk-toggleable__label {background-color: #d4ebff;}#sk-container-id-2 div.sk-label input.sk-toggleable__control:checked~label.sk-toggleable__label {background-color: #d4ebff;}#sk-container-id-2 input.sk-hidden--visually {border: 0;clip: rect(1px 1px 1px 1px);clip: rect(1px, 1px, 1px, 1px);height: 1px;margin: -1px;overflow: hidden;padding: 0;position: absolute;width: 1px;}#sk-container-id-2 div.sk-estimator {font-family: monospace;background-color: #f0f8ff;border: 1px dotted black;border-radius: 0.25em;box-sizing: border-box;margin-bottom: 0.5em;}#sk-container-id-2 div.sk-estimator:hover {background-color: #d4ebff;}#sk-container-id-2 div.sk-parallel-item::after {content: \"\";width: 100%;border-bottom: 1px solid gray;flex-grow: 1;}#sk-container-id-2 div.sk-label:hover label.sk-toggleable__label {background-color: #d4ebff;}#sk-container-id-2 div.sk-serial::before {content: \"\";position: absolute;border-left: 1px solid gray;box-sizing: border-box;top: 0;bottom: 0;left: 50%;z-index: 0;}#sk-container-id-2 div.sk-serial {display: flex;flex-direction: column;align-items: center;background-color: white;padding-right: 0.2em;padding-left: 0.2em;position: relative;}#sk-container-id-2 div.sk-item {position: relative;z-index: 1;}#sk-container-id-2 div.sk-parallel {display: flex;align-items: stretch;justify-content: center;background-color: white;position: relative;}#sk-container-id-2 div.sk-item::before, #sk-container-id-2 div.sk-parallel-item::before {content: \"\";position: absolute;border-left: 1px solid gray;box-sizing: border-box;top: 0;bottom: 0;left: 50%;z-index: -1;}#sk-container-id-2 div.sk-parallel-item {display: flex;flex-direction: column;z-index: 1;position: relative;background-color: white;}#sk-container-id-2 div.sk-parallel-item:first-child::after {align-self: flex-end;width: 50%;}#sk-container-id-2 div.sk-parallel-item:last-child::after {align-self: flex-start;width: 50%;}#sk-container-id-2 div.sk-parallel-item:only-child::after {width: 0;}#sk-container-id-2 div.sk-dashed-wrapped {border: 1px dashed gray;margin: 0 0.4em 0.5em 0.4em;box-sizing: border-box;padding-bottom: 0.4em;background-color: white;}#sk-container-id-2 div.sk-label label {font-family: monospace;font-weight: bold;display: inline-block;line-height: 1.2em;}#sk-container-id-2 div.sk-label-container {text-align: center;}#sk-container-id-2 div.sk-container {/* jupyter's `normalize.less` sets `[hidden] { display: none; }` but bootstrap.min.css set `[hidden] { display: none !important; }` so we also need the `!important` here to be able to override the default hidden behavior on the sphinx rendered scikit-learn.org. See: https://github.com/scikit-learn/scikit-learn/issues/21755 */display: inline-block !important;position: relative;}#sk-container-id-2 div.sk-text-repr-fallback {display: none;}</style><div id=\"sk-container-id-2\" class=\"sk-top-container\"><div class=\"sk-text-repr-fallback\"><pre>Pipeline(steps=[(&#x27;column_selector&#x27;,\n",
       "                 ColumnSelector(cols=[&#x27;Education&#x27;, &#x27;Age&#x27;, &#x27;Online&#x27;, &#x27;Family&#x27;,\n",
       "                                      &#x27;Income&#x27;, &#x27;Securities_Account&#x27;,\n",
       "                                      &#x27;Experience&#x27;, &#x27;CreditCard&#x27;, &#x27;CCAvg&#x27;,\n",
       "                                      &#x27;Mortgage&#x27;, &#x27;CD_Account&#x27;])),\n",
       "                (&#x27;preprocessor&#x27;,\n",
       "                 ColumnTransformer(remainder=&#x27;passthrough&#x27;, sparse_threshold=0,\n",
       "                                   transformers=[(&#x27;boolean&#x27;,\n",
       "                                                  Pipeline(steps=[(&#x27;cast_type&#x27;,\n",
       "                                                                   FunctionTransformer(func=&lt;function &lt;l...\n",
       "                                                                      interaction_constraints=None,\n",
       "                                                                      learning_rate=0.001035003869476757,\n",
       "                                                                      max_bin=None,\n",
       "                                                                      max_cat_threshold=None,\n",
       "                                                                      max_cat_to_onehot=None,\n",
       "                                                                      max_delta_step=None,\n",
       "                                                                      max_depth=3,\n",
       "                                                                      max_leaves=None,\n",
       "                                                                      min_child_weight=12,\n",
       "                                                                      missing=nan,\n",
       "                                                                      monotone_constraints=None,\n",
       "                                                                      n_estimators=3,\n",
       "                                                                      n_jobs=100,\n",
       "                                                                      num_parallel_tree=None,\n",
       "                                                                      predictor=None,\n",
       "                                                                      random_state=907093067, ...),\n",
       "                                             transformer=LabelEncoder()))])</pre><b>In a Jupyter environment, please rerun this cell to show the HTML representation or trust the notebook. <br />On GitHub, the HTML representation is unable to render, please try loading this page with nbviewer.org.</b></div><div class=\"sk-container\" hidden><div class=\"sk-item sk-dashed-wrapped\"><div class=\"sk-label-container\"><div class=\"sk-label sk-toggleable\"><input class=\"sk-toggleable__control sk-hidden--visually\" id=\"sk-estimator-id-28\" type=\"checkbox\" ><label for=\"sk-estimator-id-28\" class=\"sk-toggleable__label sk-toggleable__label-arrow\">Pipeline</label><div class=\"sk-toggleable__content\"><pre>Pipeline(steps=[(&#x27;column_selector&#x27;,\n",
       "                 ColumnSelector(cols=[&#x27;Education&#x27;, &#x27;Age&#x27;, &#x27;Online&#x27;, &#x27;Family&#x27;,\n",
       "                                      &#x27;Income&#x27;, &#x27;Securities_Account&#x27;,\n",
       "                                      &#x27;Experience&#x27;, &#x27;CreditCard&#x27;, &#x27;CCAvg&#x27;,\n",
       "                                      &#x27;Mortgage&#x27;, &#x27;CD_Account&#x27;])),\n",
       "                (&#x27;preprocessor&#x27;,\n",
       "                 ColumnTransformer(remainder=&#x27;passthrough&#x27;, sparse_threshold=0,\n",
       "                                   transformers=[(&#x27;boolean&#x27;,\n",
       "                                                  Pipeline(steps=[(&#x27;cast_type&#x27;,\n",
       "                                                                   FunctionTransformer(func=&lt;function &lt;l...\n",
       "                                                                      interaction_constraints=None,\n",
       "                                                                      learning_rate=0.001035003869476757,\n",
       "                                                                      max_bin=None,\n",
       "                                                                      max_cat_threshold=None,\n",
       "                                                                      max_cat_to_onehot=None,\n",
       "                                                                      max_delta_step=None,\n",
       "                                                                      max_depth=3,\n",
       "                                                                      max_leaves=None,\n",
       "                                                                      min_child_weight=12,\n",
       "                                                                      missing=nan,\n",
       "                                                                      monotone_constraints=None,\n",
       "                                                                      n_estimators=3,\n",
       "                                                                      n_jobs=100,\n",
       "                                                                      num_parallel_tree=None,\n",
       "                                                                      predictor=None,\n",
       "                                                                      random_state=907093067, ...),\n",
       "                                             transformer=LabelEncoder()))])</pre></div></div></div><div class=\"sk-serial\"><div class=\"sk-item\"><div class=\"sk-estimator sk-toggleable\"><input class=\"sk-toggleable__control sk-hidden--visually\" id=\"sk-estimator-id-29\" type=\"checkbox\" ><label for=\"sk-estimator-id-29\" class=\"sk-toggleable__label sk-toggleable__label-arrow\">ColumnSelector</label><div class=\"sk-toggleable__content\"><pre>ColumnSelector(cols=[&#x27;Education&#x27;, &#x27;Age&#x27;, &#x27;Online&#x27;, &#x27;Family&#x27;, &#x27;Income&#x27;,\n",
       "                     &#x27;Securities_Account&#x27;, &#x27;Experience&#x27;, &#x27;CreditCard&#x27;, &#x27;CCAvg&#x27;,\n",
       "                     &#x27;Mortgage&#x27;, &#x27;CD_Account&#x27;])</pre></div></div></div><div class=\"sk-item sk-dashed-wrapped\"><div class=\"sk-label-container\"><div class=\"sk-label sk-toggleable\"><input class=\"sk-toggleable__control sk-hidden--visually\" id=\"sk-estimator-id-30\" type=\"checkbox\" ><label for=\"sk-estimator-id-30\" class=\"sk-toggleable__label sk-toggleable__label-arrow\">preprocessor: ColumnTransformer</label><div class=\"sk-toggleable__content\"><pre>ColumnTransformer(remainder=&#x27;passthrough&#x27;, sparse_threshold=0,\n",
       "                  transformers=[(&#x27;boolean&#x27;,\n",
       "                                 Pipeline(steps=[(&#x27;cast_type&#x27;,\n",
       "                                                  FunctionTransformer(func=&lt;function &lt;lambda&gt; at 0x7f8c74990a60&gt;)),\n",
       "                                                 (&#x27;imputers&#x27;,\n",
       "                                                  ColumnTransformer(remainder=&#x27;passthrough&#x27;,\n",
       "                                                                    transformers=[])),\n",
       "                                                 (&#x27;onehot&#x27;,\n",
       "                                                  OneHotEncoder(drop=&#x27;first&#x27;,\n",
       "                                                                handle_unknown=&#x27;ignore&#x27;))]),\n",
       "                                 [&#x27;Securities_Account&#x27;, &#x27;CreditCard&#x27;,\n",
       "                                  &#x27;...\n",
       "                                                                                    &#x27;Securities_Account&#x27;])])),\n",
       "                                                 (&#x27;standardizer&#x27;,\n",
       "                                                  StandardScaler())]),\n",
       "                                 [&#x27;Education&#x27;, &#x27;Age&#x27;, &#x27;Online&#x27;, &#x27;Family&#x27;,\n",
       "                                  &#x27;Income&#x27;, &#x27;Experience&#x27;, &#x27;CCAvg&#x27;, &#x27;Mortgage&#x27;,\n",
       "                                  &#x27;Securities_Account&#x27;, &#x27;CreditCard&#x27;,\n",
       "                                  &#x27;CD_Account&#x27;]),\n",
       "                                (&#x27;onehot&#x27;,\n",
       "                                 Pipeline(steps=[(&#x27;imputers&#x27;,\n",
       "                                                  ColumnTransformer(remainder=&#x27;passthrough&#x27;,\n",
       "                                                                    transformers=[])),\n",
       "                                                 (&#x27;one_hot_encoder&#x27;,\n",
       "                                                  OneHotEncoder())]),\n",
       "                                 [&#x27;Education&#x27;, &#x27;Family&#x27;])])</pre></div></div></div><div class=\"sk-parallel\"><div class=\"sk-parallel-item\"><div class=\"sk-item\"><div class=\"sk-label-container\"><div class=\"sk-label sk-toggleable\"><input class=\"sk-toggleable__control sk-hidden--visually\" id=\"sk-estimator-id-31\" type=\"checkbox\" ><label for=\"sk-estimator-id-31\" class=\"sk-toggleable__label sk-toggleable__label-arrow\">boolean</label><div class=\"sk-toggleable__content\"><pre>[&#x27;Securities_Account&#x27;, &#x27;CreditCard&#x27;, &#x27;CD_Account&#x27;, &#x27;Online&#x27;]</pre></div></div></div><div class=\"sk-serial\"><div class=\"sk-item\"><div class=\"sk-serial\"><div class=\"sk-item\"><div class=\"sk-estimator sk-toggleable\"><input class=\"sk-toggleable__control sk-hidden--visually\" id=\"sk-estimator-id-32\" type=\"checkbox\" ><label for=\"sk-estimator-id-32\" class=\"sk-toggleable__label sk-toggleable__label-arrow\">FunctionTransformer</label><div class=\"sk-toggleable__content\"><pre>FunctionTransformer(func=&lt;function &lt;lambda&gt; at 0x7f8c74990a60&gt;)</pre></div></div></div><div class=\"sk-item sk-dashed-wrapped\"><div class=\"sk-label-container\"><div class=\"sk-label sk-toggleable\"><input class=\"sk-toggleable__control sk-hidden--visually\" id=\"sk-estimator-id-33\" type=\"checkbox\" ><label for=\"sk-estimator-id-33\" class=\"sk-toggleable__label sk-toggleable__label-arrow\">imputers: ColumnTransformer</label><div class=\"sk-toggleable__content\"><pre>ColumnTransformer(remainder=&#x27;passthrough&#x27;, transformers=[])</pre></div></div></div><div class=\"sk-parallel\"><div class=\"sk-parallel-item\"><div class=\"sk-item\"><div class=\"sk-label-container\"><div class=\"sk-label sk-toggleable\"><input class=\"sk-toggleable__control sk-hidden--visually\" id=\"sk-estimator-id-34\" type=\"checkbox\" ><label for=\"sk-estimator-id-34\" class=\"sk-toggleable__label sk-toggleable__label-arrow\">remainder</label><div class=\"sk-toggleable__content\"><pre></pre></div></div></div><div class=\"sk-serial\"><div class=\"sk-item\"><div class=\"sk-estimator sk-toggleable\"><input class=\"sk-toggleable__control sk-hidden--visually\" id=\"sk-estimator-id-35\" type=\"checkbox\" ><label for=\"sk-estimator-id-35\" class=\"sk-toggleable__label sk-toggleable__label-arrow\">passthrough</label><div class=\"sk-toggleable__content\"><pre>passthrough</pre></div></div></div></div></div></div></div></div><div class=\"sk-item\"><div class=\"sk-estimator sk-toggleable\"><input class=\"sk-toggleable__control sk-hidden--visually\" id=\"sk-estimator-id-36\" type=\"checkbox\" ><label for=\"sk-estimator-id-36\" class=\"sk-toggleable__label sk-toggleable__label-arrow\">OneHotEncoder</label><div class=\"sk-toggleable__content\"><pre>OneHotEncoder(drop=&#x27;first&#x27;, handle_unknown=&#x27;ignore&#x27;)</pre></div></div></div></div></div></div></div></div><div class=\"sk-parallel-item\"><div class=\"sk-item\"><div class=\"sk-label-container\"><div class=\"sk-label sk-toggleable\"><input class=\"sk-toggleable__control sk-hidden--visually\" id=\"sk-estimator-id-37\" type=\"checkbox\" ><label for=\"sk-estimator-id-37\" class=\"sk-toggleable__label sk-toggleable__label-arrow\">numerical</label><div class=\"sk-toggleable__content\"><pre>[&#x27;Education&#x27;, &#x27;Age&#x27;, &#x27;Online&#x27;, &#x27;Family&#x27;, &#x27;Income&#x27;, &#x27;Experience&#x27;, &#x27;CCAvg&#x27;, &#x27;Mortgage&#x27;, &#x27;Securities_Account&#x27;, &#x27;CreditCard&#x27;, &#x27;CD_Account&#x27;]</pre></div></div></div><div class=\"sk-serial\"><div class=\"sk-item\"><div class=\"sk-serial\"><div class=\"sk-item\"><div class=\"sk-estimator sk-toggleable\"><input class=\"sk-toggleable__control sk-hidden--visually\" id=\"sk-estimator-id-38\" type=\"checkbox\" ><label for=\"sk-estimator-id-38\" class=\"sk-toggleable__label sk-toggleable__label-arrow\">FunctionTransformer</label><div class=\"sk-toggleable__content\"><pre>FunctionTransformer(func=&lt;function &lt;lambda&gt; at 0x7f8c7472dea0&gt;)</pre></div></div></div><div class=\"sk-item sk-dashed-wrapped\"><div class=\"sk-label-container\"><div class=\"sk-label sk-toggleable\"><input class=\"sk-toggleable__control sk-hidden--visually\" id=\"sk-estimator-id-39\" type=\"checkbox\" ><label for=\"sk-estimator-id-39\" class=\"sk-toggleable__label sk-toggleable__label-arrow\">imputers: ColumnTransformer</label><div class=\"sk-toggleable__content\"><pre>ColumnTransformer(transformers=[(&#x27;impute_mean&#x27;, SimpleImputer(),\n",
       "                                 [&#x27;Age&#x27;, &#x27;CCAvg&#x27;, &#x27;CD_Account&#x27;, &#x27;CreditCard&#x27;,\n",
       "                                  &#x27;Education&#x27;, &#x27;Experience&#x27;, &#x27;Family&#x27;, &#x27;Income&#x27;,\n",
       "                                  &#x27;Mortgage&#x27;, &#x27;Online&#x27;,\n",
       "                                  &#x27;Securities_Account&#x27;])])</pre></div></div></div><div class=\"sk-parallel\"><div class=\"sk-parallel-item\"><div class=\"sk-item\"><div class=\"sk-label-container\"><div class=\"sk-label sk-toggleable\"><input class=\"sk-toggleable__control sk-hidden--visually\" id=\"sk-estimator-id-40\" type=\"checkbox\" ><label for=\"sk-estimator-id-40\" class=\"sk-toggleable__label sk-toggleable__label-arrow\">impute_mean</label><div class=\"sk-toggleable__content\"><pre>[&#x27;Age&#x27;, &#x27;CCAvg&#x27;, &#x27;CD_Account&#x27;, &#x27;CreditCard&#x27;, &#x27;Education&#x27;, &#x27;Experience&#x27;, &#x27;Family&#x27;, &#x27;Income&#x27;, &#x27;Mortgage&#x27;, &#x27;Online&#x27;, &#x27;Securities_Account&#x27;]</pre></div></div></div><div class=\"sk-serial\"><div class=\"sk-item\"><div class=\"sk-estimator sk-toggleable\"><input class=\"sk-toggleable__control sk-hidden--visually\" id=\"sk-estimator-id-41\" type=\"checkbox\" ><label for=\"sk-estimator-id-41\" class=\"sk-toggleable__label sk-toggleable__label-arrow\">SimpleImputer</label><div class=\"sk-toggleable__content\"><pre>SimpleImputer()</pre></div></div></div></div></div></div></div></div><div class=\"sk-item\"><div class=\"sk-estimator sk-toggleable\"><input class=\"sk-toggleable__control sk-hidden--visually\" id=\"sk-estimator-id-42\" type=\"checkbox\" ><label for=\"sk-estimator-id-42\" class=\"sk-toggleable__label sk-toggleable__label-arrow\">StandardScaler</label><div class=\"sk-toggleable__content\"><pre>StandardScaler()</pre></div></div></div></div></div></div></div></div><div class=\"sk-parallel-item\"><div class=\"sk-item\"><div class=\"sk-label-container\"><div class=\"sk-label sk-toggleable\"><input class=\"sk-toggleable__control sk-hidden--visually\" id=\"sk-estimator-id-43\" type=\"checkbox\" ><label for=\"sk-estimator-id-43\" class=\"sk-toggleable__label sk-toggleable__label-arrow\">onehot</label><div class=\"sk-toggleable__content\"><pre>[&#x27;Education&#x27;, &#x27;Family&#x27;]</pre></div></div></div><div class=\"sk-serial\"><div class=\"sk-item\"><div class=\"sk-serial\"><div class=\"sk-item sk-dashed-wrapped\"><div class=\"sk-label-container\"><div class=\"sk-label sk-toggleable\"><input class=\"sk-toggleable__control sk-hidden--visually\" id=\"sk-estimator-id-44\" type=\"checkbox\" ><label for=\"sk-estimator-id-44\" class=\"sk-toggleable__label sk-toggleable__label-arrow\">imputers: ColumnTransformer</label><div class=\"sk-toggleable__content\"><pre>ColumnTransformer(remainder=&#x27;passthrough&#x27;, transformers=[])</pre></div></div></div><div class=\"sk-parallel\"><div class=\"sk-parallel-item\"><div class=\"sk-item\"><div class=\"sk-label-container\"><div class=\"sk-label sk-toggleable\"><input class=\"sk-toggleable__control sk-hidden--visually\" id=\"sk-estimator-id-45\" type=\"checkbox\" ><label for=\"sk-estimator-id-45\" class=\"sk-toggleable__label sk-toggleable__label-arrow\">remainder</label><div class=\"sk-toggleable__content\"><pre></pre></div></div></div><div class=\"sk-serial\"><div class=\"sk-item\"><div class=\"sk-estimator sk-toggleable\"><input class=\"sk-toggleable__control sk-hidden--visually\" id=\"sk-estimator-id-46\" type=\"checkbox\" ><label for=\"sk-estimator-id-46\" class=\"sk-toggleable__label sk-toggleable__label-arrow\">passthrough</label><div class=\"sk-toggleable__content\"><pre>passthrough</pre></div></div></div></div></div></div></div></div><div class=\"sk-item\"><div class=\"sk-estimator sk-toggleable\"><input class=\"sk-toggleable__control sk-hidden--visually\" id=\"sk-estimator-id-47\" type=\"checkbox\" ><label for=\"sk-estimator-id-47\" class=\"sk-toggleable__label sk-toggleable__label-arrow\">OneHotEncoder</label><div class=\"sk-toggleable__content\"><pre>OneHotEncoder()</pre></div></div></div></div></div></div></div></div><div class=\"sk-parallel-item\"><div class=\"sk-item\"><div class=\"sk-label-container\"><div class=\"sk-label sk-toggleable\"><input class=\"sk-toggleable__control sk-hidden--visually\" id=\"sk-estimator-id-48\" type=\"checkbox\" ><label for=\"sk-estimator-id-48\" class=\"sk-toggleable__label sk-toggleable__label-arrow\">remainder</label><div class=\"sk-toggleable__content\"><pre>[]</pre></div></div></div><div class=\"sk-serial\"><div class=\"sk-item\"><div class=\"sk-estimator sk-toggleable\"><input class=\"sk-toggleable__control sk-hidden--visually\" id=\"sk-estimator-id-49\" type=\"checkbox\" ><label for=\"sk-estimator-id-49\" class=\"sk-toggleable__label sk-toggleable__label-arrow\">passthrough</label><div class=\"sk-toggleable__content\"><pre>passthrough</pre></div></div></div></div></div></div></div></div><div class=\"sk-item sk-dashed-wrapped\"><div class=\"sk-label-container\"><div class=\"sk-label sk-toggleable\"><input class=\"sk-toggleable__control sk-hidden--visually\" id=\"sk-estimator-id-50\" type=\"checkbox\" ><label for=\"sk-estimator-id-50\" class=\"sk-toggleable__label sk-toggleable__label-arrow\">classifier: TransformedTargetClassifier</label><div class=\"sk-toggleable__content\"><pre>TransformedTargetClassifier(classifier=XGBClassifier(base_score=None,\n",
       "                                                     booster=None,\n",
       "                                                     callbacks=None,\n",
       "                                                     colsample_bylevel=None,\n",
       "                                                     colsample_bynode=None,\n",
       "                                                     colsample_bytree=0.4939411694257699,\n",
       "                                                     early_stopping_rounds=None,\n",
       "                                                     enable_categorical=False,\n",
       "                                                     eval_metric=None,\n",
       "                                                     feature_types=None,\n",
       "                                                     gamma=None, gpu_id=None,\n",
       "                                                     grow_policy=None,\n",
       "                                                     importance_type=None,\n",
       "                                                     interaction_constraints=None,\n",
       "                                                     learning_rate=0.001035003869476757,\n",
       "                                                     max_bin=None,\n",
       "                                                     max_cat_threshold=None,\n",
       "                                                     max_cat_to_onehot=None,\n",
       "                                                     max_delta_step=None,\n",
       "                                                     max_depth=3,\n",
       "                                                     max_leaves=None,\n",
       "                                                     min_child_weight=12,\n",
       "                                                     missing=nan,\n",
       "                                                     monotone_constraints=None,\n",
       "                                                     n_estimators=3, n_jobs=100,\n",
       "                                                     num_parallel_tree=None,\n",
       "                                                     predictor=None,\n",
       "                                                     random_state=907093067, ...),\n",
       "                            transformer=LabelEncoder())</pre></div></div></div><div class=\"sk-parallel\"><div class=\"sk-parallel-item\"><div class=\"sk-item\"><div class=\"sk-label-container\"><div class=\"sk-label sk-toggleable\"><input class=\"sk-toggleable__control sk-hidden--visually\" id=\"sk-estimator-id-51\" type=\"checkbox\" ><label for=\"sk-estimator-id-51\" class=\"sk-toggleable__label sk-toggleable__label-arrow\">classifier: XGBClassifier</label><div class=\"sk-toggleable__content\"><pre>XGBClassifier(base_score=None, booster=None, callbacks=None,\n",
       "              colsample_bylevel=None, colsample_bynode=None,\n",
       "              colsample_bytree=0.4939411694257699, early_stopping_rounds=None,\n",
       "              enable_categorical=False, eval_metric=None, feature_types=None,\n",
       "              gamma=None, gpu_id=None, grow_policy=None, importance_type=None,\n",
       "              interaction_constraints=None, learning_rate=0.001035003869476757,\n",
       "              max_bin=None, max_cat_threshold=None, max_cat_to_onehot=None,\n",
       "              max_delta_step=None, max_depth=3, max_leaves=None,\n",
       "              min_child_weight=12, missing=nan, monotone_constraints=None,\n",
       "              n_estimators=3, n_jobs=100, num_parallel_tree=None,\n",
       "              predictor=None, random_state=907093067, ...)</pre></div></div></div><div class=\"sk-serial\"><div class=\"sk-item\"><div class=\"sk-estimator sk-toggleable\"><input class=\"sk-toggleable__control sk-hidden--visually\" id=\"sk-estimator-id-52\" type=\"checkbox\" ><label for=\"sk-estimator-id-52\" class=\"sk-toggleable__label sk-toggleable__label-arrow\">XGBClassifier</label><div class=\"sk-toggleable__content\"><pre>XGBClassifier(base_score=None, booster=None, callbacks=None,\n",
       "              colsample_bylevel=None, colsample_bynode=None,\n",
       "              colsample_bytree=0.4939411694257699, early_stopping_rounds=None,\n",
       "              enable_categorical=False, eval_metric=None, feature_types=None,\n",
       "              gamma=None, gpu_id=None, grow_policy=None, importance_type=None,\n",
       "              interaction_constraints=None, learning_rate=0.001035003869476757,\n",
       "              max_bin=None, max_cat_threshold=None, max_cat_to_onehot=None,\n",
       "              max_delta_step=None, max_depth=3, max_leaves=None,\n",
       "              min_child_weight=12, missing=nan, monotone_constraints=None,\n",
       "              n_estimators=3, n_jobs=100, num_parallel_tree=None,\n",
       "              predictor=None, random_state=907093067, ...)</pre></div></div></div></div></div></div><div class=\"sk-parallel-item\"><div class=\"sk-item\"><div class=\"sk-label-container\"><div class=\"sk-label sk-toggleable\"><input class=\"sk-toggleable__control sk-hidden--visually\" id=\"sk-estimator-id-53\" type=\"checkbox\" ><label for=\"sk-estimator-id-53\" class=\"sk-toggleable__label sk-toggleable__label-arrow\">transformer: LabelEncoder</label><div class=\"sk-toggleable__content\"><pre>LabelEncoder()</pre></div></div></div><div class=\"sk-serial\"><div class=\"sk-item\"><div class=\"sk-estimator sk-toggleable\"><input class=\"sk-toggleable__control sk-hidden--visually\" id=\"sk-estimator-id-54\" type=\"checkbox\" ><label for=\"sk-estimator-id-54\" class=\"sk-toggleable__label sk-toggleable__label-arrow\">LabelEncoder</label><div class=\"sk-toggleable__content\"><pre>LabelEncoder()</pre></div></div></div></div></div></div></div></div></div></div></div></div>"
      ],
      "text/plain": [
       "Pipeline(steps=[('column_selector',\n",
       "                 ColumnSelector(cols=['Education', 'Age', 'Online', 'Family',\n",
       "                                      'Income', 'Securities_Account',\n",
       "                                      'Experience', 'CreditCard', 'CCAvg',\n",
       "                                      'Mortgage', 'CD_Account'])),\n",
       "                ('preprocessor',\n",
       "                 ColumnTransformer(remainder='passthrough', sparse_threshold=0,\n",
       "                                   transformers=[('boolean',\n",
       "                                                  Pipeline(steps=[('cast_type',\n",
       "                                                                   FunctionTransformer(func=<function <l...\n",
       "                                                                      interaction_constraints=None,\n",
       "                                                                      learning_rate=0.001035003869476757,\n",
       "                                                                      max_bin=None,\n",
       "                                                                      max_cat_threshold=None,\n",
       "                                                                      max_cat_to_onehot=None,\n",
       "                                                                      max_delta_step=None,\n",
       "                                                                      max_depth=3,\n",
       "                                                                      max_leaves=None,\n",
       "                                                                      min_child_weight=12,\n",
       "                                                                      missing=nan,\n",
       "                                                                      monotone_constraints=None,\n",
       "                                                                      n_estimators=3,\n",
       "                                                                      n_jobs=100,\n",
       "                                                                      num_parallel_tree=None,\n",
       "                                                                      predictor=None,\n",
       "                                                                      random_state=907093067, ...),\n",
       "                                             transformer=LabelEncoder()))])"
      ]
     },
     "execution_count": 13,
     "metadata": {},
     "output_type": "execute_result"
    },
    {
     "output_type": "display_data",
     "data": {
      "text/plain": [
       "<Figure size 1050x700 with 0 Axes>"
      ]
     },
     "metadata": {},
     "output_type": "display_data"
    }
   ],
   "source": [
    "trials = Trials()\n",
    "fmin(objective,\n",
    "     space=space,\n",
    "     algo=tpe.suggest,\n",
    "     max_evals=1,  # Increase this when widening the hyperparameter search space.\n",
    "     trials=trials)\n",
    "\n",
    "best_result = trials.best_trial[\"result\"]\n",
    "model = best_result[\"model\"]\n",
    "mlflow_run = best_result[\"run\"]\n",
    "\n",
    "display(\n",
    "  pd.DataFrame(\n",
    "    [best_result[\"val_metrics\"], best_result[\"test_metrics\"]],\n",
    "    index=[\"validation\", \"test\"]))\n",
    "\n",
    "set_config(display=\"diagram\")\n",
    "model"
   ]
  },
  {
   "cell_type": "markdown",
   "metadata": {
    "application/vnd.databricks.v1+cell": {
     "cellMetadata": {},
     "inputWidgets": {},
     "nuid": "4c6341cb-86fa-4dcb-a8d1-60a4352e7085",
     "showTitle": false,
     "tableResultSettingsMap": {},
     "title": ""
    }
   },
   "source": [
    "### Patch pandas version in logged model\n",
    "\n",
    "Ensures that model serving uses the same version of pandas that was used to train the model."
   ]
  },
  {
   "cell_type": "code",
   "execution_count": 0,
   "metadata": {
    "application/vnd.databricks.v1+cell": {
     "cellMetadata": {},
     "inputWidgets": {},
     "nuid": "b039b5f1-b7b6-4e38-bf99-b273eb8d4e90",
     "showTitle": false,
     "tableResultSettingsMap": {},
     "title": ""
    },
    "execution": {
     "iopub.execute_input": "2024-12-23T02:07:00.955801Z",
     "iopub.status.busy": "2024-12-23T02:07:00.954378Z",
     "iopub.status.idle": "2024-12-23T02:07:01.982278Z",
     "shell.execute_reply": "2024-12-23T02:07:01.980709Z"
    }
   },
   "outputs": [
    {
     "output_type": "stream",
     "name": "stdout",
     "output_type": "stream",
     "text": [
      "Adding pandas dependency to conda.yaml\n"
     ]
    },
    {
     "output_type": "stream",
     "name": "stdout",
     "output_type": "stream",
     "text": [
      "Adding pandas dependency to requirements.txt\n"
     ]
    }
   ],
   "source": [
    "import mlflow\n",
    "import os\n",
    "import shutil\n",
    "import tempfile\n",
    "import yaml\n",
    "\n",
    "run_id = mlflow_run.info.run_id\n",
    "\n",
    "# Set up a local dir for downloading the artifacts.\n",
    "tmp_dir = str(tempfile.TemporaryDirectory())\n",
    "os.makedirs(tmp_dir)\n",
    "\n",
    "client = mlflow.tracking.MlflowClient()\n",
    "\n",
    "# Fix conda.yaml\n",
    "conda_file_path = mlflow.artifacts.download_artifacts(artifact_uri=f\"runs:/{run_id}/model/conda.yaml\", dst_path=tmp_dir)\n",
    "with open(conda_file_path) as f:\n",
    "  conda_libs = yaml.load(f, Loader=yaml.FullLoader)\n",
    "pandas_lib_exists = any([lib.startswith(\"pandas==\") for lib in conda_libs[\"dependencies\"][-1][\"pip\"]])\n",
    "if not pandas_lib_exists:\n",
    "  print(\"Adding pandas dependency to conda.yaml\")\n",
    "  conda_libs[\"dependencies\"][-1][\"pip\"].append(f\"pandas=={pd.__version__}\")\n",
    "\n",
    "  with open(f\"{tmp_dir}/conda.yaml\", \"w\") as f:\n",
    "    f.write(yaml.dump(conda_libs))\n",
    "  client.log_artifact(run_id=run_id, local_path=conda_file_path, artifact_path=\"model\")\n",
    "\n",
    "# Fix requirements.txt\n",
    "venv_file_path = mlflow.artifacts.download_artifacts(artifact_uri=f\"runs:/{run_id}/model/requirements.txt\", dst_path=tmp_dir)\n",
    "with open(venv_file_path) as f:\n",
    "  venv_libs = f.readlines()\n",
    "venv_libs = [lib.strip() for lib in venv_libs]\n",
    "pandas_lib_exists = any([lib.startswith(\"pandas==\") for lib in venv_libs])\n",
    "if not pandas_lib_exists:\n",
    "  print(\"Adding pandas dependency to requirements.txt\")\n",
    "  venv_libs.append(f\"pandas=={pd.__version__}\")\n",
    "\n",
    "  with open(f\"{tmp_dir}/requirements.txt\", \"w\") as f:\n",
    "    f.write(\"\\n\".join(venv_libs))\n",
    "  client.log_artifact(run_id=run_id, local_path=venv_file_path, artifact_path=\"model\")\n",
    "\n",
    "shutil.rmtree(tmp_dir)"
   ]
  },
  {
   "cell_type": "markdown",
   "metadata": {
    "application/vnd.databricks.v1+cell": {
     "cellMetadata": {},
     "inputWidgets": {},
     "nuid": "a61d313d-86f7-4b64-a523-c31987336517",
     "showTitle": false,
     "tableResultSettingsMap": {},
     "title": ""
    }
   },
   "source": [
    "## Feature importance\n",
    "\n",
    "SHAP is a game-theoretic approach to explain machine learning models, providing a summary plot\n",
    "of the relationship between features and model output. Features are ranked in descending order of\n",
    "importance, and impact/color describe the correlation between the feature and the target variable.\n",
    "- Generating SHAP feature importance is a very memory intensive operation, so to ensure that AutoML can run trials without\n",
    "  running out of memory, we disable SHAP by default.<br />\n",
    "  You can set the flag defined below to `shap_enabled = True` and re-run this notebook to see the SHAP plots.\n",
    "- To reduce the computational overhead of each trial, a single example is sampled from the validation set to explain.<br />\n",
    "  For more thorough results, increase the sample size of explanations, or provide your own examples to explain.\n",
    "- SHAP cannot explain models using data with nulls; if your dataset has any, both the background data and\n",
    "  examples to explain will be imputed using the mode (most frequent values). This affects the computed\n",
    "  SHAP values, as the imputed samples may not match the actual data distribution.\n",
    "\n",
    "For more information on how to read Shapley values, see the [SHAP documentation](https://shap.readthedocs.io/en/latest/example_notebooks/overviews/An%20introduction%20to%20explainable%20AI%20with%20Shapley%20values.html)."
   ]
  },
  {
   "cell_type": "code",
   "execution_count": 0,
   "metadata": {
    "application/vnd.databricks.v1+cell": {
     "cellMetadata": {},
     "inputWidgets": {},
     "nuid": "2f3e1979-2052-4c5a-bbeb-e430a56ebb1c",
     "showTitle": false,
     "tableResultSettingsMap": {},
     "title": ""
    },
    "execution": {
     "iopub.execute_input": "2024-12-23T02:07:01.991129Z",
     "iopub.status.busy": "2024-12-23T02:07:01.988119Z",
     "iopub.status.idle": "2024-12-23T02:07:01.997789Z",
     "shell.execute_reply": "2024-12-23T02:07:01.996515Z"
    }
   },
   "outputs": [],
   "source": [
    "# Set this flag to True and re-run the notebook to see the SHAP plots\n",
    "shap_enabled = False"
   ]
  },
  {
   "cell_type": "code",
   "execution_count": 0,
   "metadata": {
    "application/vnd.databricks.v1+cell": {
     "cellMetadata": {},
     "inputWidgets": {},
     "nuid": "cd101abe-761a-4200-90a6-273714b3ba71",
     "showTitle": false,
     "tableResultSettingsMap": {},
     "title": ""
    },
    "execution": {
     "iopub.execute_input": "2024-12-23T02:07:02.003640Z",
     "iopub.status.busy": "2024-12-23T02:07:02.002868Z",
     "iopub.status.idle": "2024-12-23T02:07:02.014879Z",
     "shell.execute_reply": "2024-12-23T02:07:02.013312Z"
    }
   },
   "outputs": [],
   "source": [
    "if shap_enabled:\n",
    "    mlflow.autolog(disable=True)\n",
    "    mlflow.sklearn.autolog(disable=True)\n",
    "    from shap import KernelExplainer, summary_plot\n",
    "    # Sample background data for SHAP Explainer. Increase the sample size to reduce variance.\n",
    "    train_sample = X_train.sample(n=min(100, X_train.shape[0]), random_state=907093067)\n",
    "\n",
    "    # Sample some rows from the validation set to explain. Increase the sample size for more thorough results.\n",
    "    example = X_val.sample(n=min(100, X_val.shape[0]), random_state=907093067)\n",
    "\n",
    "    # Use Kernel SHAP to explain feature importance on the sampled rows from the validation set.\n",
    "    predict = lambda x: model.predict(pd.DataFrame(x, columns=X_train.columns))\n",
    "    explainer = KernelExplainer(predict, train_sample, link=\"identity\")\n",
    "    shap_values = explainer.shap_values(example, l1_reg=False, nsamples=500)\n",
    "    summary_plot(shap_values, example, class_names=model.classes_)"
   ]
  },
  {
   "cell_type": "markdown",
   "metadata": {
    "application/vnd.databricks.v1+cell": {
     "cellMetadata": {},
     "inputWidgets": {},
     "nuid": "91f2d697-348f-467b-9c01-d6adefc143a5",
     "showTitle": false,
     "tableResultSettingsMap": {},
     "title": ""
    }
   },
   "source": [
    "## Inference\n",
    "[The MLflow Model Registry](https://docs.databricks.com/applications/mlflow/model-registry.html) is a collaborative hub where teams can share ML models, work together from experimentation to online testing and production, integrate with approval and governance workflows, and monitor ML deployments and their performance. The snippets below show how to add the model trained in this notebook to the model registry and to retrieve it later for inference.\n",
    "\n",
    "> **NOTE:** The `model_uri` for the model already trained in this notebook can be found in the cell below\n",
    "\n",
    "### Register to Model Registry\n",
    "```\n",
    "model_name = \"Example\"\n",
    "\n",
    "model_uri = f\"runs:/{ mlflow_run.info.run_id }/model\"\n",
    "registered_model_version = mlflow.register_model(model_uri, model_name)\n",
    "```\n",
    "\n",
    "### Load from Model Registry\n",
    "```\n",
    "model_name = \"Example\"\n",
    "model_version = registered_model_version.version\n",
    "\n",
    "model_uri=f\"models:/{model_name}/{model_version}\"\n",
    "model = mlflow.pyfunc.load_model(model_uri=model_uri)\n",
    "model.predict(input_X)\n",
    "```\n",
    "\n",
    "### Load model without registering\n",
    "```\n",
    "model_uri = f\"runs:/{ mlflow_run.info.run_id }/model\"\n",
    "\n",
    "model = mlflow.pyfunc.load_model(model_uri=model_uri)\n",
    "model.predict(input_X)\n",
    "```"
   ]
  },
  {
   "cell_type": "code",
   "execution_count": 0,
   "metadata": {
    "application/vnd.databricks.v1+cell": {
     "cellMetadata": {},
     "inputWidgets": {},
     "nuid": "cf5439d2-0618-4b90-912f-1febad85b7a4",
     "showTitle": false,
     "tableResultSettingsMap": {},
     "title": ""
    },
    "execution": {
     "iopub.execute_input": "2024-12-23T02:07:02.022170Z",
     "iopub.status.busy": "2024-12-23T02:07:02.021814Z",
     "iopub.status.idle": "2024-12-23T02:07:02.029298Z",
     "shell.execute_reply": "2024-12-23T02:07:02.027757Z"
    }
   },
   "outputs": [
    {
     "output_type": "stream",
     "name": "stdout",
     "output_type": "stream",
     "text": [
      "runs:/49f0590491104989b66ae18c61348ce2/model\n"
     ]
    }
   ],
   "source": [
    "# model_uri for the generated model\n",
    "print(f\"runs:/{ mlflow_run.info.run_id }/model\")"
   ]
  },
  {
   "cell_type": "markdown",
   "metadata": {
    "application/vnd.databricks.v1+cell": {
     "cellMetadata": {},
     "inputWidgets": {},
     "nuid": "8cc3dcff-67b7-457f-9875-6b5395da22c4",
     "showTitle": false,
     "tableResultSettingsMap": {},
     "title": ""
    }
   },
   "source": [
    "## Confusion matrix, ROC and Precision-Recall curves for validation data\n",
    "\n",
    "We show the confusion matrix, ROC and Precision-Recall curves of the model on the validation data.\n",
    "\n",
    "For the plots evaluated on the training and the test data, check the artifacts on the MLflow run page."
   ]
  },
  {
   "cell_type": "code",
   "execution_count": 0,
   "metadata": {
    "application/vnd.databricks.v1+cell": {
     "cellMetadata": {},
     "inputWidgets": {},
     "nuid": "671e7c60-33df-4730-acf0-91faf31821b2",
     "showTitle": false,
     "tableResultSettingsMap": {},
     "title": ""
    },
    "execution": {
     "iopub.execute_input": "2024-12-23T02:07:02.038394Z",
     "iopub.status.busy": "2024-12-23T02:07:02.038113Z",
     "iopub.status.idle": "2024-12-23T02:07:02.052809Z",
     "shell.execute_reply": "2024-12-23T02:07:02.051137Z"
    }
   },
   "outputs": [
    {
     "output_type": "display_data",
     "data": {
      "text/html": [
       "<a href=#mlflow/experiments/1648172618108006/runs/49f0590491104989b66ae18c61348ce2/artifactPath/model> Link to model run page </a>"
      ],
      "text/plain": [
       "<IPython.core.display.HTML object>"
      ]
     },
     "metadata": {},
     "output_type": "display_data"
    }
   ],
   "source": [
    "# Click the link to see the MLflow run page\n",
    "displayHTML(f\"<a href=#mlflow/experiments/1648172618108006/runs/{ mlflow_run.info.run_id }/artifactPath/model> Link to model run page </a>\")"
   ]
  },
  {
   "cell_type": "code",
   "execution_count": 0,
   "metadata": {
    "application/vnd.databricks.v1+cell": {
     "cellMetadata": {},
     "inputWidgets": {},
     "nuid": "b86f8244-5ae4-4480-aa11-942bda665926",
     "showTitle": false,
     "tableResultSettingsMap": {},
     "title": ""
    },
    "execution": {
     "iopub.execute_input": "2024-12-23T02:07:02.059767Z",
     "iopub.status.busy": "2024-12-23T02:07:02.059459Z",
     "iopub.status.idle": "2024-12-23T02:07:03.882057Z",
     "shell.execute_reply": "2024-12-23T02:07:03.880855Z"
    }
   },
   "outputs": [],
   "source": [
    "import uuid\n",
    "from IPython.display import Image\n",
    "\n",
    "# Create temp directory to download MLflow model artifact\n",
    "eval_temp_dir = os.path.join(os.environ[\"SPARK_LOCAL_DIRS\"], \"tmp\", str(uuid.uuid4())[:8])\n",
    "os.makedirs(eval_temp_dir, exist_ok=True)\n",
    "\n",
    "# Download the artifact\n",
    "eval_path = mlflow.artifacts.download_artifacts(run_id=mlflow_run.info.run_id, dst_path=eval_temp_dir)"
   ]
  },
  {
   "cell_type": "markdown",
   "metadata": {
    "application/vnd.databricks.v1+cell": {
     "cellMetadata": {},
     "inputWidgets": {},
     "nuid": "03a44ae0-8863-49ff-8cb2-30af38df3d60",
     "showTitle": false,
     "tableResultSettingsMap": {},
     "title": ""
    }
   },
   "source": [
    "### Confusion matrix for validation dataset"
   ]
  },
  {
   "cell_type": "code",
   "execution_count": 0,
   "metadata": {
    "application/vnd.databricks.v1+cell": {
     "cellMetadata": {},
     "inputWidgets": {},
     "nuid": "219a5b86-f639-4ae3-8c1c-e52c7c2cfcd4",
     "showTitle": false,
     "tableResultSettingsMap": {},
     "title": ""
    },
    "execution": {
     "iopub.execute_input": "2024-12-23T02:07:03.886978Z",
     "iopub.status.busy": "2024-12-23T02:07:03.886691Z",
     "iopub.status.idle": "2024-12-23T02:07:03.896013Z",
     "shell.execute_reply": "2024-12-23T02:07:03.894888Z"
    },
    "large_display_output": true
   },
   "outputs": [
    {
     "output_type": "display_data",
     "data": {
      "image/png": "[encoded data removed]",
      "text/plain": [
       "<IPython.core.display.Image object>"
      ]
     },
     "metadata": {},
     "output_type": "display_data"
    }
   ],
   "source": [
    "eval_confusion_matrix_path = os.path.join(eval_path, \"val_confusion_matrix.png\")\n",
    "display(Image(filename=eval_confusion_matrix_path))"
   ]
  },
  {
   "cell_type": "markdown",
   "metadata": {
    "application/vnd.databricks.v1+cell": {
     "cellMetadata": {},
     "inputWidgets": {},
     "nuid": "80e09b8d-5d30-499b-99ba-dd815b983c63",
     "showTitle": false,
     "tableResultSettingsMap": {},
     "title": ""
    }
   },
   "source": [
    "### ROC curve for validation dataset"
   ]
  },
  {
   "cell_type": "code",
   "execution_count": 0,
   "metadata": {
    "application/vnd.databricks.v1+cell": {
     "cellMetadata": {},
     "inputWidgets": {},
     "nuid": "3984069a-308d-413d-8a26-a4ef47f0bb51",
     "showTitle": false,
     "tableResultSettingsMap": {},
     "title": ""
    },
    "execution": {
     "iopub.execute_input": "2024-12-23T02:07:03.902116Z",
     "iopub.status.busy": "2024-12-23T02:07:03.901340Z",
     "iopub.status.idle": "2024-12-23T02:07:03.914159Z",
     "shell.execute_reply": "2024-12-23T02:07:03.912680Z"
    },
    "large_display_output": true
   },
   "outputs": [
    {
     "output_type": "display_data",
     "data": {
      "image/png": "[encoded data removed]",
      "text/plain": [
       "<IPython.core.display.Image object>"
      ]
     },
     "metadata": {},
     "output_type": "display_data"
    }
   ],
   "source": [
    "eval_roc_curve_path = os.path.join(eval_path, \"val_roc_curve_plot.png\")\n",
    "display(Image(filename=eval_roc_curve_path))"
   ]
  },
  {
   "cell_type": "markdown",
   "metadata": {
    "application/vnd.databricks.v1+cell": {
     "cellMetadata": {},
     "inputWidgets": {},
     "nuid": "eb5bb4e2-e05a-4539-b3ed-8b7bddaf5ce7",
     "showTitle": false,
     "tableResultSettingsMap": {},
     "title": ""
    }
   },
   "source": [
    "### Precision-Recall curve for validation dataset"
   ]
  },
  {
   "cell_type": "code",
   "execution_count": 0,
   "metadata": {
    "application/vnd.databricks.v1+cell": {
     "cellMetadata": {},
     "inputWidgets": {},
     "nuid": "b0a0d73f-bded-4cbd-98bf-2cc5960b107c",
     "showTitle": false,
     "tableResultSettingsMap": {},
     "title": ""
    },
    "execution": {
     "iopub.execute_input": "2024-12-23T02:07:03.930010Z",
     "iopub.status.busy": "2024-12-23T02:07:03.929693Z",
     "iopub.status.idle": "2024-12-23T02:07:03.938484Z",
     "shell.execute_reply": "2024-12-23T02:07:03.937584Z"
    },
    "large_display_output": true
   },
   "outputs": [
    {
     "output_type": "display_data",
     "data": {
      "image/png": "[encoded data removed]",
      "text/plain": [
       "<IPython.core.display.Image object>"
      ]
     },
     "metadata": {},
     "output_type": "display_data"
    }
   ],
   "source": [
    "eval_pr_curve_path = os.path.join(eval_path, \"val_precision_recall_curve_plot.png\")\n",
    "display(Image(filename=eval_pr_curve_path))"
   ]
  }
 ],
 "metadata": {
  "application/vnd.databricks.v1+notebook": {
   "computePreferences": null,
   "dashboards": [],
   "environmentMetadata": null,
   "language": "python",
   "notebookMetadata": {
    "pythonIndentUnit": 4
   },
   "notebookName": "lab.3-20241223021036",
   "widgets": {}
  },
  "language_info": {
   "name": "python"
  },
  "name": "XGBoostClassifier-c7229838cebfccbdc662a1a20e341440"
 },
 "nbformat": 4,
 "nbformat_minor": 0
}