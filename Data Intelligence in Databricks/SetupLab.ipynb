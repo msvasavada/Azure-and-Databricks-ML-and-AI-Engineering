{
 "cells": [
  {
   "cell_type": "code",
   "execution_count": 0,
   "metadata": {
    "application/vnd.databricks.v1+cell": {
     "cellMetadata": {},
     "inputWidgets": {},
     "nuid": "00eec68e-faca-4720-b938-51111c51fdec",
     "showTitle": false,
     "tableResultSettingsMap": {},
     "title": ""
    }
   },
   "outputs": [],
   "source": [
    "%run ../../includes/CloudLakehouseLabsContext"
   ]
  },
  {
   "cell_type": "code",
   "execution_count": 0,
   "metadata": {
    "application/vnd.databricks.v1+cell": {
     "cellMetadata": {},
     "inputWidgets": {},
     "nuid": "c028aa59-f0dc-4089-baa6-9a219f1c09cb",
     "showTitle": false,
     "tableResultSettingsMap": {},
     "title": ""
    }
   },
   "outputs": [],
   "source": [
    "class RetailCloudLakehouseLabsContext(CloudLakehouseLabsContext):\n",
    "  def __init__(self):\n",
    "    super().__init__('retail')\n",
    "    self.__databaseForDLT = self.schema() + \"_dlt\"\n",
    "    self.__rawDataDirectory = \"/cloud_lakehouse_labs/retail/raw\"\n",
    "    self.__rawDataVolume = self.workingVolumeDirectory()\n",
    "    self.__deltaTablesDirectory = self.workingDirectory() + \"/delta_tables\"\n",
    "    self.__dltPipelinesOutputDataDirectory = self.__rawDataVolume + \"/dlt_pipelines\"\n",
    "\n",
    "  def dropAllDataAndSchema(self):\n",
    "    super().dropAllDataAndSchema()\n",
    "    try:\n",
    "      spark.sql('DROP DATABASE IF EXISTS hive_metastore.' + self.__databaseForDLT + ' CASCADE')\n",
    "    except Exception as e:\n",
    "      pass\n",
    "\n",
    "\n",
    "  def databaseForDLT(self): return self.__databaseForDLT\n",
    "  def databaseName(self): return self.schema()\n",
    "  def userNameId(self): return self.userId()\n",
    "  def rawDataDirectory(self): return self.__rawDataDirectory\n",
    "  def rawDataVolume(self): return self.__rawDataVolume\n",
    "  def deltaTablesDirectory(self): return self.__deltaTablesDirectory\n",
    "  def dltPipelinesOutputDataDirectory(self): return self.__dltPipelinesOutputDataDirectory\n",
    "  def modelNameForUser(self): return \"retail_churn_\" + self.userId()"
   ]
  },
  {
   "cell_type": "code",
   "execution_count": 0,
   "metadata": {
    "application/vnd.databricks.v1+cell": {
     "cellMetadata": {},
     "inputWidgets": {},
     "nuid": "d482688b-79f7-4a56-8473-abee0fbee2ff",
     "showTitle": false,
     "tableResultSettingsMap": {},
     "title": ""
    }
   },
   "outputs": [],
   "source": [
    "labContext = RetailCloudLakehouseLabsContext()\n",
    "databaseName = labContext.databaseName()\n",
    "userName = labContext.userNameId()\n",
    "databaseForDLT = labContext.databaseForDLT()\n",
    "rawDataDirectory = labContext.rawDataDirectory()\n",
    "rawDataVolume = labContext.rawDataVolume()\n",
    "deltaTablesDirectory = labContext.deltaTablesDirectory()\n",
    "dltPipelinesOutputDataDirectory = labContext.dltPipelinesOutputDataDirectory()\n",
    "modelName = labContext.modelNameForUser()"
   ]
  }
 ],
 "metadata": {
  "application/vnd.databricks.v1+notebook": {
   "dashboards": [],
   "environmentMetadata": null,
   "language": "python",
   "notebookMetadata": {
    "pythonIndentUnit": 2
   },
   "notebookName": "SetupLab",
   "widgets": {}
  },
  "language_info": {
   "name": "python"
  }
 },
 "nbformat": 4,
 "nbformat_minor": 0
}
